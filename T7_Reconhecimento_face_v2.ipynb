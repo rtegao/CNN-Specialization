{
  "nbformat": 4,
  "nbformat_minor": 0,
  "metadata": {
    "accelerator": "GPU",
    "colab": {
      "name": "T7_Reconhecimento_face_v2.ipynb",
      "provenance": [],
      "toc_visible": true,
      "include_colab_link": true
    },
    "coursera": {
      "course_slug": "convolutional-neural-networks",
      "graded_item_id": "IaknP",
      "launcher_item_id": "5UMr4"
    },
    "kernelspec": {
      "display_name": "Python 3",
      "language": "python",
      "name": "python3"
    },
    "language_info": {
      "codemirror_mode": {
        "name": "ipython",
        "version": 3
      },
      "file_extension": ".py",
      "mimetype": "text/x-python",
      "name": "python",
      "nbconvert_exporter": "python",
      "pygments_lexer": "ipython3",
      "version": "3.7.4"
    }
  },
  "cells": [
    {
      "cell_type": "markdown",
      "metadata": {
        "id": "view-in-github",
        "colab_type": "text"
      },
      "source": [
        "<a href=\"https://colab.research.google.com/github/rtegao/CNN-Specialization/blob/master/T7_Reconhecimento_face_v2.ipynb\" target=\"_parent\"><img src=\"https://colab.research.google.com/assets/colab-badge.svg\" alt=\"Open In Colab\"/></a>"
      ]
    },
    {
      "cell_type": "markdown",
      "metadata": {
        "colab_type": "text",
        "id": "63JwJ4zsEwnc"
      },
      "source": [
        "# Trabalho #7 - Reconhecimento de face\n",
        "\n",
        "Nesse trabalho você vai criar um sistema de reconhecimento de face. O método utilizado nesse trabalho é da referência [FaceNet](https://arxiv.org/pdf/1503.03832.pdf) que usa a função de custo tripla. Outro método visto em aula é o da referência [DeepFace](https://research.fb.com/wp-content/uploads/2016/11/deepface-closing-the-gap-to-human-level-performance-in-face-verification.pdf), que usa classificação binária. \n",
        "\n",
        "Os problemas de reconhecimento de rosto geralmente se enquadram em duas categorias:\n",
        "\n",
        "- **Verificação de rosto** - \"essa é a pessoa que diz ser?\" Por exemplo, em alguns aeroportos, você pode passar pela alfândega deixando um sistema escanear seu passaporte e depois verificar se você (a pessoa que carrega o passaporte) é a pessoa correta. Um celular que desbloqueia usando seu rosto também está usando verificação de rosto. Este é um problema de correspondência 1 para 1.\n",
        "- **Reconhecimento Facial** - \"quem é essa pessoa?\" Por exemplo, o vídeo mostrado na aula (https://www.youtube.com/watch?v=wr4rx0Spihs) de funcionários da Baidu que entraram no escritório sendo identificados pela face. Este é um problema de correspondência 1 para N.\n",
        "\n",
        "A FaceNet é uma rede neural que codifica uma imagem de rosto em um vetor de 128 números. Ao comparar dois desses vetores, é possível determinar se duas imagens são da mesma pessoa.\n",
        "\n",
        "**Nesta tarefa, você irá:**\n",
        "- Implementar a função de custo tripla;\n",
        "- Usar um modelo pré-treinado para mapear (codificar) imagens de rostos em vetores de 128 elementos;\n",
        "- Usar essas codificações para executar a verificação e reconhecimento de faces.\n",
        "\n",
        "Neste trabalho, usaremos um modelo pré-treinado que representa as ativações das camadas convolucionais usando a convenção do primeiro eixo ser dos canais (filtros), em oposição à convenção do último eixo ser dos canais como usada nas aulas e nos trabalhos anteriores. Em outras palavras, um lote de imagens tem a forma $(m, n_C, n_H, n_W)$ em vez de $(m, n_H, n_W, n_C)$. Ambas as convenções têm uma quantidade razoável de aplicações entre implementações de código aberto, sendo que ainda não existe um padrão uniforme na área de deep learning.\n",
        "\n",
        "Esse trabalho é adaptado de Andrew Ng (deeplearning.ai)\n"
      ]
    },
    {
      "cell_type": "markdown",
      "metadata": {
        "colab_type": "text",
        "id": "-oqgcNZDEwne"
      },
      "source": [
        "## Coloque os nomes e RAs dos alunos que fizeram esse trabalho\n",
        "\n",
        "Nome e número dos alunos da equipe:\n",
        "\n",
        "Aluno 1: Ricardo Rossi Tegao 20.83988-0\n",
        "\n",
        "Aluno 2: "
      ]
    },
    {
      "cell_type": "markdown",
      "metadata": {
        "id": "8R9MrLjuU9RM",
        "colab_type": "text"
      },
      "source": [
        "### Arquivos e subdiretórios necessários\n",
        "\n",
        "Nesse trabalho você precisa de dversoss arquivos:\n",
        "\n",
        "1) Diretório com imagens\n",
        "\n",
        "https://drive.google.com/drive/folders/1B7sIDnrH0ZpiWvNzmjUTnwblfrOlM-7Z?usp=sharing\n",
        "\n",
        "2) Diretório com arquivos de parãmetros da rede\n",
        "\n",
        "https://drive.google.com/drive/folders/11bAqlL2QEiYepSFIZt70b9g2YWFram3h?usp=sharing\n",
        "\n",
        "3) Diretório com base de dados\n",
        "\n",
        "https://drive.google.com/drive/folders/1uGv0eNo7pUJQjR5W3imxoE8Tto2o24aG?usp=sharing\n",
        "\n",
        "Faça o download desses diretórios e coloque-os com o mesmo nome no diretório onde estão os arquivos fr_util.py e inception_blocks_v2.py.\n",
        "\n",
        "Observa-se que a base de dados não é necessária para esse trabalho. Ela é necessária se você quiser retreinar a rede."
      ]
    },
    {
      "cell_type": "markdown",
      "metadata": {
        "colab_type": "text",
        "id": "uTPbOyLyEwnf"
      },
      "source": [
        "## Bibliotecas\n",
        "\n",
        "Execute as células abaixo para importar as bibliotecas necessárias para o trabalho."
      ]
    },
    {
      "cell_type": "code",
      "metadata": {
        "colab_type": "code",
        "id": "OOPpqxk6Ewnm",
        "colab": {
          "base_uri": "https://localhost:8080/",
          "height": 34
        },
        "outputId": "656ea3df-e24f-4cdd-a892-d003ff2f548a"
      },
      "source": [
        "from google.colab import drive\n",
        "drive.mount('/content/drive')"
      ],
      "execution_count": 1,
      "outputs": [
        {
          "output_type": "stream",
          "text": [
            "Drive already mounted at /content/drive; to attempt to forcibly remount, call drive.mount(\"/content/drive\", force_remount=True).\n"
          ],
          "name": "stdout"
        }
      ]
    },
    {
      "cell_type": "code",
      "metadata": {
        "colab_type": "code",
        "id": "lvPzrdwlEwnr",
        "colab": {
          "base_uri": "https://localhost:8080/",
          "height": 68
        },
        "outputId": "a981060c-7410-444c-82f6-5908789c061f"
      },
      "source": [
        "%cd /content/drive/My Drive/Specialization/Projects/Convolutional Neural Networks/T7 - Reconhecimento de Face\n",
        "!ls"
      ],
      "execution_count": 2,
      "outputs": [
        {
          "output_type": "stream",
          "text": [
            "/content/drive/My Drive/Specialization/Projects/Convolutional Neural Networks/T7 - Reconhecimento de Face\n",
            "datasets     images\t\t     __pycache__\t\t      weights\n",
            "fr_utils.py  inception_blocks_v2.py  T7_Reconhecimento_face_v2.ipynb\n"
          ],
          "name": "stdout"
        }
      ]
    },
    {
      "cell_type": "code",
      "metadata": {
        "colab_type": "code",
        "id": "S4PT-cREEwnv",
        "colab": {}
      },
      "source": [
        "import tensorflow as tf\n",
        "from tensorflow.keras.models import Sequential\n",
        "from tensorflow.keras.layers import Conv2D, ZeroPadding2D, Activation, Input, concatenate\n",
        "from tensorflow.keras.models import Model\n",
        "from tensorflow.keras.layers import BatchNormalization\n",
        "from tensorflow.keras.layers import MaxPooling2D, AveragePooling2D\n",
        "from tensorflow.keras.layers import Lambda, Flatten, Dense\n",
        "from tensorflow.keras.initializers import glorot_uniform\n",
        "from tensorflow.keras.layers import Layer\n",
        "from tensorflow.keras import backend as K\n",
        "K.set_image_data_format('channels_first')"
      ],
      "execution_count": 3,
      "outputs": []
    },
    {
      "cell_type": "code",
      "metadata": {
        "colab_type": "code",
        "id": "6hrS26lVEwn0",
        "colab": {}
      },
      "source": [
        "import cv2\n",
        "import os\n",
        "import numpy as np\n",
        "from numpy import genfromtxt\n",
        "import pandas as pd\n",
        "from fr_utils import *\n",
        "\n",
        "%matplotlib inline\n",
        "%load_ext autoreload\n",
        "%autoreload 2"
      ],
      "execution_count": 4,
      "outputs": []
    },
    {
      "cell_type": "markdown",
      "metadata": {
        "colab_type": "text",
        "id": "DhDpj-oYEwn4"
      },
      "source": [
        "## 1 - Verificação de rosto ingênua\n",
        "\n",
        "Na Verificação de rosto, você recebe duas imagens e precisa dizer se elas são da mesma pessoa. A maneira mais simples de tentar fazer isso seria comparar as duas imagens pixel por pixel. Se a distância entre as imagens for menor que o limite escolhido, pode ser a mesma pessoa!\n",
        "\n",
        "<img src=\"images/pixel_comparison.png\" style=\"width:380px;height:150px;\">\n",
        "<caption><center> <font color='purple'> Figura 1 </center></caption>"
      ]
    },
    {
      "cell_type": "markdown",
      "metadata": {
        "colab_type": "text",
        "collapsed": true,
        "id": "WV_CbCvFEwn5"
      },
      "source": [
        "Obviamente, esse algoritmo apresenta um desempenho muito ruim, pois os valores dos pixels mudam drasticamente devido a variações na iluminação, orientação do rosto da pessoa, alterações na posição da cabeça e assim por diante.\n",
        "\n",
        "Vimos em aula que em vez de usar a imagem não processada, utiliza-se uma codificação $f(img)$ da imagem para que as comparações entre elementos dessa codificação forneçam julgamentos mais precisos sobre se duas imagens são da mesma pessoa."
      ]
    },
    {
      "cell_type": "markdown",
      "metadata": {
        "colab_type": "text",
        "id": "oHxoGGVKEwn6"
      },
      "source": [
        "## 2 - Codificando imagens de rosto em um vetor de 128 elementos\n",
        "\n",
        "### 2.1 - Uso de uma rede convolucional para calcular as codificações\n",
        "\n",
        "A rede FaceNet necessita de muitos dados e muito tempo para ser treinada. Portanto, seguindo a prática comum em desenvolvimento de redes deep learning, vamos utilizar uma rede pré-treinada. A arquitetura dessa rede segue o modelo de  [Szegedy et al.] (Https://arxiv.org/abs/1409.4842). Essa rede é do tipo \"inception\" e está configurada no arquivo `inception_blocks.py`. Dê um olhada no arquivo para para ver como ela é implementada.  "
      ]
    },
    {
      "cell_type": "markdown",
      "metadata": {
        "colab_type": "text",
        "id": "G8WgFbv2Ewn7"
      },
      "source": [
        "As principais coisas que você precisa saber a rede FaceNet são:\n",
        "\n",
        "- Esta rede usa imagens RGB com resolução de 96x96x3 pixels como entrada. Especificamente, a entrada é uma imagem de rosto (ou um lote de $m$ imagens de rostos) na forma de um tensor de dimensão $(m, n_C, n_H, n_W) = (m, 3, 96, 96)$;\n",
        "- A saída dessa rede é uma matriz de dimensão $(m, 128)$ que codifica cada imagem de face em um vetor de 128 elementos.\n",
        "\n",
        "Execute a célula abaixo para criar a rede que codifica imagens de rosto."
      ]
    },
    {
      "cell_type": "code",
      "metadata": {
        "colab_type": "code",
        "id": "LpUyGlSfEwn8",
        "colab": {
          "base_uri": "https://localhost:8080/",
          "height": 5712
        },
        "outputId": "5e13757d-0b28-46e6-d6eb-c3b07950afa1"
      },
      "source": [
        "from inception_blocks_v2 import *\n",
        "FRmodel = faceRecoModel(input_shape=(3, 96, 96))\n",
        "FRmodel.summary()"
      ],
      "execution_count": 5,
      "outputs": [
        {
          "output_type": "stream",
          "text": [
            "Model: \"FaceRecoModel\"\n",
            "__________________________________________________________________________________________________\n",
            "Layer (type)                    Output Shape         Param #     Connected to                     \n",
            "==================================================================================================\n",
            "input_1 (InputLayer)            [(None, 3, 96, 96)]  0                                            \n",
            "__________________________________________________________________________________________________\n",
            "zero_padding2d (ZeroPadding2D)  (None, 3, 102, 102)  0           input_1[0][0]                    \n",
            "__________________________________________________________________________________________________\n",
            "conv1 (Conv2D)                  (None, 64, 48, 48)   9472        zero_padding2d[0][0]             \n",
            "__________________________________________________________________________________________________\n",
            "bn1 (BatchNormalization)        (None, 64, 48, 48)   256         conv1[0][0]                      \n",
            "__________________________________________________________________________________________________\n",
            "activation (Activation)         (None, 64, 48, 48)   0           bn1[0][0]                        \n",
            "__________________________________________________________________________________________________\n",
            "zero_padding2d_1 (ZeroPadding2D (None, 64, 50, 50)   0           activation[0][0]                 \n",
            "__________________________________________________________________________________________________\n",
            "max_pooling2d (MaxPooling2D)    (None, 64, 24, 24)   0           zero_padding2d_1[0][0]           \n",
            "__________________________________________________________________________________________________\n",
            "conv2 (Conv2D)                  (None, 64, 24, 24)   4160        max_pooling2d[0][0]              \n",
            "__________________________________________________________________________________________________\n",
            "bn2 (BatchNormalization)        (None, 64, 24, 24)   256         conv2[0][0]                      \n",
            "__________________________________________________________________________________________________\n",
            "activation_1 (Activation)       (None, 64, 24, 24)   0           bn2[0][0]                        \n",
            "__________________________________________________________________________________________________\n",
            "zero_padding2d_2 (ZeroPadding2D (None, 64, 26, 26)   0           activation_1[0][0]               \n",
            "__________________________________________________________________________________________________\n",
            "conv3 (Conv2D)                  (None, 192, 24, 24)  110784      zero_padding2d_2[0][0]           \n",
            "__________________________________________________________________________________________________\n",
            "bn3 (BatchNormalization)        (None, 192, 24, 24)  768         conv3[0][0]                      \n",
            "__________________________________________________________________________________________________\n",
            "activation_2 (Activation)       (None, 192, 24, 24)  0           bn3[0][0]                        \n",
            "__________________________________________________________________________________________________\n",
            "zero_padding2d_3 (ZeroPadding2D (None, 192, 26, 26)  0           activation_2[0][0]               \n",
            "__________________________________________________________________________________________________\n",
            "max_pooling2d_1 (MaxPooling2D)  (None, 192, 12, 12)  0           zero_padding2d_3[0][0]           \n",
            "__________________________________________________________________________________________________\n",
            "inception_3a_3x3_conv1 (Conv2D) (None, 96, 12, 12)   18528       max_pooling2d_1[0][0]            \n",
            "__________________________________________________________________________________________________\n",
            "inception_3a_5x5_conv1 (Conv2D) (None, 16, 12, 12)   3088        max_pooling2d_1[0][0]            \n",
            "__________________________________________________________________________________________________\n",
            "inception_3a_3x3_bn1 (BatchNorm (None, 96, 12, 12)   384         inception_3a_3x3_conv1[0][0]     \n",
            "__________________________________________________________________________________________________\n",
            "inception_3a_5x5_bn1 (BatchNorm (None, 16, 12, 12)   64          inception_3a_5x5_conv1[0][0]     \n",
            "__________________________________________________________________________________________________\n",
            "activation_3 (Activation)       (None, 96, 12, 12)   0           inception_3a_3x3_bn1[0][0]       \n",
            "__________________________________________________________________________________________________\n",
            "activation_5 (Activation)       (None, 16, 12, 12)   0           inception_3a_5x5_bn1[0][0]       \n",
            "__________________________________________________________________________________________________\n",
            "max_pooling2d_2 (MaxPooling2D)  (None, 192, 5, 5)    0           max_pooling2d_1[0][0]            \n",
            "__________________________________________________________________________________________________\n",
            "zero_padding2d_4 (ZeroPadding2D (None, 96, 14, 14)   0           activation_3[0][0]               \n",
            "__________________________________________________________________________________________________\n",
            "zero_padding2d_5 (ZeroPadding2D (None, 16, 16, 16)   0           activation_5[0][0]               \n",
            "__________________________________________________________________________________________________\n",
            "inception_3a_pool_conv (Conv2D) (None, 32, 5, 5)     6176        max_pooling2d_2[0][0]            \n",
            "__________________________________________________________________________________________________\n",
            "inception_3a_3x3_conv2 (Conv2D) (None, 128, 12, 12)  110720      zero_padding2d_4[0][0]           \n",
            "__________________________________________________________________________________________________\n",
            "inception_3a_5x5_conv2 (Conv2D) (None, 32, 12, 12)   12832       zero_padding2d_5[0][0]           \n",
            "__________________________________________________________________________________________________\n",
            "inception_3a_pool_bn (BatchNorm (None, 32, 5, 5)     128         inception_3a_pool_conv[0][0]     \n",
            "__________________________________________________________________________________________________\n",
            "inception_3a_1x1_conv (Conv2D)  (None, 64, 12, 12)   12352       max_pooling2d_1[0][0]            \n",
            "__________________________________________________________________________________________________\n",
            "inception_3a_3x3_bn2 (BatchNorm (None, 128, 12, 12)  512         inception_3a_3x3_conv2[0][0]     \n",
            "__________________________________________________________________________________________________\n",
            "inception_3a_5x5_bn2 (BatchNorm (None, 32, 12, 12)   128         inception_3a_5x5_conv2[0][0]     \n",
            "__________________________________________________________________________________________________\n",
            "activation_7 (Activation)       (None, 32, 5, 5)     0           inception_3a_pool_bn[0][0]       \n",
            "__________________________________________________________________________________________________\n",
            "inception_3a_1x1_bn (BatchNorma (None, 64, 12, 12)   256         inception_3a_1x1_conv[0][0]      \n",
            "__________________________________________________________________________________________________\n",
            "activation_4 (Activation)       (None, 128, 12, 12)  0           inception_3a_3x3_bn2[0][0]       \n",
            "__________________________________________________________________________________________________\n",
            "activation_6 (Activation)       (None, 32, 12, 12)   0           inception_3a_5x5_bn2[0][0]       \n",
            "__________________________________________________________________________________________________\n",
            "zero_padding2d_6 (ZeroPadding2D (None, 32, 12, 12)   0           activation_7[0][0]               \n",
            "__________________________________________________________________________________________________\n",
            "activation_8 (Activation)       (None, 64, 12, 12)   0           inception_3a_1x1_bn[0][0]        \n",
            "__________________________________________________________________________________________________\n",
            "concatenate (Concatenate)       (None, 256, 12, 12)  0           activation_4[0][0]               \n",
            "                                                                 activation_6[0][0]               \n",
            "                                                                 zero_padding2d_6[0][0]           \n",
            "                                                                 activation_8[0][0]               \n",
            "__________________________________________________________________________________________________\n",
            "inception_3b_3x3_conv1 (Conv2D) (None, 96, 12, 12)   24672       concatenate[0][0]                \n",
            "__________________________________________________________________________________________________\n",
            "inception_3b_5x5_conv1 (Conv2D) (None, 32, 12, 12)   8224        concatenate[0][0]                \n",
            "__________________________________________________________________________________________________\n",
            "inception_3b_3x3_bn1 (BatchNorm (None, 96, 12, 12)   384         inception_3b_3x3_conv1[0][0]     \n",
            "__________________________________________________________________________________________________\n",
            "inception_3b_5x5_bn1 (BatchNorm (None, 32, 12, 12)   128         inception_3b_5x5_conv1[0][0]     \n",
            "__________________________________________________________________________________________________\n",
            "activation_9 (Activation)       (None, 96, 12, 12)   0           inception_3b_3x3_bn1[0][0]       \n",
            "__________________________________________________________________________________________________\n",
            "activation_11 (Activation)      (None, 32, 12, 12)   0           inception_3b_5x5_bn1[0][0]       \n",
            "__________________________________________________________________________________________________\n",
            "average_pooling2d (AveragePooli (None, 256, 4, 4)    0           concatenate[0][0]                \n",
            "__________________________________________________________________________________________________\n",
            "zero_padding2d_7 (ZeroPadding2D (None, 96, 14, 14)   0           activation_9[0][0]               \n",
            "__________________________________________________________________________________________________\n",
            "zero_padding2d_8 (ZeroPadding2D (None, 32, 16, 16)   0           activation_11[0][0]              \n",
            "__________________________________________________________________________________________________\n",
            "inception_3b_pool_conv (Conv2D) (None, 64, 4, 4)     16448       average_pooling2d[0][0]          \n",
            "__________________________________________________________________________________________________\n",
            "inception_3b_3x3_conv2 (Conv2D) (None, 128, 12, 12)  110720      zero_padding2d_7[0][0]           \n",
            "__________________________________________________________________________________________________\n",
            "inception_3b_5x5_conv2 (Conv2D) (None, 64, 12, 12)   51264       zero_padding2d_8[0][0]           \n",
            "__________________________________________________________________________________________________\n",
            "inception_3b_pool_bn (BatchNorm (None, 64, 4, 4)     256         inception_3b_pool_conv[0][0]     \n",
            "__________________________________________________________________________________________________\n",
            "inception_3b_1x1_conv (Conv2D)  (None, 64, 12, 12)   16448       concatenate[0][0]                \n",
            "__________________________________________________________________________________________________\n",
            "inception_3b_3x3_bn2 (BatchNorm (None, 128, 12, 12)  512         inception_3b_3x3_conv2[0][0]     \n",
            "__________________________________________________________________________________________________\n",
            "inception_3b_5x5_bn2 (BatchNorm (None, 64, 12, 12)   256         inception_3b_5x5_conv2[0][0]     \n",
            "__________________________________________________________________________________________________\n",
            "activation_13 (Activation)      (None, 64, 4, 4)     0           inception_3b_pool_bn[0][0]       \n",
            "__________________________________________________________________________________________________\n",
            "inception_3b_1x1_bn (BatchNorma (None, 64, 12, 12)   256         inception_3b_1x1_conv[0][0]      \n",
            "__________________________________________________________________________________________________\n",
            "activation_10 (Activation)      (None, 128, 12, 12)  0           inception_3b_3x3_bn2[0][0]       \n",
            "__________________________________________________________________________________________________\n",
            "activation_12 (Activation)      (None, 64, 12, 12)   0           inception_3b_5x5_bn2[0][0]       \n",
            "__________________________________________________________________________________________________\n",
            "zero_padding2d_9 (ZeroPadding2D (None, 64, 12, 12)   0           activation_13[0][0]              \n",
            "__________________________________________________________________________________________________\n",
            "activation_14 (Activation)      (None, 64, 12, 12)   0           inception_3b_1x1_bn[0][0]        \n",
            "__________________________________________________________________________________________________\n",
            "concatenate_1 (Concatenate)     (None, 320, 12, 12)  0           activation_10[0][0]              \n",
            "                                                                 activation_12[0][0]              \n",
            "                                                                 zero_padding2d_9[0][0]           \n",
            "                                                                 activation_14[0][0]              \n",
            "__________________________________________________________________________________________________\n",
            "inception_3c_3x3_conv1 (Conv2D) (None, 128, 12, 12)  41088       concatenate_1[0][0]              \n",
            "__________________________________________________________________________________________________\n",
            "inception_3c_5x5_conv1 (Conv2D) (None, 32, 12, 12)   10272       concatenate_1[0][0]              \n",
            "__________________________________________________________________________________________________\n",
            "inception_3c_3x3_bn1 (BatchNorm (None, 128, 12, 12)  512         inception_3c_3x3_conv1[0][0]     \n",
            "__________________________________________________________________________________________________\n",
            "inception_3c_5x5_bn1 (BatchNorm (None, 32, 12, 12)   128         inception_3c_5x5_conv1[0][0]     \n",
            "__________________________________________________________________________________________________\n",
            "activation_15 (Activation)      (None, 128, 12, 12)  0           inception_3c_3x3_bn1[0][0]       \n",
            "__________________________________________________________________________________________________\n",
            "activation_17 (Activation)      (None, 32, 12, 12)   0           inception_3c_5x5_bn1[0][0]       \n",
            "__________________________________________________________________________________________________\n",
            "zero_padding2d_10 (ZeroPadding2 (None, 128, 14, 14)  0           activation_15[0][0]              \n",
            "__________________________________________________________________________________________________\n",
            "zero_padding2d_11 (ZeroPadding2 (None, 32, 16, 16)   0           activation_17[0][0]              \n",
            "__________________________________________________________________________________________________\n",
            "inception_3c_3x3_conv2 (Conv2D) (None, 256, 6, 6)    295168      zero_padding2d_10[0][0]          \n",
            "__________________________________________________________________________________________________\n",
            "inception_3c_5x5_conv2 (Conv2D) (None, 64, 6, 6)     51264       zero_padding2d_11[0][0]          \n",
            "__________________________________________________________________________________________________\n",
            "inception_3c_3x3_bn2 (BatchNorm (None, 256, 6, 6)    1024        inception_3c_3x3_conv2[0][0]     \n",
            "__________________________________________________________________________________________________\n",
            "inception_3c_5x5_bn2 (BatchNorm (None, 64, 6, 6)     256         inception_3c_5x5_conv2[0][0]     \n",
            "__________________________________________________________________________________________________\n",
            "max_pooling2d_3 (MaxPooling2D)  (None, 320, 5, 5)    0           concatenate_1[0][0]              \n",
            "__________________________________________________________________________________________________\n",
            "activation_16 (Activation)      (None, 256, 6, 6)    0           inception_3c_3x3_bn2[0][0]       \n",
            "__________________________________________________________________________________________________\n",
            "activation_18 (Activation)      (None, 64, 6, 6)     0           inception_3c_5x5_bn2[0][0]       \n",
            "__________________________________________________________________________________________________\n",
            "zero_padding2d_12 (ZeroPadding2 (None, 320, 6, 6)    0           max_pooling2d_3[0][0]            \n",
            "__________________________________________________________________________________________________\n",
            "concatenate_2 (Concatenate)     (None, 640, 6, 6)    0           activation_16[0][0]              \n",
            "                                                                 activation_18[0][0]              \n",
            "                                                                 zero_padding2d_12[0][0]          \n",
            "__________________________________________________________________________________________________\n",
            "inception_4a_3x3_conv1 (Conv2D) (None, 96, 6, 6)     61536       concatenate_2[0][0]              \n",
            "__________________________________________________________________________________________________\n",
            "inception_4a_5x5_conv1 (Conv2D) (None, 32, 6, 6)     20512       concatenate_2[0][0]              \n",
            "__________________________________________________________________________________________________\n",
            "inception_4a_3x3_bn1 (BatchNorm (None, 96, 6, 6)     384         inception_4a_3x3_conv1[0][0]     \n",
            "__________________________________________________________________________________________________\n",
            "inception_4a_5x5_bn1 (BatchNorm (None, 32, 6, 6)     128         inception_4a_5x5_conv1[0][0]     \n",
            "__________________________________________________________________________________________________\n",
            "activation_19 (Activation)      (None, 96, 6, 6)     0           inception_4a_3x3_bn1[0][0]       \n",
            "__________________________________________________________________________________________________\n",
            "activation_21 (Activation)      (None, 32, 6, 6)     0           inception_4a_5x5_bn1[0][0]       \n",
            "__________________________________________________________________________________________________\n",
            "average_pooling2d_1 (AveragePoo (None, 640, 2, 2)    0           concatenate_2[0][0]              \n",
            "__________________________________________________________________________________________________\n",
            "zero_padding2d_13 (ZeroPadding2 (None, 96, 8, 8)     0           activation_19[0][0]              \n",
            "__________________________________________________________________________________________________\n",
            "zero_padding2d_14 (ZeroPadding2 (None, 32, 10, 10)   0           activation_21[0][0]              \n",
            "__________________________________________________________________________________________________\n",
            "inception_4a_pool_conv (Conv2D) (None, 128, 2, 2)    82048       average_pooling2d_1[0][0]        \n",
            "__________________________________________________________________________________________________\n",
            "inception_4a_3x3_conv2 (Conv2D) (None, 192, 6, 6)    166080      zero_padding2d_13[0][0]          \n",
            "__________________________________________________________________________________________________\n",
            "inception_4a_5x5_conv2 (Conv2D) (None, 64, 6, 6)     51264       zero_padding2d_14[0][0]          \n",
            "__________________________________________________________________________________________________\n",
            "inception_4a_pool_bn (BatchNorm (None, 128, 2, 2)    512         inception_4a_pool_conv[0][0]     \n",
            "__________________________________________________________________________________________________\n",
            "inception_4a_1x1_conv (Conv2D)  (None, 256, 6, 6)    164096      concatenate_2[0][0]              \n",
            "__________________________________________________________________________________________________\n",
            "inception_4a_3x3_bn2 (BatchNorm (None, 192, 6, 6)    768         inception_4a_3x3_conv2[0][0]     \n",
            "__________________________________________________________________________________________________\n",
            "inception_4a_5x5_bn2 (BatchNorm (None, 64, 6, 6)     256         inception_4a_5x5_conv2[0][0]     \n",
            "__________________________________________________________________________________________________\n",
            "activation_23 (Activation)      (None, 128, 2, 2)    0           inception_4a_pool_bn[0][0]       \n",
            "__________________________________________________________________________________________________\n",
            "inception_4a_1x1_bn (BatchNorma (None, 256, 6, 6)    1024        inception_4a_1x1_conv[0][0]      \n",
            "__________________________________________________________________________________________________\n",
            "activation_20 (Activation)      (None, 192, 6, 6)    0           inception_4a_3x3_bn2[0][0]       \n",
            "__________________________________________________________________________________________________\n",
            "activation_22 (Activation)      (None, 64, 6, 6)     0           inception_4a_5x5_bn2[0][0]       \n",
            "__________________________________________________________________________________________________\n",
            "zero_padding2d_15 (ZeroPadding2 (None, 128, 6, 6)    0           activation_23[0][0]              \n",
            "__________________________________________________________________________________________________\n",
            "activation_24 (Activation)      (None, 256, 6, 6)    0           inception_4a_1x1_bn[0][0]        \n",
            "__________________________________________________________________________________________________\n",
            "concatenate_3 (Concatenate)     (None, 640, 6, 6)    0           activation_20[0][0]              \n",
            "                                                                 activation_22[0][0]              \n",
            "                                                                 zero_padding2d_15[0][0]          \n",
            "                                                                 activation_24[0][0]              \n",
            "__________________________________________________________________________________________________\n",
            "inception_4e_3x3_conv1 (Conv2D) (None, 160, 6, 6)    102560      concatenate_3[0][0]              \n",
            "__________________________________________________________________________________________________\n",
            "inception_4e_5x5_conv1 (Conv2D) (None, 64, 6, 6)     41024       concatenate_3[0][0]              \n",
            "__________________________________________________________________________________________________\n",
            "inception_4e_3x3_bn1 (BatchNorm (None, 160, 6, 6)    640         inception_4e_3x3_conv1[0][0]     \n",
            "__________________________________________________________________________________________________\n",
            "inception_4e_5x5_bn1 (BatchNorm (None, 64, 6, 6)     256         inception_4e_5x5_conv1[0][0]     \n",
            "__________________________________________________________________________________________________\n",
            "activation_25 (Activation)      (None, 160, 6, 6)    0           inception_4e_3x3_bn1[0][0]       \n",
            "__________________________________________________________________________________________________\n",
            "activation_27 (Activation)      (None, 64, 6, 6)     0           inception_4e_5x5_bn1[0][0]       \n",
            "__________________________________________________________________________________________________\n",
            "zero_padding2d_16 (ZeroPadding2 (None, 160, 8, 8)    0           activation_25[0][0]              \n",
            "__________________________________________________________________________________________________\n",
            "zero_padding2d_17 (ZeroPadding2 (None, 64, 10, 10)   0           activation_27[0][0]              \n",
            "__________________________________________________________________________________________________\n",
            "inception_4e_3x3_conv2 (Conv2D) (None, 256, 3, 3)    368896      zero_padding2d_16[0][0]          \n",
            "__________________________________________________________________________________________________\n",
            "inception_4e_5x5_conv2 (Conv2D) (None, 128, 3, 3)    204928      zero_padding2d_17[0][0]          \n",
            "__________________________________________________________________________________________________\n",
            "inception_4e_3x3_bn2 (BatchNorm (None, 256, 3, 3)    1024        inception_4e_3x3_conv2[0][0]     \n",
            "__________________________________________________________________________________________________\n",
            "inception_4e_5x5_bn2 (BatchNorm (None, 128, 3, 3)    512         inception_4e_5x5_conv2[0][0]     \n",
            "__________________________________________________________________________________________________\n",
            "max_pooling2d_4 (MaxPooling2D)  (None, 640, 2, 2)    0           concatenate_3[0][0]              \n",
            "__________________________________________________________________________________________________\n",
            "activation_26 (Activation)      (None, 256, 3, 3)    0           inception_4e_3x3_bn2[0][0]       \n",
            "__________________________________________________________________________________________________\n",
            "activation_28 (Activation)      (None, 128, 3, 3)    0           inception_4e_5x5_bn2[0][0]       \n",
            "__________________________________________________________________________________________________\n",
            "zero_padding2d_18 (ZeroPadding2 (None, 640, 3, 3)    0           max_pooling2d_4[0][0]            \n",
            "__________________________________________________________________________________________________\n",
            "concatenate_4 (Concatenate)     (None, 1024, 3, 3)   0           activation_26[0][0]              \n",
            "                                                                 activation_28[0][0]              \n",
            "                                                                 zero_padding2d_18[0][0]          \n",
            "__________________________________________________________________________________________________\n",
            "inception_5a_3x3_conv1 (Conv2D) (None, 96, 3, 3)     98400       concatenate_4[0][0]              \n",
            "__________________________________________________________________________________________________\n",
            "inception_5a_3x3_bn1 (BatchNorm (None, 96, 3, 3)     384         inception_5a_3x3_conv1[0][0]     \n",
            "__________________________________________________________________________________________________\n",
            "activation_29 (Activation)      (None, 96, 3, 3)     0           inception_5a_3x3_bn1[0][0]       \n",
            "__________________________________________________________________________________________________\n",
            "average_pooling2d_2 (AveragePoo (None, 1024, 1, 1)   0           concatenate_4[0][0]              \n",
            "__________________________________________________________________________________________________\n",
            "zero_padding2d_19 (ZeroPadding2 (None, 96, 5, 5)     0           activation_29[0][0]              \n",
            "__________________________________________________________________________________________________\n",
            "inception_5a_pool_conv (Conv2D) (None, 96, 1, 1)     98400       average_pooling2d_2[0][0]        \n",
            "__________________________________________________________________________________________________\n",
            "inception_5a_3x3_conv2 (Conv2D) (None, 384, 3, 3)    332160      zero_padding2d_19[0][0]          \n",
            "__________________________________________________________________________________________________\n",
            "inception_5a_pool_bn (BatchNorm (None, 96, 1, 1)     384         inception_5a_pool_conv[0][0]     \n",
            "__________________________________________________________________________________________________\n",
            "inception_5a_1x1_conv (Conv2D)  (None, 256, 3, 3)    262400      concatenate_4[0][0]              \n",
            "__________________________________________________________________________________________________\n",
            "inception_5a_3x3_bn2 (BatchNorm (None, 384, 3, 3)    1536        inception_5a_3x3_conv2[0][0]     \n",
            "__________________________________________________________________________________________________\n",
            "activation_31 (Activation)      (None, 96, 1, 1)     0           inception_5a_pool_bn[0][0]       \n",
            "__________________________________________________________________________________________________\n",
            "inception_5a_1x1_bn (BatchNorma (None, 256, 3, 3)    1024        inception_5a_1x1_conv[0][0]      \n",
            "__________________________________________________________________________________________________\n",
            "activation_30 (Activation)      (None, 384, 3, 3)    0           inception_5a_3x3_bn2[0][0]       \n",
            "__________________________________________________________________________________________________\n",
            "zero_padding2d_20 (ZeroPadding2 (None, 96, 3, 3)     0           activation_31[0][0]              \n",
            "__________________________________________________________________________________________________\n",
            "activation_32 (Activation)      (None, 256, 3, 3)    0           inception_5a_1x1_bn[0][0]        \n",
            "__________________________________________________________________________________________________\n",
            "concatenate_5 (Concatenate)     (None, 736, 3, 3)    0           activation_30[0][0]              \n",
            "                                                                 zero_padding2d_20[0][0]          \n",
            "                                                                 activation_32[0][0]              \n",
            "__________________________________________________________________________________________________\n",
            "inception_5b_3x3_conv1 (Conv2D) (None, 96, 3, 3)     70752       concatenate_5[0][0]              \n",
            "__________________________________________________________________________________________________\n",
            "inception_5b_3x3_bn1 (BatchNorm (None, 96, 3, 3)     384         inception_5b_3x3_conv1[0][0]     \n",
            "__________________________________________________________________________________________________\n",
            "activation_33 (Activation)      (None, 96, 3, 3)     0           inception_5b_3x3_bn1[0][0]       \n",
            "__________________________________________________________________________________________________\n",
            "max_pooling2d_5 (MaxPooling2D)  (None, 736, 1, 1)    0           concatenate_5[0][0]              \n",
            "__________________________________________________________________________________________________\n",
            "zero_padding2d_21 (ZeroPadding2 (None, 96, 5, 5)     0           activation_33[0][0]              \n",
            "__________________________________________________________________________________________________\n",
            "inception_5b_pool_conv (Conv2D) (None, 96, 1, 1)     70752       max_pooling2d_5[0][0]            \n",
            "__________________________________________________________________________________________________\n",
            "inception_5b_3x3_conv2 (Conv2D) (None, 384, 3, 3)    332160      zero_padding2d_21[0][0]          \n",
            "__________________________________________________________________________________________________\n",
            "inception_5b_pool_bn (BatchNorm (None, 96, 1, 1)     384         inception_5b_pool_conv[0][0]     \n",
            "__________________________________________________________________________________________________\n",
            "inception_5b_1x1_conv (Conv2D)  (None, 256, 3, 3)    188672      concatenate_5[0][0]              \n",
            "__________________________________________________________________________________________________\n",
            "inception_5b_3x3_bn2 (BatchNorm (None, 384, 3, 3)    1536        inception_5b_3x3_conv2[0][0]     \n",
            "__________________________________________________________________________________________________\n",
            "activation_35 (Activation)      (None, 96, 1, 1)     0           inception_5b_pool_bn[0][0]       \n",
            "__________________________________________________________________________________________________\n",
            "inception_5b_1x1_bn (BatchNorma (None, 256, 3, 3)    1024        inception_5b_1x1_conv[0][0]      \n",
            "__________________________________________________________________________________________________\n",
            "activation_34 (Activation)      (None, 384, 3, 3)    0           inception_5b_3x3_bn2[0][0]       \n",
            "__________________________________________________________________________________________________\n",
            "zero_padding2d_22 (ZeroPadding2 (None, 96, 3, 3)     0           activation_35[0][0]              \n",
            "__________________________________________________________________________________________________\n",
            "activation_36 (Activation)      (None, 256, 3, 3)    0           inception_5b_1x1_bn[0][0]        \n",
            "__________________________________________________________________________________________________\n",
            "concatenate_6 (Concatenate)     (None, 736, 3, 3)    0           activation_34[0][0]              \n",
            "                                                                 zero_padding2d_22[0][0]          \n",
            "                                                                 activation_36[0][0]              \n",
            "__________________________________________________________________________________________________\n",
            "average_pooling2d_3 (AveragePoo (None, 736, 1, 1)    0           concatenate_6[0][0]              \n",
            "__________________________________________________________________________________________________\n",
            "flatten (Flatten)               (None, 736)          0           average_pooling2d_3[0][0]        \n",
            "__________________________________________________________________________________________________\n",
            "dense_layer (Dense)             (None, 128)          94336       flatten[0][0]                    \n",
            "__________________________________________________________________________________________________\n",
            "lambda (Lambda)                 (None, 128)          0           dense_layer[0][0]                \n",
            "==================================================================================================\n",
            "Total params: 3,743,280\n",
            "Trainable params: 3,733,968\n",
            "Non-trainable params: 9,312\n",
            "__________________________________________________________________________________________________\n"
          ],
          "name": "stdout"
        }
      ]
    },
    {
      "cell_type": "markdown",
      "metadata": {
        "colab_type": "text",
        "id": "AJ6G3ABMEwoA"
      },
      "source": [
        "Note que essa rede possui cerca de 3,7 milhões de parâmetros.\n",
        "\n",
        "Analise a configuração dessa rede e observe os seguintes pontos:\n",
        "\n",
        "- As camadas convolucionais realizam o processo de \"batch normalization\";\n",
        "- Essa rede possui vários módulos \"inceptions\";\n",
        "- A última camada da rede é uma camada densa com 128 unidades, responsável por gerar na saída da rede um vetro de 128 elementos."
      ]
    },
    {
      "cell_type": "markdown",
      "metadata": {
        "colab_type": "text",
        "id": "CS1uLUJTEwoB"
      },
      "source": [
        "Ao usar uma camada totalmente conectada de 128 neurônios como última camada, a rede garante que a saída seja um vetor de codificação de 128 elementos. Esse vetor é então usado para comparar duas imagens de rosto. A Figura 2 mostra o processo utilizado para comparar duas imagens de rosto.\n",
        "\n",
        "<img src=\"images/distance_RNA.png\" style=\"width:680px;height:250px;\">\n",
        "<caption><center> <font color='purple'> Figura 2 <br> <font color='purple'> </center></caption>\n",
        "    \n",
        "Ao calcular a distância entre duas codificações e comparando com um limar, pode-se determinar se as duas imagens representam a mesma pessoa. \n",
        "\n",
        "Portanto, uma codificação é boa se:\n",
        "- As codificações de duas imagens de um amesma pessoa são bastante semelhantes entre si;\n",
        "- As codificações de duas imagens de pessoas diferentes são muito diferentes.\n",
        "\n",
        "A função de custo tripla formaliza esse processo ao \"aproximar\" as codificações de duas imagens da mesma pessoa (referência e positiva) e \"separar\" as codificações de duas imagens de pessoas diferentes (referência e negativa).\n",
        "\n",
        "<img src=\"images/triplet_comparison.png\" style=\"width:280px;height:150px;\">\n",
        "<br>\n",
        "<caption><center> <font color='purple'> Figura 3 <br> <font color='purple'> </center></caption>"
      ]
    },
    {
      "cell_type": "markdown",
      "metadata": {
        "colab_type": "text",
        "id": "eYtPOW-xEwoC"
      },
      "source": [
        "### 2.2 - Função de custo tripla\n",
        "\n",
        "Para uma imagem $X$, denotamos a sua codificação por $f(X)$, onde $f$ é uma função calculada pela rede neural.\n",
        "\n",
        "<img src=\"images/f_x.png\" style=\"width:380px;height:150px;\">\n",
        "<caption><center> <font color='purple'> Figura 4 <br>  <font color='purple'> </center></caption>\n",
        "\n",
        "\n",
        "Após a codificação realizada pela rede neural, os vetores $f(X)$ são normalizados para ter norma igual a 1, ou seja:\n",
        "\n",
        "$$\\mid \\mid f(x) \\mid \\mid_2 = 1$$\n",
        "\n",
        "\n",
        "O treinamemnto da rede usa três imagens $(R, P, N)$:  \n",
        "\n",
        "- $R$ é a imagem de \"Referência\" de uma pessoa;\n",
        "- $P$ é a imagem \"Positiva\", ou seja, uma imagem da mesma pessoa da imagem de \"Referência\";\n",
        "- $N$ é a imagem \"Negativa\", ou seja, uma imagem de uma pessoa diferente da imagem de \"Referência\".\n",
        "\n",
        "Esses conjuntos de 3 imagens (triplas) são escolhidos dos exemplos de treinamento. Usaremos a notação $(R^{(i)}, P^{(i)}, N^{(i)})$ para representar o $i$-ésimo exemplo de treinamento, que consiste de 3 imagens.\n",
        "\n",
        "Deseja-se garantir que a imagem $R ^{(i)}$ de um indivíduo esteja mais próxima da imagem positiva $P^{(i)}$ do que da imagem negativa $N^{(i)}$ por pelo menos uma margem $\\alpha$. Esse critério é descrito pela seguinte equação:\n",
        "\n",
        "$$\\mid\\mid f(R^{(i)}) - f(P^{(i)}) \\mid\\mid_2^2 + \\alpha < \\mid\\mid f(R^{(i)}) - f(N^{(i)}) \\mid\\mid_2^2$$\n",
        "\n",
        "Assim é desejado minimizar a seguinte fução de custo tripl:\n",
        "\n",
        "$$\\mathcal{J} = \\sum^{m}_{i=1} max \\large[ \\small \\underbrace{\\mid \\mid f(R^{(i)}) - f(P^{(i)}) \\mid \\mid_2^2}_\\text{(1)} - \\underbrace{\\mid \\mid f(R^{(i)}) - f(N^{(i)}) \\mid \\mid_2^2}_\\text{(2)} + \\alpha, 0 \\large]$$\n",
        "\n",
        "Note que o valor da função de custo tripla é menor ou igual a zero, ou seja o seu valor máximo é zero. \n",
        "\n",
        "Observações:\n",
        "- O termo (1) da equação acima é a distância ao quadrado entre a imagm de referência $R$ e a imagem positiva $P$ para uma dada tripla. É desejado que esse valor seja pequeno;\n",
        "- O termo (2) da equação acima é a distância ao quadrado entre a imagem de referência $R$ e a negativa $N$ para uma determinada tripla. É desejado que esse valor seja relativamente grande.\n",
        "- $\\alpha$ é a margem, que consiste de um hiperparâmetro que deve ser escolhido. Nesse trabalho usaremos $\\alpha = 0.2$.\n",
        "\n",
        "A maioria das implementações também normaliza os vetores de codificação para ter norma igual a um (isto é, $\\mid\\mid f(x) \\mid\\mid_2 = 1$). Não usaremos isso nesse trabalho.\n",
        "\n"
      ]
    },
    {
      "cell_type": "markdown",
      "metadata": {
        "colab_type": "text",
        "id": "E3h60wQyEwoD"
      },
      "source": [
        "### Exercício #1: Implementação da função de custo tripla\n",
        "\n",
        "Os passos para implementar a funçaõ de custo tripla são os seguintes:\n",
        "\n",
        "1. Calcule a distância entre as codificações das imagens de \"referência\" e \"positiva\": $\\mid\\mid f(R^{(i)}) - f(P^{(i)}) \\mid\\mid_2^2$;\n",
        "2. Calcule a distância entre as codificações das imagens de \"referência\" e \"negativa\": $\\mid\\mid f(R^{(i)}) - f(N^{(i)}) \\mid\\mid_2^2$;\n",
        "3. Para cada exemplo treinamento calcule a expressão: $\\mid \\mid f(R^{(i)}) - f(P^{(i)}) \\mid \\mid_2^2 - \\mid \\mid f(R^{(i)}) - f(N^{(i)}) \\mid \\mid_2^2 + \\alpha$;\n",
        "4. Calcule a expressão completa, tomando o máximo com zero e somando para todos os exemplos de treinamento.\n",
        "\n",
        "Funções úteis: `tf.reduce_sum()`, `tf.square()`, `tf.subtract()`, `tf.add()`, `tf.maximum()`.\n",
        "\n",
        "Nos passos 1 e 2, você tem que somar todos os elementos de $\\mid \\mid f(A^{(i)}) - f(P^{(i)}) \\mid \\mid_2^2$ e $\\mid \\mid f(A^{(i)}) - f(N^{(i)}) \\mid \\mid_2^2$, equanto que no passo 4 você tem que somar para todos os exemplos de treinamento."
      ]
    },
    {
      "cell_type": "code",
      "metadata": {
        "colab_type": "code",
        "id": "7g2MFEpbEwoE",
        "colab": {}
      },
      "source": [
        "# PARA VOCÊ FAZER: Função de custo tripla\n",
        "\n",
        "def triplet_loss(y_true, y_pred, alpha = 0.2):\n",
        "    \"\"\"\n",
        "    Argumentos:\n",
        "    y_true = rótulo desejado, exigido quando se define um função de custo no Keras, mas nesse caso não é necessário\n",
        "    y_pred = lista python contendo 3 objetos:\n",
        "             Referência = codificação da imagem de referência, diomensão (None, 128)\n",
        "             Positiva = codificação da imagem positivo, dimensão (None, 128)\n",
        "             Negativa = codificação da imagem negativa, dimensão (None, 128)\n",
        "    \n",
        "    Retorna:\n",
        "    loss = número real que consiste no valor da função de custo tripla\n",
        "    \"\"\"\n",
        "\n",
        "    referencia, positiva, negativa = y_pred[0], y_pred[1], y_pred[2]\n",
        "    \n",
        "    ### COMECE AQUI ### (≈ 4 linhas)\n",
        "    # Passo 1: Calcule a distência entre as codificações da referência e positivathe, necessário somar ao longo de axis=-1\n",
        "    pos_dist = tf.reduce_sum(tf.square(tf.subtract(referencia, positiva)), axis=-1)\n",
        "    # Passo 2: Calcule a distência entre as codificações da referência e negativa, necessário somar ao longo de axis=-1\n",
        "    neg_dist = tf.reduce_sum(tf.square(tf.subtract(referencia, negativa)), axis=-1)\n",
        "    # Passo 3: subtrair as distâncias calculadas nos passos anteriores e somar alpha.\n",
        "    basic_loss = tf.subtract(pos_dist, neg_dist) + alpha\n",
        "    # Passo 4: Calcule o máximo entre basic_loss e 0.0 e depois some para todos es exemplos.\n",
        "    loss = tf.reduce_sum(tf.maximum(basic_loss, 0.0))\n",
        "    ### TERMINE AQUI ###\n",
        "    \n",
        "    return loss"
      ],
      "execution_count": 6,
      "outputs": []
    },
    {
      "cell_type": "code",
      "metadata": {
        "colab_type": "code",
        "id": "77uvxbq7EwoI",
        "colab": {
          "base_uri": "https://localhost:8080/",
          "height": 34
        },
        "outputId": "5eea5905-c21e-48c2-928a-f4c7a57f5504"
      },
      "source": [
        "tf.random.set_seed(1)\n",
        "y_true = (None, None, None)\n",
        "y_pred = (tf.random.normal([3, 128], mean=6, stddev=0.1, seed = 1),\n",
        "          tf.random.normal([3, 128], mean=1, stddev=1, seed = 1),\n",
        "          tf.random.normal([3, 128], mean=3, stddev=4, seed = 1))\n",
        "loss = triplet_loss(y_true, y_pred)\n",
        "    \n",
        "print(\"loss = \", format(loss))"
      ],
      "execution_count": 7,
      "outputs": [
        {
          "output_type": "stream",
          "text": [
            "loss =  527.2598266601562\n"
          ],
          "name": "stdout"
        }
      ]
    },
    {
      "cell_type": "markdown",
      "metadata": {
        "colab_type": "text",
        "id": "rSBZzUZLEwoM"
      },
      "source": [
        "**Saída esperada:**\n",
        "\n",
        "    loss =  527.2598266601562"
      ]
    },
    {
      "cell_type": "markdown",
      "metadata": {
        "colab_type": "text",
        "id": "K4fexRvzEwoN"
      },
      "source": [
        "## 3 - Carregar a rede FaceNet\n",
        "\n",
        "A rede FaceNet é treinada minimizando a perda de custo tripla. Mas como o treinamento exige muitos dados e muita computação, não vamos treiná-la do zero nesse trabalho. Em vez disso, carregamos um modelo treinado anteriormente. \n",
        "\n",
        "Execute a célula abaixo para carregar a FaceNet. isso pode levar alguns minutos para ser executado."
      ]
    },
    {
      "cell_type": "code",
      "metadata": {
        "colab_type": "code",
        "id": "XDUMDFC-EwoN",
        "colab": {}
      },
      "source": [
        "FRmodel.compile(optimizer = 'adam', loss = triplet_loss, metrics = ['accuracy'])\n",
        "load_weights_from_FaceNet(FRmodel)"
      ],
      "execution_count": 8,
      "outputs": []
    },
    {
      "cell_type": "markdown",
      "metadata": {
        "colab_type": "text",
        "id": "8NRvmmOmEwoS"
      },
      "source": [
        "Alguns exemplos de distâncias entre as codificações para três indivíduos são mostradas na Figura :\n",
        "\n",
        "<img src=\"images/distance_matrix.png\" style=\"width:380px;height:200px;\"><br>\n",
        "<caption><center> <font color='purple'> Figure 5 (Andrew Ng, deeplearning.ai) <br>  <font color='purple'> </center></caption>"
      ]
    },
    {
      "cell_type": "markdown",
      "metadata": {
        "colab_type": "text",
        "id": "4LfIZx-rEwoT"
      },
      "source": [
        "## 4 - Usando a rede FaceNet"
      ]
    },
    {
      "cell_type": "markdown",
      "metadata": {
        "colab_type": "text",
        "id": "DSUgMZLvEwoU"
      },
      "source": [
        "### 4.1 - Verificação de face\n",
        "\n",
        "Vamos construir um banco de dados contendo um vetor de codificação para cada pessoa autorizada a acessar um determinado local. Para gerar a codificação, usamos `img_to_encoding (path_da_imagem, rede)`, que basicamente executa a propagação direta da rede FaceNet para a imagem especificada.\n",
        "\n",
        "Execute o código da célula abaixo para criar o banco de dados (representado como um dicionário python). Esse banco de dados mapeia o rosto de cada pessoa para um vetor codificado de 128 elementos e o associa ao nome da pessoa."
      ]
    },
    {
      "cell_type": "code",
      "metadata": {
        "cellView": "both",
        "colab_type": "code",
        "id": "5UHpFUnbEwoU",
        "colab": {}
      },
      "source": [
        "database = {}\n",
        "database[\"joao\"] = img_to_encoding(\"images/joao.jpg\", FRmodel)\n",
        "database[\"antonio\"] = img_to_encoding(\"images/antonio.jpg\", FRmodel)\n",
        "database[\"miguel\"] = img_to_encoding(\"images/miguel.jpg\", FRmodel)\n",
        "database[\"daniel\"] = img_to_encoding(\"images/daniel.jpg\", FRmodel)\n",
        "database[\"jose\"] = img_to_encoding(\"images/jose.jpg\", FRmodel)\n",
        "database[\"pedro\"] = img_to_encoding(\"images/pedro.jpg\", FRmodel)\n",
        "database[\"maria\"] = img_to_encoding(\"images/maria.jpg\", FRmodel)"
      ],
      "execution_count": 9,
      "outputs": []
    },
    {
      "cell_type": "markdown",
      "metadata": {
        "colab_type": "text",
        "id": "Fn2gaI8lEwoY"
      },
      "source": [
        "Agora, quando alguém quiser acessar o local restrito e passa o cartão de identificação que define o nome, pode-se procurar a codificação no banco de dados e usá-la para verificar se essa pessoa corresponde ao nome na identificação."
      ]
    },
    {
      "cell_type": "markdown",
      "metadata": {
        "colab_type": "text",
        "id": "IvB5RB21EwoZ"
      },
      "source": [
        "### Exercício #2: Implementação da função verify()\n",
        "\n",
        "A função `verify()` verifica se a imagem do rosto da pessoa querendo acessar o ambiente restrito (`path_da_imagem`) é de fato da pessoa do cartão de identidade apresentado. Para isso fazer essa função, você precisa seguir as seguintes etapas:\n",
        "\n",
        "1. Calcule a codificação da imagem definida em image_path;\n",
        "2. Calcule a distância entre essa codificação e a codificação da imagem da identidade armazenada no banco de dados;\n",
        "3. Libere o acesso se a distância for menor que 0,7, caso contrário, não libere.\n",
        "\n",
        "Nesse cálculo você deve calcular a distância entre os dois vetores de codificação e não o quadrado dessa distância com é feito  na função de custo tripla, ou seja, deve-se calcular a seguinte expressão:\n",
        "\n",
        "$$\\mid\\mid f(R) - f(P) \\mid\\mid_2$$\n",
        "\n",
        "Para fazer esse cálculo utilize as funções numpy `np.linalg.norm` e `np.subtract`."
      ]
    },
    {
      "cell_type": "code",
      "metadata": {
        "colab_type": "code",
        "id": "jNu3Gdf0Ewoa",
        "colab": {}
      },
      "source": [
        "# PARA VOCÊ FAZER: Função verify\n",
        "\n",
        "def verify(image_path, identity, database, model):\n",
        "    \"\"\"\n",
        "    Função que verifica se a pessoa na \"image_path\" é a da \"identidade\".\n",
        "    \n",
        "    Argumentos:\n",
        "    image_path = path para a imagem\n",
        "    identity = string, nome da pessoa que se deseja verificar a identidade\n",
        "    database = dicionário python que mapeia nomes de pessoas em vetores\n",
        "    model = RNA inception\n",
        "    \n",
        "    Returns:\n",
        "    dist =- distance between the image_path and the image of \"identity\" in the database.\n",
        "    door_open -- True, if the door should open. False otherwise.\n",
        "    \"\"\"\n",
        "    \n",
        "    ### COMECE AQUI ###\n",
        "    \n",
        "    # Passo 1: Calcule o vetor de codificação da imagem, use img_to_encoding(), veja exemplo acima (≈ 1 linha)\n",
        "    encoding = img_to_encoding(image_path, model)\n",
        "       \n",
        "    # Passo 2: calcula distância entre vetor de codificação da imagem e vetor de codificação da identificação (≈ 1 linha)\n",
        "    dist = np.linalg.norm(database[identity] - encoding)\n",
        "           \n",
        "    # Passo 3: Permite acesso se dist < 0.7, senão bloqueia acesso (≈ 3 linhas)\n",
        "    if dist < 0.7:\n",
        "        print(\"É o \" + str(identity) + \",seja bem vindo!\")\n",
        "        door_open = True\n",
        "    else:\n",
        "        print(\"Não é o \" + str(identity) + \", por favor se identifique novamente!\")\n",
        "        door_open = False\n",
        "    ### TERMINE AQUI ###\n",
        "        \n",
        "    return dist, door_open"
      ],
      "execution_count": 10,
      "outputs": []
    },
    {
      "cell_type": "markdown",
      "metadata": {
        "colab_type": "text",
        "id": "bKFeBBMmEwoe"
      },
      "source": [
        "João está tentando entrar no ambiente restyrito e uma imagem dele é adquirida pela câmera (\"images/joao02.jpg\"). Execute a célula abaixo com o algoritmo de verificação de face com essa image:\n",
        "\n",
        "<img src=\"images/joao01.jpg\" style=\"width:100px;height:100px;\">"
      ]
    },
    {
      "cell_type": "code",
      "metadata": {
        "colab_type": "code",
        "id": "hl7F6hafEwof",
        "colab": {
          "base_uri": "https://localhost:8080/",
          "height": 51
        },
        "outputId": "ae5da7e3-08d4-4a12-fe95-994a1ec8e039"
      },
      "source": [
        "verify(\"images/joao03.jpg\", \"joao\", database, FRmodel)"
      ],
      "execution_count": 11,
      "outputs": [
        {
          "output_type": "stream",
          "text": [
            "É o joao,seja bem vindo!\n"
          ],
          "name": "stdout"
        },
        {
          "output_type": "execute_result",
          "data": {
            "text/plain": [
              "(0.63058585, True)"
            ]
          },
          "metadata": {
            "tags": []
          },
          "execution_count": 11
        }
      ]
    },
    {
      "cell_type": "markdown",
      "metadata": {
        "colab_type": "text",
        "collapsed": true,
        "id": "_dQ9pQZcEwok"
      },
      "source": [
        "**Saída esperada:**\n",
        "\n",
        "    É o joao, seja bem vindo!"
      ]
    },
    {
      "cell_type": "markdown",
      "metadata": {
        "colab_type": "text",
        "collapsed": true,
        "id": "eOZYBWaKEwok"
      },
      "source": [
        "Uma pessoa desconhecida está tentando acessar o ambiente com aidentificação do Pedro. A imagem dessa pessoa é adquirida pela câmera (\"images/daniel.jpg). Execute o algoritmo de verificação de face da célula abaixo para verificar se essa pessoa pode entrar.\n",
        "\n",
        "<img src=\"images/daniel.jpg\" style=\"width:100px;height:100px;\">"
      ]
    },
    {
      "cell_type": "code",
      "metadata": {
        "colab_type": "code",
        "id": "wfFeOXlEEwol",
        "colab": {
          "base_uri": "https://localhost:8080/",
          "height": 51
        },
        "outputId": "ba5f2ef0-b3c4-4432-9725-67eb0c9a09fc"
      },
      "source": [
        "verify(\"images/daniel02.jpg\", \"pedro\", database, FRmodel)"
      ],
      "execution_count": 12,
      "outputs": [
        {
          "output_type": "stream",
          "text": [
            "Não é o pedro, por favor se identifique novamente!\n"
          ],
          "name": "stdout"
        },
        {
          "output_type": "execute_result",
          "data": {
            "text/plain": [
              "(1.0986296, False)"
            ]
          },
          "metadata": {
            "tags": []
          },
          "execution_count": 12
        }
      ]
    },
    {
      "cell_type": "markdown",
      "metadata": {
        "colab_type": "text",
        "id": "nWkz8Xp_Ewop"
      },
      "source": [
        "**Saída esperada:**\n",
        "\n",
        "    Não é o pedro, por favor se identifique novamente!"
      ]
    },
    {
      "cell_type": "markdown",
      "metadata": {
        "colab_type": "text",
        "id": "_Ke6haxqEwor"
      },
      "source": [
        "### 4.2 - Reconhecimento de face\n",
        "\n",
        "Na medida em que o sistema de verificação de face está funcionando corretamente, vamos agora modificá-lo para transformá-lo em um sistema de reconhecimento de face. Em um sistema de reconhecimento de face não é necessário que os usuários utilizem a sua identificação para acessar a área restrita; uma pessoa autorizada simplesmente para em frente a porta e a porta se abre para ela. \n",
        "\n",
        "Você vai implementar um sistema de reconhecimento de face que recebe como entrada uma imagem e decide se essa pessoa está autorizada, ou não, a acessar a área restrita. Diferentemente do sistema de verificação de face, não é necessário fornecer a indentidade da pessoa como outra entrada."
      ]
    },
    {
      "cell_type": "markdown",
      "metadata": {
        "colab_type": "text",
        "id": "wbejoRLUEwor"
      },
      "source": [
        "### Exercício #3: Implementação da função  `who_is_it()`.\n",
        "\n",
        "Para implementar a função de reconhecimento de face `who_is_it()`, você tem que seguir as seguintes etapas:\n",
        "\n",
        "1. Calcule o vetor de codificação da imagem do caminho especificado em `image_path`. Denominaremos esse vetor de vetor alvo.\n",
        "2. Ache o vetor de codificação do banco de dados que tem a menor distância do vetor de codificação da imagem de entrada (vetor alvo). \n",
        "    - Inicialize a variável `min_dist` com um número grande, por exemplo 100. \n",
        "    - Inicialize a variável `identidy` com `None`.\n",
        "    - Percorra o dicionário do banco de dados, que contém os vetores de codificação e os nomes das pessoas associadas. Use o comando `for(name, db_enc) in database.items()`. Observa-se que esse comando é próprio da linguagem Python para buscar itens em um dicionário.\n",
        "    - Percorrendo o banco de dados, calcule a distância entre entre o vetor alvo e cada um dos vetores do banco de dados (`dist`). Se a cada verificação a distância `dist` for menor do que `min_dist`, então substitua `min_dist` por `dist` e `identity` pelo nome da pessoa no banco de dados correspondente ao item sendo comparado.\n"
      ]
    },
    {
      "cell_type": "code",
      "metadata": {
        "colab_type": "code",
        "id": "P3gacyqEEwos",
        "colab": {}
      },
      "source": [
        "# PARA VOCÊ FAZER: Função who_is_it()\n",
        "\n",
        "def who_is_it(image_path, database, model):\n",
        "    \"\"\"\n",
        "    Implementa reconhecimento de face identificando quem é a pessoa em image_path image.\n",
        "    \n",
        "    Argumentos:\n",
        "    image_path = caminho para uma image\n",
        "    database = banco de dados que contém os vetores de codificação das feces e nomes das pessoas associadas\n",
        "    model = RNA FaceNet\n",
        "    \n",
        "    Retorna:\n",
        "    min_dist = distância mínima entre o vetor de codificação da image_path e os vetores de codificação do banco de dados\n",
        "    identity = string com o nome dapessoa em image_path\n",
        "    \"\"\"\n",
        "    \n",
        "    ### COMECE AQUI ### \n",
        "    \n",
        "    ## Passo 1: calcula o vetor de codificação alvo; use img_to_encoding(), veja examplo acima ## (≈ 1 linha)\n",
        "    encoding = img_to_encoding(image_path, model)\n",
        "    \n",
        "    ## Passo 2: Acho a codificação de menor distância\n",
        "    \n",
        "    # Inicializa \"min_dist\" com um número grande, , por exemplo 100, e indentity com None (≈ 2 linhas)\n",
        "    min_dist = 100\n",
        "    identity = None\n",
        "    \n",
        "    # Percorra o dicionário do banco de dados com os vetores de codificação e nomes\n",
        "    for (name, db_enc) in database.items():    \n",
        "        \n",
        "        # Calcule a distãncia entre o vetor alvo e o vetor de codificação corrente \"emb\" do banco de dados (≈ 1 linha)\n",
        "        dist = np.linalg.norm(np.subtract(db_enc, encoding))\n",
        "\n",
        "        # Se a distãncia for menor do que min_dist, então atribua dist em min_dits e o nome em identity to name. (≈ 3 linhas)\n",
        "    if dist < min_dist:\n",
        "      min_dist = dist\n",
        "      identity = name\n",
        "    ### TERMINE AQUI ###\n",
        "    \n",
        "    if min_dist > 0.7:\n",
        "        print(\"Não está na base de dados!\")\n",
        "    else:\n",
        "        print (\"É \" + str(identity) + \", a distância é \" + str(min_dist))\n",
        "        \n",
        "    return min_dist, identity"
      ],
      "execution_count": 13,
      "outputs": []
    },
    {
      "cell_type": "markdown",
      "metadata": {
        "colab_type": "text",
        "id": "kX0D8HNTEwov"
      },
      "source": [
        "Younes is at the front-door and the camera takes a picture of him (\"images/camera_0.jpg\"). Let's see if your who_it_is() algorithm identifies Younes. "
      ]
    },
    {
      "cell_type": "code",
      "metadata": {
        "colab_type": "code",
        "id": "jykxa7UjEwow",
        "scrolled": false,
        "colab": {
          "base_uri": "https://localhost:8080/",
          "height": 51
        },
        "outputId": "50098a32-c6d9-4e6c-d753-bb76514ad0b2"
      },
      "source": [
        "who_is_it(\"images/joao03.jpg\", database, FRmodel)"
      ],
      "execution_count": 14,
      "outputs": [
        {
          "output_type": "stream",
          "text": [
            "Não está na base de dados!\n"
          ],
          "name": "stdout"
        },
        {
          "output_type": "execute_result",
          "data": {
            "text/plain": [
              "(0.74963456, 'maria')"
            ]
          },
          "metadata": {
            "tags": []
          },
          "execution_count": 14
        }
      ]
    },
    {
      "cell_type": "markdown",
      "metadata": {
        "colab_type": "text",
        "id": "xNIkA3Y_Ewoz"
      },
      "source": [
        "**Saída esperada:**\n",
        "\n",
        "    É joao, a distância é 0.6593835\n",
        "    \n",
        "    (0.6593835, 'joao')"
      ]
    },
    {
      "cell_type": "markdown",
      "metadata": {
        "colab_type": "text",
        "id": "E8hdlf9wEwo0"
      },
      "source": [
        "### Exercício #4: teste do sistema de reconhecimento de faces\n",
        "\n",
        "Teste o seu programa usando outras imagens, simplesmente alterando a imagem de entrada, como por exemplo, use qualquer imagem com nome `camera+número.jpg` e veja os resultados. Teste pelo menos 5 imagens."
      ]
    },
    {
      "cell_type": "code",
      "metadata": {
        "colab_type": "code",
        "id": "fLk14kAeEwo0",
        "colab": {
          "base_uri": "https://localhost:8080/",
          "height": 136
        },
        "outputId": "1c617e53-f316-44d8-b75b-c98b94d19554"
      },
      "source": [
        "# PARA VOCÊ FAZER: teste do sistema de reconhecimento de face\n",
        "\n",
        "### COMECE AQUI ### \n",
        "# Teste o seu sistema de reconhecimento de face (≈ 6 linhas). \n",
        "# Use as imagems camera1.jpg, camera2.jpg, camera3.jpg, camera4.jpg, camera5.jpg, camera6.jpg\n",
        "who_is_it(\"images/camera1.jpg\", database, FRmodel)\n",
        "who_is_it(\"images/camera2.jpg\", database, FRmodel)\n",
        "who_is_it(\"images/camera3.jpg\", database, FRmodel)\n",
        "who_is_it(\"images/camera4.jpg\", database, FRmodel)\n",
        "who_is_it(\"images/camera5.jpg\", database, FRmodel)\n",
        "who_is_it(\"images/camera6.jpg\", database, FRmodel)\n",
        "### TERMINE AQUI ###"
      ],
      "execution_count": 15,
      "outputs": [
        {
          "output_type": "stream",
          "text": [
            "Não está na base de dados!\n",
            "É maria, a distância é 0.6854024\n",
            "Não está na base de dados!\n",
            "Não está na base de dados!\n",
            "Não está na base de dados!\n",
            "Não está na base de dados!\n"
          ],
          "name": "stdout"
        },
        {
          "output_type": "execute_result",
          "data": {
            "text/plain": [
              "(0.92127734, 'maria')"
            ]
          },
          "metadata": {
            "tags": []
          },
          "execution_count": 15
        }
      ]
    },
    {
      "cell_type": "markdown",
      "metadata": {
        "colab_type": "text",
        "id": "FApbqAsrEwo3"
      },
      "source": [
        "**Saída esperada:**\n",
        "\n",
        "    É antonio, a distância é 0.25238562\n",
        "    É maria, a distância é 0.6854024\n",
        "    É joao, a distância é 0.59267086\n",
        "    Não está na base de dados!\n",
        "    Não está na base de dados!\n",
        "    Não está na base de dados!\n",
        "    \n",
        "Observa-se que essa saída é somente um exemplo. Usando outras imagens o resultado será diferente."
      ]
    },
    {
      "cell_type": "markdown",
      "metadata": {
        "colab_type": "text",
        "id": "BEp7UzFOEwo5"
      },
      "source": [
        "### Referências:\n",
        "\n",
        "- Florian Schroff, Dmitry Kalenichenko, James Philbin (2015). [FaceNet: A Unified Embedding for Face Recognition and Clustering](https://arxiv.org/pdf/1503.03832.pdf)\n",
        "- Yaniv Taigman, Ming Yang, Marc'Aurelio Ranzato, Lior Wolf (2014). [DeepFace: Closing the gap to human-level performance in face verification](https://research.fb.com/wp-content/uploads/2016/11/deepface-closing-the-gap-to-human-level-performance-in-face-verification.pdf) \n",
        "- A RNA pré-treinada usada nesse trabalho foi desenvolvida por Victor Sy Wang's e obtida de: https://github.com/iwantooxxoox/Keras-OpenFace.\n",
        "- Repositótio oficial da FaceNet: https://github.com/davidsandberg/facenet \n"
      ]
    }
  ]
}