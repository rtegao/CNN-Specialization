{
  "nbformat": 4,
  "nbformat_minor": 0,
  "metadata": {
    "coursera": {
      "course_slug": "deep-neural-network",
      "graded_item_id": "SXQaI",
      "launcher_item_id": "UAwhh"
    },
    "kernelspec": {
      "display_name": "Python 3",
      "language": "python",
      "name": "python3"
    },
    "language_info": {
      "codemirror_mode": {
        "name": "ipython",
        "version": 3
      },
      "file_extension": ".py",
      "mimetype": "text/x-python",
      "name": "python",
      "nbconvert_exporter": "python",
      "pygments_lexer": "ipython3",
      "version": "3.7.4"
    },
    "colab": {
      "name": "T2_Transferência_aprendizado.ipynb",
      "provenance": [],
      "include_colab_link": true
    }
  },
  "cells": [
    {
      "cell_type": "markdown",
      "metadata": {
        "id": "view-in-github",
        "colab_type": "text"
      },
      "source": [
        "<a href=\"https://colab.research.google.com/github/rtegao/CNN-Specialization/blob/master/T2_Transfer%C3%AAncia_aprendizado.ipynb\" target=\"_parent\"><img src=\"https://colab.research.google.com/assets/colab-badge.svg\" alt=\"Open In Colab\"/></a>"
      ]
    },
    {
      "cell_type": "markdown",
      "metadata": {
        "id": "WoA0j6h_oHOD",
        "colab_type": "text"
      },
      "source": [
        "# Trabalho #7 - Transferência de Aprendizado\n",
        "\n",
        "Nesse trabalho você vai utilizar uma RNA pré-treinada para realizar uma tarefa de classificação de múltiplas classes. A tarefa é a mesma do Trabalho #6, que consiste na identificação de sinais de mão a partir de imagens. A rede pré-treinada que iremos utilizar é a VGG16 que está disponível no Keras."
      ]
    },
    {
      "cell_type": "code",
      "metadata": {
        "id": "Qnffc3HLoT4T",
        "colab_type": "code",
        "colab": {
          "base_uri": "https://localhost:8080/",
          "height": 122
        },
        "outputId": "e4bde94c-af74-44ab-b093-4371363f5034"
      },
      "source": [
        "from google.colab import drive\n",
        "drive.mount('/content/drive')"
      ],
      "execution_count": 2,
      "outputs": [
        {
          "output_type": "stream",
          "text": [
            "Go to this URL in a browser: https://accounts.google.com/o/oauth2/auth?client_id=947318989803-6bn6qk8qdgf4n4g3pfee6491hc0brc4i.apps.googleusercontent.com&redirect_uri=urn%3aietf%3awg%3aoauth%3a2.0%3aoob&response_type=code&scope=email%20https%3a%2f%2fwww.googleapis.com%2fauth%2fdocs.test%20https%3a%2f%2fwww.googleapis.com%2fauth%2fdrive%20https%3a%2f%2fwww.googleapis.com%2fauth%2fdrive.photos.readonly%20https%3a%2f%2fwww.googleapis.com%2fauth%2fpeopleapi.readonly\n",
            "\n",
            "Enter your authorization code:\n",
            "··········\n",
            "Mounted at /content/drive\n"
          ],
          "name": "stdout"
        }
      ]
    },
    {
      "cell_type": "code",
      "metadata": {
        "id": "dsDPXssboZFb",
        "colab_type": "code",
        "colab": {
          "base_uri": "https://localhost:8080/",
          "height": 34
        },
        "outputId": "d3f85b3b-9946-428e-a54a-7ce929d33e14"
      },
      "source": [
        "%cd /content/drive/My Drive/Specialization/Projects/Convolutional Neural Networks/T2 - Transferência de aprendizado"
      ],
      "execution_count": 3,
      "outputs": [
        {
          "output_type": "stream",
          "text": [
            "/content/drive/My Drive/Specialization/Projects/Convolutional Neural Networks/T2 - Transferência de aprendizado\n"
          ],
          "name": "stdout"
        }
      ]
    },
    {
      "cell_type": "markdown",
      "metadata": {
        "id": "poCBigIyoHOE",
        "colab_type": "text"
      },
      "source": [
        "## Coloque os nomes e RAs dos alunos que fizeram esse trabalho\n",
        "\n",
        "Nome e número dos alunos da equipe:\n",
        "\n",
        "Aluno 1: Ricardo ROssi Tegao 20.83988-0\n",
        "\n",
        "Aluno 2: "
      ]
    },
    {
      "cell_type": "markdown",
      "metadata": {
        "id": "JOfO-JAUoHOF",
        "colab_type": "text"
      },
      "source": [
        "Em primeiro lugar é necessário importar alguns pacotes do Python que serão usados ao longo nesse trabalho:\n",
        "- numpy pacote de cálculo científico com Python\n",
        "- matplotlib biblioteca para gerar gráficos em Python\n",
        "- h5py biblioteca que permite ler e escrever arquivos no formato h5\n",
        "- utils.py função para ler banco de dados "
      ]
    },
    {
      "cell_type": "code",
      "metadata": {
        "id": "CTSr9oXHoHOG",
        "colab_type": "code",
        "colab": {}
      },
      "source": [
        "import numpy as np\n",
        "import h5py\n",
        "import matplotlib.pyplot as plt\n",
        "from utils import *\n",
        "import tensorflow as tf\n",
        "\n",
        "%matplotlib inline"
      ],
      "execution_count": 0,
      "outputs": []
    },
    {
      "cell_type": "markdown",
      "metadata": {
        "collapsed": true,
        "id": "J5A2_N3uoHOI",
        "colab_type": "text"
      },
      "source": [
        "## 1 - Visão geral do problema ##\n",
        "\n",
        "**Definição do problema**: \n",
        "\n",
        "O objetivo desse problema é desenvolver uma RNA que recebe como entrada uma imagem de sinais de mão, avalia a probabilidade dos dedos da mão mostrarem um número de 0 a 5 e determina qual o número mais provável entre os seis possíveis.\n",
        "\n",
        "O banco de dados usado nesse trabalho é SIGNS, que consiste de imagens de sinais de mão desenvolvido por Andre Ng (deeplearning.ai). Esse banco de dados pode ser obtido no link: https://github.com/cs230-stanford/cs230-code-examples/tree/master/tensorflow/vision\n",
        "\n",
        "O banco de dados possui 1080 exemplos de treinamento e 120 exemplos de teste. Cada exemplo consiste de uma imagem colorida associada a um rótulo de 6 classes. A Figura 1 abaixo mostra alguns exemplos dessas imagens.\n",
        "\n",
        "\n",
        "<img src=\"SIGNS.png\" style=\"width:800px;height:300px;\">"
      ]
    },
    {
      "cell_type": "markdown",
      "metadata": {
        "id": "LrVU83JCoHOI",
        "colab_type": "text"
      },
      "source": [
        "## 2 - Dados de treinamento\n",
        "\n",
        "Os dados que iremos utilizar nesse trabalho estão nos arquivos train_signs.h5 e test_signs.h5.\n",
        "\n",
        "Características dos dados:\n",
        "\n",
        "- As imagens são coloridas e estão no padrão RGB;\n",
        "- Cada imagem tem dimensão de 64x64x3;\n",
        "- O valor da intensidade luminosa de cada plano de cor é um número inteiro entre 0 e 255;\n",
        "- As saídas representam o rótulo do sinal de mão mostrado na imagem, sendo um número inteiro de 0 a 5. \n",
        "\n",
        "\n",
        "\n",
        "### 2.1 - Leitura dos dados\n",
        "\n",
        "Para iniciar o trabalho é necessário ler o arquivo de dados. Assim, execute o código da célula abaixo para ler o arquivo de dados."
      ]
    },
    {
      "cell_type": "code",
      "metadata": {
        "id": "rQHzQl3AoHOJ",
        "colab_type": "code",
        "colab": {
          "base_uri": "https://localhost:8080/",
          "height": 51
        },
        "outputId": "9f6ae958-7453-4e7f-bbe8-a69f05df1fca"
      },
      "source": [
        "# Leitura do arquivo de dados\n",
        "X_train_orig, Y_train_orig, X_test_orig, Y_test_orig, classes = load_dataset()\n",
        "print(\"X_train shape:\", X_train_orig.shape, \"y_train shape:\", Y_train_orig.shape)\n",
        "print(\"X_test shape:\", X_test_orig.shape, \"y_test shape:\", Y_test_orig.shape)"
      ],
      "execution_count": 5,
      "outputs": [
        {
          "output_type": "stream",
          "text": [
            "X_train shape: (1080, 64, 64, 3) y_train shape: (1, 1080)\n",
            "X_test shape: (120, 64, 64, 3) y_test shape: (1, 120)\n"
          ],
          "name": "stdout"
        }
      ]
    },
    {
      "cell_type": "markdown",
      "metadata": {
        "id": "uKbAwRnMoHOL",
        "colab_type": "text"
      },
      "source": [
        "Pela dimensão dos tensores com os dados de treinamento e teste temos:\n",
        "\n",
        "- 1080 imagens de treinamento com dimensão de 64x64x3 pixels;\n",
        "- 120 imagens de teste com dimensão de 64x64x3 pixels.\n"
      ]
    },
    {
      "cell_type": "markdown",
      "metadata": {
        "id": "3wdnRTUGoHOL",
        "colab_type": "text"
      },
      "source": [
        "Execute a célula a seguir para visualizar um exemplo de uma imagem do banco de dados juntamente com a sua classe. Altere o valor da variável 'index' e execute a célula novamente para visualizar mais exemplos diferentes."
      ]
    },
    {
      "cell_type": "code",
      "metadata": {
        "id": "pDfexADnoHOM",
        "colab_type": "code",
        "colab": {
          "base_uri": "https://localhost:8080/",
          "height": 285
        },
        "outputId": "5d9527d9-1ead-4d1e-c2ab-4c63db3a0a0b"
      },
      "source": [
        "# Examplo de uma imagemo\n",
        "index = 0\n",
        "plt.imshow(X_train_orig[index])\n",
        "print (\"y = \" + str(np.squeeze(Y_train_orig[:, index])))"
      ],
      "execution_count": 6,
      "outputs": [
        {
          "output_type": "stream",
          "text": [
            "y = 5\n"
          ],
          "name": "stdout"
        },
        {
          "output_type": "display_data",
          "data": {
            "image/png": "[encoded data removed]",
            "text/plain": [
              "<Figure size 432x288 with 1 Axes>"
            ]
          },
          "metadata": {
            "tags": [],
            "needs_background": "light"
          }
        }
      ]
    },
    {
      "cell_type": "markdown",
      "metadata": {
        "id": "pdfpngpQoHOO",
        "colab_type": "text"
      },
      "source": [
        "### 2.2 - Processamento dos dados\n",
        "\n",
        "Para os dados poderem ser usados para o desenvolvimento da RNA devemos primeiramente processá-los.\n",
        "\n",
        "Para isso devemos realizar as seguintes etapas:\n",
        "\n",
        "- Dividir os dados de treinamento nos conjuntos de treinamento e validação;\n",
        "- Os valores dos pixels em uma imagem é um número inteiro que deve ser transformado em número real para ser usado em cálculos;\n",
        "- Redimensionar as imagens para transfroma-las em um vetor linha;\n",
        "- Normalizar as imagens de forma que os valores dos pixels fique entre 0 e 1."
      ]
    },
    {
      "cell_type": "markdown",
      "metadata": {
        "id": "ktk6kJgOoHOO",
        "colab_type": "text"
      },
      "source": [
        "**Divisão do conjunto de dados de treinamento**\n",
        "\n",
        "Execute a célula abaixo para para dividir o conjunto de dados de treinamento nos conjuntos de treinamento e validação e redimensionar as saídas para que o primeiro eixo seja o dos exemplos e o segundo eixo o das classes."
      ]
    },
    {
      "cell_type": "code",
      "metadata": {
        "id": "0hXqrAR0oHOO",
        "colab_type": "code",
        "colab": {
          "base_uri": "https://localhost:8080/",
          "height": 102
        },
        "outputId": "3de8e0db-98ca-4dd6-b21a-846cfda1dab4"
      },
      "source": [
        "# Dados de entrada\n",
        "X_train_int = X_train_orig[:960,:]\n",
        "X_val_int = X_train_orig[960:,:]\n",
        "\n",
        "# Dados de saída\n",
        "Y_train = Y_train_orig[:,:960].T\n",
        "Y_val = Y_train_orig[:,960:].T\n",
        "Y_test = Y_test_orig.T\n",
        "\n",
        "print(\"Dimensão do tensor de dados de entrada de treinamento =\", X_train_int.shape)\n",
        "print(\"Dimensão do tensor de dados de entrada de validação =\", X_val_int.shape)\n",
        "print(\"Dimensão do tensor de dados de saída de treinamento =\", Y_train.shape)\n",
        "print(\"Dimensão do tensor de dados de saída de validação =\", Y_val.shape)\n",
        "print(\"Dimensão do tensor de dados de saída de test =\", Y_test.shape)"
      ],
      "execution_count": 7,
      "outputs": [
        {
          "output_type": "stream",
          "text": [
            "Dimensão do tensor de dados de entrada de treinamento = (960, 64, 64, 3)\n",
            "Dimensão do tensor de dados de entrada de validação = (120, 64, 64, 3)\n",
            "Dimensão do tensor de dados de saída de treinamento = (960, 1)\n",
            "Dimensão do tensor de dados de saída de validação = (120, 1)\n",
            "Dimensão do tensor de dados de saída de test = (120, 1)\n"
          ],
          "name": "stdout"
        }
      ]
    },
    {
      "cell_type": "markdown",
      "metadata": {
        "id": "Sw-5rHTfoHOQ",
        "colab_type": "text"
      },
      "source": [
        "**Normalização dos dados de entrada**\n",
        "\n",
        "Execute a célula abaixo para normalizar e transformar as imagens em números reais dividindo por 255."
      ]
    },
    {
      "cell_type": "code",
      "metadata": {
        "id": "q497zzvZoHOR",
        "colab_type": "code",
        "colab": {
          "base_uri": "https://localhost:8080/",
          "height": 34
        },
        "outputId": "35d4bc6c-5475-4912-e3c4-70d99bafc426"
      },
      "source": [
        "# Guarda dimensão das imagens\n",
        "image_dim = X_train_int.shape[1:4]\n",
        "print(\"Dimensão das imagens de entrada=\", image_dim)\n",
        "\n",
        "# Transformação dos dados em números reais\n",
        "X_train = X_train_int.astype('float32') / 255\n",
        "X_val = X_val_int.astype('float32')/255\n",
        "X_test = X_test_orig.astype('float32') / 255"
      ],
      "execution_count": 8,
      "outputs": [
        {
          "output_type": "stream",
          "text": [
            "Dimensão das imagens de entrada= (64, 64, 3)\n"
          ],
          "name": "stdout"
        }
      ]
    },
    {
      "cell_type": "markdown",
      "metadata": {
        "id": "xk-prFNQoHOT",
        "colab_type": "text"
      },
      "source": [
        "**Codificação das classes**\n",
        "\n",
        "As classes dos sinais são identificadas por um número inteiro que varia de 0 a 5. Porém, a saída esperada de uma RNA para um problema de classificação de múltiplas classes é um vetor de dimensão igual ao número de classes, que no caso são 6 classes. Cada elemento desse vetor representa a probabilidade da imagem ser um sinal. Assim, devemos transformar as saídas reais do conjunto de dados em um vetor linha de 6 elementos, com todos os elementos iguais a zero a menos do correspondente ao da classe do sinal, que deve ser igual a um. A função que realiza essa transformação é conhecida na literatura de “one-hot-encoding”, que no Keras é chamada de \"to_categorical\". Execute a célula abaixo para transformar os dados de saída usando a função \"to_categorical\" do keras.\n"
      ]
    },
    {
      "cell_type": "code",
      "metadata": {
        "id": "DfNeeUG5oHOT",
        "colab_type": "code",
        "colab": {
          "base_uri": "https://localhost:8080/",
          "height": 68
        },
        "outputId": "e6d03ad3-46fb-4485-831b-0a6a5a56df34"
      },
      "source": [
        "# Importa classe de utilidades do Keras\n",
        "from tensorflow.keras.utils import to_categorical\n",
        "\n",
        "# Transformação das classes de números reais para vetores\n",
        "Y_train_hot = to_categorical(Y_train) \n",
        "Y_val_hot = to_categorical(Y_val) \n",
        "Y_test_hot = to_categorical(Y_test)\n",
        "\n",
        "print('Dimensão dos dados de saída do conjunto de treinamento: ', Y_train_hot.shape)\n",
        "print('Dimensão dos dados de saída do conjunto de validação: ', Y_val_hot.shape)\n",
        "print('Dimensão dos dados de saída do conjunto de teste: ', Y_test_hot.shape)"
      ],
      "execution_count": 9,
      "outputs": [
        {
          "output_type": "stream",
          "text": [
            "Dimensão dos dados de saída do conjunto de treinamento:  (960, 6)\n",
            "Dimensão dos dados de saída do conjunto de validação:  (120, 6)\n",
            "Dimensão dos dados de saída do conjunto de teste:  (120, 6)\n"
          ],
          "name": "stdout"
        }
      ]
    },
    {
      "cell_type": "markdown",
      "metadata": {
        "id": "YVjkzpELoHOV",
        "colab_type": "text"
      },
      "source": [
        "**Visualização da entrada e saída correspondente**\n",
        "\n",
        "Execute a célula abaixo para verificar se o programa realizou de fato o que era esperado. No código abaixo index é o número sequencial da imagem. Tente trocar a imagem, mudando o index, usando valores entre 0 e 959, para visualizar outros exemplos."
      ]
    },
    {
      "cell_type": "code",
      "metadata": {
        "id": "a8V9pB_moHOW",
        "colab_type": "code",
        "colab": {
          "base_uri": "https://localhost:8080/",
          "height": 302
        },
        "outputId": "7b99ab7b-e7c0-4781-f894-f0b1a4702cb2"
      },
      "source": [
        "# Exemplo de saída\n",
        "index = 10\n",
        "print(\"Classe numérica: \", Y_train[index], \", Vetor de saída correspondentes: \", Y_train_hot[index])\n",
        "plt.imshow(X_train_orig[index], cmap='gray', vmin=0, vmax=255)"
      ],
      "execution_count": 10,
      "outputs": [
        {
          "output_type": "stream",
          "text": [
            "Classe numérica:  [2] , Vetor de saída correspondentes:  [0. 0. 1. 0. 0. 0.]\n"
          ],
          "name": "stdout"
        },
        {
          "output_type": "execute_result",
          "data": {
            "text/plain": [
              "<matplotlib.image.AxesImage at 0x7fe505e614e0>"
            ]
          },
          "metadata": {
            "tags": []
          },
          "execution_count": 10
        },
        {
          "output_type": "display_data",
          "data": {
            "image/png": "[encoded data removed]",
            "text/plain": [
              "<Figure size 432x288 with 1 Axes>"
            ]
          },
          "metadata": {
            "tags": [],
            "needs_background": "light"
          }
        }
      ]
    },
    {
      "cell_type": "markdown",
      "metadata": {
        "id": "vS3u9jJLoHOX",
        "colab_type": "text"
      },
      "source": [
        "## 3 - RNA convolucional base\n",
        "\n",
        "Nesse trabalho você irá usar uma RNA convolucional já treinada como base para criar outra RNA para realizar uma tarefa diferente da que a RNA base foi treinada. A RNA que será usada como base é a VGG16 vista em aula (Simonyan & Zisserman, Very deep convolutional networks for large-scale image recognition, 2015). \n",
        "\n",
        "A VGG16 foi desenvolvida para classificação de múltiplas classes com 1.000 classes. Ela é uitlizada para reconhecimento de objetos em imagens. A arquitetura da VGG é muito simples, sendo composta pela repetição de camadas convolucionais formando blocos. Cada bloco é composto por duas ou três camadas convolucionais, com filtros 3x3, stride = 1 e “same convolution”, seguida por uma camada de max-pooling, com janela 2x2 e stride = 2. A VGG16 mantém o mesmo padrão em todos os blocos dobrando o número de filtros a cada bloco. Apesar da VGG16 possuir muitos parâmetros, cerca de 138 milhões, ela é muito simples.\n",
        "\n",
        "### Exercício #1: Carregar a VGG16\n",
        "\n",
        "O TensorFlow-Keras possui na sua base de dados a RNA VGG16 treinada com o banco de imagens imagenet. Complete a célula abaixo para carregar a VGG16. Não se esqueça de excluir a parte densa e de definir a dimensão das imagens ao salvar a VGG16."
      ]
    },
    {
      "cell_type": "code",
      "metadata": {
        "id": "8HkJqSkFrVHq",
        "colab_type": "code",
        "colab": {
          "base_uri": "https://localhost:8080/",
          "height": 34
        },
        "outputId": "77ebac1c-9ef2-4e09-f802-18a7df8af7f1"
      },
      "source": [
        "X_train.shape"
      ],
      "execution_count": 11,
      "outputs": [
        {
          "output_type": "execute_result",
          "data": {
            "text/plain": [
              "(960, 64, 64, 3)"
            ]
          },
          "metadata": {
            "tags": []
          },
          "execution_count": 11
        }
      ]
    },
    {
      "cell_type": "code",
      "metadata": {
        "scrolled": false,
        "id": "LFUHAdQZoHOY",
        "colab_type": "code",
        "colab": {
          "base_uri": "https://localhost:8080/",
          "height": 1000
        },
        "outputId": "9ceb830d-7e30-425a-b616-6c262720a953"
      },
      "source": [
        "# PARA VOCÊ FAZER: carregar e salvar a VGG16 na rna_base\n",
        "\n",
        "# Importa função para fazer gráfico de RNAs\n",
        "from tensorflow.keras.utils import plot_model\n",
        "\n",
        "# Carrega e salva a VGG16 excluindo suas camadas densas \n",
        "### COMECE AQUI ### (≈ 2 linhas) \n",
        "from tensorflow.keras.applications import VGG16 \n",
        "rna_base = VGG16(weights = 'imagenet', include_top=False, input_shape = (X_train.shape[1],X_train.shape[2],X_train.shape[3]))\n",
        "### TERMINE AQUI ####\n",
        "\n",
        "# Mostra a arquitetura da VGG16\n",
        "rna_base.summary()\n",
        "\n",
        "# Cria um arquivo com o esquema da VGG16\n",
        "plot_model(rna_base, to_file='VGG16.png', show_shapes=True)  \n"
      ],
      "execution_count": 14,
      "outputs": [
        {
          "output_type": "stream",
          "text": [
            "Downloading data from https://storage.googleapis.com/tensorflow/keras-applications/vgg16/vgg16_weights_tf_dim_ordering_tf_kernels_notop.h5\n",
            "58892288/58889256 [==============================] - 1s 0us/step\n",
            "Model: \"vgg16\"\n",
            "_________________________________________________________________\n",
            "Layer (type)                 Output Shape              Param #   \n",
            "=================================================================\n",
            "input_1 (InputLayer)         [(None, 64, 64, 3)]       0         \n",
            "_________________________________________________________________\n",
            "block1_conv1 (Conv2D)        (None, 64, 64, 64)        1792      \n",
            "_________________________________________________________________\n",
            "block1_conv2 (Conv2D)        (None, 64, 64, 64)        36928     \n",
            "_________________________________________________________________\n",
            "block1_pool (MaxPooling2D)   (None, 32, 32, 64)        0         \n",
            "_________________________________________________________________\n",
            "block2_conv1 (Conv2D)        (None, 32, 32, 128)       73856     \n",
            "_________________________________________________________________\n",
            "block2_conv2 (Conv2D)        (None, 32, 32, 128)       147584    \n",
            "_________________________________________________________________\n",
            "block2_pool (MaxPooling2D)   (None, 16, 16, 128)       0         \n",
            "_________________________________________________________________\n",
            "block3_conv1 (Conv2D)        (None, 16, 16, 256)       295168    \n",
            "_________________________________________________________________\n",
            "block3_conv2 (Conv2D)        (None, 16, 16, 256)       590080    \n",
            "_________________________________________________________________\n",
            "block3_conv3 (Conv2D)        (None, 16, 16, 256)       590080    \n",
            "_________________________________________________________________\n",
            "block3_pool (MaxPooling2D)   (None, 8, 8, 256)         0         \n",
            "_________________________________________________________________\n",
            "block4_conv1 (Conv2D)        (None, 8, 8, 512)         1180160   \n",
            "_________________________________________________________________\n",
            "block4_conv2 (Conv2D)        (None, 8, 8, 512)         2359808   \n",
            "_________________________________________________________________\n",
            "block4_conv3 (Conv2D)        (None, 8, 8, 512)         2359808   \n",
            "_________________________________________________________________\n",
            "block4_pool (MaxPooling2D)   (None, 4, 4, 512)         0         \n",
            "_________________________________________________________________\n",
            "block5_conv1 (Conv2D)        (None, 4, 4, 512)         2359808   \n",
            "_________________________________________________________________\n",
            "block5_conv2 (Conv2D)        (None, 4, 4, 512)         2359808   \n",
            "_________________________________________________________________\n",
            "block5_conv3 (Conv2D)        (None, 4, 4, 512)         2359808   \n",
            "_________________________________________________________________\n",
            "block5_pool (MaxPooling2D)   (None, 2, 2, 512)         0         \n",
            "=================================================================\n",
            "Total params: 14,714,688\n",
            "Trainable params: 14,714,688\n",
            "Non-trainable params: 0\n",
            "_________________________________________________________________\n"
          ],
          "name": "stdout"
        },
        {
          "output_type": "execute_result",
          "data": {
            "image/png": "[encoded data removed]",
            "text/plain": [
              "<IPython.core.display.Image object>"
            ]
          },
          "metadata": {
            "tags": []
          },
          "execution_count": 14
        }
      ]
    },
    {
      "cell_type": "markdown",
      "metadata": {
        "id": "NknozaqcoHOZ",
        "colab_type": "text"
      },
      "source": [
        "**Saída esperada:**\n",
        "\n",
        "    Model: \"vgg16\"\n",
        "    _________________________________________________________________\n",
        "    Layer (type)                 Output Shape              Param #   \n",
        "    =================================================================\n",
        "    input_1 (InputLayer)         (None, 64, 64, 3)         0         \n",
        "    _________________________________________________________________\n",
        "    block1_conv1 (Conv2D)        (None, 64, 64, 64)        1792      \n",
        "    _________________________________________________________________\n",
        "    block1_conv2 (Conv2D)        (None, 64, 64, 64)        36928     \n",
        "    _________________________________________________________________\n",
        "    block1_pool (MaxPooling2D)   (None, 32, 32, 64)        0         \n",
        "    _________________________________________________________________\n",
        "    block2_conv1 (Conv2D)        (None, 32, 32, 128)       73856     \n",
        "    _________________________________________________________________\n",
        "    block2_conv2 (Conv2D)        (None, 32, 32, 128)       147584    \n",
        "    _________________________________________________________________\n",
        "    block2_pool (MaxPooling2D)   (None, 16, 16, 128)       0         \n",
        "    _________________________________________________________________\n",
        "    block3_conv1 (Conv2D)        (None, 16, 16, 256)       295168    \n",
        "    _________________________________________________________________\n",
        "    block3_conv2 (Conv2D)        (None, 16, 16, 256)       590080    \n",
        "    _________________________________________________________________\n",
        "    block3_conv3 (Conv2D)        (None, 16, 16, 256)       590080    \n",
        "    _________________________________________________________________\n",
        "    block3_pool (MaxPooling2D)   (None, 8, 8, 256)         0         \n",
        "    _________________________________________________________________\n",
        "    block4_conv1 (Conv2D)        (None, 8, 8, 512)         1180160   \n",
        "    _________________________________________________________________\n",
        "    block4_conv2 (Conv2D)        (None, 8, 8, 512)         2359808   \n",
        "    _________________________________________________________________\n",
        "    block4_conv3 (Conv2D)        (None, 8, 8, 512)         2359808   \n",
        "    _________________________________________________________________\n",
        "    block4_pool (MaxPooling2D)   (None, 4, 4, 512)         0         \n",
        "    _________________________________________________________________\n",
        "    block5_conv1 (Conv2D)        (None, 4, 4, 512)         2359808   \n",
        "    _________________________________________________________________\n",
        "    block5_conv2 (Conv2D)        (None, 4, 4, 512)         2359808   \n",
        "    _________________________________________________________________\n",
        "    block5_conv3 (Conv2D)        (None, 4, 4, 512)         2359808   \n",
        "    _________________________________________________________________\n",
        "    block5_pool (MaxPooling2D)   (None, 2, 2, 512)         0         \n",
        "    =================================================================\n",
        "    Total params: 14,714,688\n",
        "    Trainable params: 14,714,688\n",
        "    Non-trainable params: 0\n"
      ]
    },
    {
      "cell_type": "markdown",
      "metadata": {
        "id": "NvU2LNZioHOa",
        "colab_type": "text"
      },
      "source": [
        "**Observações:**\n",
        "\n",
        "- A parte convolucional da VGG16 possui 5 blocos, sendo que cada bloco possui 2 ou 3 camadas convolucionais seguidas por uma camada de max-pooling.\n",
        "- A VGG16 não é uma rede muito profunda, possuindo 13 camadas convolucionais.\n",
        "- Apesar do grande número de parâmetros (138 milhões para a VGG16 completa com as suas camadas densas), a VGG16 é uma rede muito simples e rápida de ser excecutada e treinada, quando comparada com outras RNAs de mesmo desempenho.\n",
        "- O esquema da VGG16 que você carregou foi gerado no arquivo VGG16.png que está no diretório que você está utilizando. Para ver esse esquema basta abrir esse arquivo."
      ]
    },
    {
      "cell_type": "markdown",
      "metadata": {
        "id": "Fniywce_oHOa",
        "colab_type": "text"
      },
      "source": [
        "## 4 - Uso da RNA base para extrair caracteríticas\n",
        "\n",
        "Nessa parte do trabalho você vai usar a RNA base somente para extrair as caracteríticas das imagens de treinamento, validação e teste. Essas caracterísitcas serão usadas como entrada de uma nova RNA densa que será treinada para realizar a tarefa de classificação dos sinais.\n",
        "\n",
        "\n",
        "### Exercício #2: Extração das características das imagens \n",
        "\n",
        "Na célula abaixo crie um código para executar a rna_base na forma de previsão para extrair as características das imagens de treinamento, validação e teste."
      ]
    },
    {
      "cell_type": "code",
      "metadata": {
        "id": "MEcO9aXQoHOb",
        "colab_type": "code",
        "colab": {}
      },
      "source": [
        "# PARA VOCÊ FAZER: gerar as características das imagens de treinamento, validação e teste pela rna_base.\n",
        "\n",
        "#### COMECE AQUI ### (≈ 3 linhas) \n",
        "#train_features \n",
        "#val_features \n",
        "#test_features \n",
        "### TERMINE AQUI ###\n",
        "\n",
        "print(\"Dimensão do tensor de características das imagens de treinamento = \", train_features.shape)\n",
        "print(\"Dimensão do tensor de características das imagens de validação = \", val_features.shape)\n",
        "print(\"Dimensão do tensor de características das imagens de teste = \", test_features.shape)"
      ],
      "execution_count": 0,
      "outputs": []
    },
    {
      "cell_type": "markdown",
      "metadata": {
        "id": "ee7Rmd8BoHOe",
        "colab_type": "text"
      },
      "source": [
        "**Saída esperada:**\n",
        "\n",
        "        Dimensão do tensor de características das imagens de treinamento =  (960, 2, 2, 512)\n",
        "        Dimensão do tensor de características das imagens de validação =  (120, 2, 2, 512)\n",
        "        Dimensão do tensor de características das imagens de teste =  (120, 2, 2, 512)<dd>\n",
        "    \n",
        "Observe que as características extraídas de cada imagem tem dimensão (2, 2, 512), que é a dimensão do tensor de saída da rna_base."
      ]
    },
    {
      "cell_type": "markdown",
      "metadata": {
        "id": "Pv0IZbXEoHOe",
        "colab_type": "text"
      },
      "source": [
        "### Exercício #3: Redimensionamento dos tensores de características\n",
        "\n",
        "Como a RNA de classificação é composta por camadas densas, então temos que redimensionar os dados de entrada para transformá-los em um vetor. Crie na célula abaixo um código que realiza o redimensionamento das caracteríticas usando a função reshape da biblioteca numpy."
      ]
    },
    {
      "cell_type": "code",
      "metadata": {
        "id": "lb6OweO4oHOe",
        "colab_type": "code",
        "colab": {}
      },
      "source": [
        "# PARA VOCÊ FAZER: redimensionamento dos tensores de características\n",
        "\n",
        "# Recupera dimensões dos tensores de características\n",
        "m, nlin, ncol, nfeat = train_features.shape\n",
        "m_val = val_features.shape[0]\n",
        "m_test = test_features.shape[0]\n",
        "\n",
        "#### COMECE AQUI ### (≈ 3 linhas) \n",
        "#train_carac \n",
        "#val_carac \n",
        "#test_carac \n",
        "### TERMINE AQUI ###\n",
        "\n",
        "print(\"Dimensão do tensor de características das imagens de treinamento = \", train_carac.shape)\n",
        "print(\"Dimensão do tensor de características das imagens de validação = \", val_carac.shape)\n",
        "print(\"Dimensão do tensor de características das imagens de teste = \", test_carac.shape)\n",
        "print(\"Cinco primeiros elementos da 1a linha dos dados de treinamento: \", train_carac[0,0:5])\n",
        "print(\"Cinco primeiros elementos da 1a linha dos dados de validação: \", val_carac[0,0:5])\n",
        "print(\"Cinco primeiros elementos da 1a linha dos dados de teste: \", test_carac[0,0:5])"
      ],
      "execution_count": 0,
      "outputs": []
    },
    {
      "cell_type": "markdown",
      "metadata": {
        "id": "n-UEVZJ7oHOg",
        "colab_type": "text"
      },
      "source": [
        "**Saída esperada:**\n",
        "\n",
        "    Dimensão do tensor de características das imagens de treinamento =  (960, 2048)\n",
        "    Dimensão do tensor de características das imagens de validação =  (120, 2048)\n",
        "    Dimensão do tensor de características das imagens de teste =  (120, 2048)\n",
        "    Cinco primeiros elementos da 1a linha dos dados de treinamento:  [0.         0.         0.         0.         0.2205782]\n",
        "    Cinco primeiros elementos da 1a linha dos dados de validação:  [0.        0.        0.        0.        0.6545839]\n",
        "    Cinco primeiros elementos da 1a linha dos dados de teste:  [0.0210336 0.        0.        0.        0.       ]"
      ]
    },
    {
      "cell_type": "markdown",
      "metadata": {
        "id": "bTS-TZCgoHOg",
        "colab_type": "text"
      },
      "source": [
        "### Exercício #4: Configuração da RNA para classificação\n",
        "\n",
        "Para realizar a classificação dos sinais de mão, você vai usar uma RNA com 2 camadas densas (uma camada intermediária e uma de saída) com as seguintes características:\n",
        "\n",
        "- Tensor de entrada: tensor com os vetores de características das imagens, criado no exercício #3 anterior; \n",
        "- Camada intermediária: número de neurônios 64, função de ativação ReLu;\n",
        "- Camada de saída: número neurônios 6, função de ativação softmax.\n",
        "\n",
        "Na célula abaixo crie a sua RNA."
      ]
    },
    {
      "cell_type": "code",
      "metadata": {
        "id": "-CmBk4MKoHOh",
        "colab_type": "code",
        "colab": {}
      },
      "source": [
        "# PARA VOCÊ FAZER: criação da RNA para classificação\n",
        "\n",
        "# Importa do Keras classes de modelos e de camadas\n",
        "from tensorflow.keras import models\n",
        "from tensorflow.keras import layers\n",
        "\n",
        "# Inicializa o gerador de números aleatórios\n",
        "np.random.seed(1)\n",
        "\n",
        "# Define dimensão do vetor de entrada\n",
        "#### COMECE AQUI ### (≈ 1 linha) \n",
        "#vetor_dim \n",
        "### TERMINE AQUI ###\n",
        "\n",
        "#### COMECE AQUI ### (≈ 3 linhas) \n",
        "#rna1 =\n",
        "#\n",
        "#\n",
        "#### TERMINE AQUI ###\n",
        "\n",
        "rna1.summary()"
      ],
      "execution_count": 0,
      "outputs": []
    },
    {
      "cell_type": "markdown",
      "metadata": {
        "id": "irERP_oqoHOj",
        "colab_type": "text"
      },
      "source": [
        "**Saída esperada:**\n",
        "    \n",
        "    Model: \"sequential\"\n",
        "    _________________________________________________________________    \n",
        "    Layer (type)                 Output Shape              Param #   \n",
        "    =================================================================\n",
        "    dense_1 (Dense)              (None, 64)                131136    \n",
        "    _________________________________________________________________\n",
        "    dense_2 (Dense)              (None, 6)                 390       \n",
        "    =================================================================\n",
        "    Total params: 131,526\n",
        "    Trainable params: 131,526\n",
        "    Non-trainable params: 0\n",
        "    _________________________________________________________________\n",
        "    "
      ]
    },
    {
      "cell_type": "markdown",
      "metadata": {
        "id": "7nHxi-gdoHOj",
        "colab_type": "text"
      },
      "source": [
        "### Exercício #5: Compilação e treinamento da RNA\n",
        "\n",
        "Agora você vai treinar a sua RNA usando o método de otimização Adams. Assim, na célula abaixo, compile e treine a sua RNA usando os seguinte hiperparâmetros:\n",
        "\n",
        "- método Adam;\n",
        "- taxa de aprendizagem = 0.001;\n",
        "- beta1 = 0.9;\n",
        "- beta2 = 0.999;\n",
        "- decay = 0;\n",
        "- número de épocas = 30;\n",
        "- verbose = 1."
      ]
    },
    {
      "cell_type": "code",
      "metadata": {
        "id": "bb3SzD4eoHOj",
        "colab_type": "code",
        "colab": {}
      },
      "source": [
        "# PARA VOCÊ FAZER: compilação e treinamento da RNA usando o método Adam\n",
        "\n",
        "# importa do keras a classe dos otimizadores\n",
        "from tensorflow.keras import optimizers\n",
        "\n",
        "# Configuração do otimizador\n",
        "### COMECE AQUI ### (≈ 2 linhas)\n",
        "#adam \n",
        "#\n",
        "### TERMINE AQUI ###\n",
        "\n",
        "# Treinamento da RNA\n",
        "### COMECE AQUI ### (≈ 1 linha)\n",
        "#history1 \n",
        "### TERMINE AQUI ###"
      ],
      "execution_count": 0,
      "outputs": []
    },
    {
      "cell_type": "markdown",
      "metadata": {
        "id": "s-dVM1t_oHOl",
        "colab_type": "text"
      },
      "source": [
        "**Saída esperada:**\n",
        "\n",
        "    Train on 960 samples, validate on 120 samples\n",
        "    Epoch 1/30\n",
        "    960/960 [==============================] - 1s 822us/sample - loss: 1.0830 - acc: 0.6271 - val_loss: 0.6548 - val_acc: 0.8000\n",
        "    .\n",
        "    .\n",
        "    .    \n",
        "    Epoch 30/30\n",
        "    960/960 [==============================] - 0s 54us/sample - loss: 0.0072 - acc: 1.0000 - val_loss: 0.1147 - val_acc: 0.9750"
      ]
    },
    {
      "cell_type": "markdown",
      "metadata": {
        "id": "fV0d1q_LoHOl",
        "colab_type": "text"
      },
      "source": [
        "### Visualização dos resultados\n",
        "\n",
        "Execute as células a seguir para fazer os gráficos da função de custo e da métrica para os dados de treinamento e validação. Talvez seja necessário mudar os nomes das variáveis `loss`, `acc`, `val_loss` e `val_acc`, que representam os valores da função de custo e da exatidão para os os dados de treinamento e validação. Para obter os nomes corretos dessa variáveis execute primeiramente a célula abaixo e depois se for o caso acerte os nomes das variáveis."
      ]
    },
    {
      "cell_type": "code",
      "metadata": {
        "id": "IvB4JKAPoHOm",
        "colab_type": "code",
        "colab": {}
      },
      "source": [
        "# Salva treinamento na variável history para visualização\n",
        "history_dict1 = history1.history\n",
        "print(history_dict1.keys())"
      ],
      "execution_count": 0,
      "outputs": []
    },
    {
      "cell_type": "code",
      "metadata": {
        "id": "est6OUz1oHOo",
        "colab_type": "code",
        "colab": {}
      },
      "source": [
        "# Salva custos, métricas e epocas em vetores \n",
        "custo1 = history_dict1['loss']\n",
        "acc1 = history_dict1['accuracy']\n",
        "val_custo1 = history_dict1['val_loss']\n",
        "val_acc1 = history_dict1['val_accuracy']\n",
        "\n",
        "# Cria vetor de épocas\n",
        "epocas1 = range(1, len(custo1) + 1)\n",
        "\n",
        "# Gráfico dos valores de custo\n",
        "plt.plot(epocas1, custo1, 'bo', label='Custo - treinamento')\n",
        "plt.plot(epocas1, val_custo1, 'b', label='Custo - validação')\n",
        "plt.title('Valor da função de custo – treinamento e validação')\n",
        "plt.xlabel('Épocas')\n",
        "plt.ylabel('Custo')\n",
        "plt.legend()\n",
        "plt.show()\n",
        "\n",
        "# Gráfico dos valores da métrica\n",
        "plt.plot(epocas1, acc1, 'bo', label='exatidao- treinamento')\n",
        "plt.plot(epocas1, val_acc1, 'b', label='exatidao - validação')\n",
        "plt.title('Valor da métrica – treinamento e validação')\n",
        "plt.xlabel('Épocas')\n",
        "plt.ylabel('Exatidao')\n",
        "plt.legend()\n",
        "plt.show()"
      ],
      "execution_count": 0,
      "outputs": []
    },
    {
      "cell_type": "markdown",
      "metadata": {
        "id": "u54CMQrFoHOp",
        "colab_type": "text"
      },
      "source": [
        "### Exercício #6: Cálculo dos custo e das métricas\n",
        "\n",
        "Na célula abaixo crie um código para calcular os valores do custo e da exatidão para os dados de treinamento, validação e teste."
      ]
    },
    {
      "cell_type": "code",
      "metadata": {
        "id": "Tt7mWtusoHOp",
        "colab_type": "code",
        "colab": {}
      },
      "source": [
        "# PARA VOCÊ FAZER: Usando o método evaluate calcule o custo e exatidão resultantes do treinamento\n",
        "\n",
        "### COMECE AQUI ### (≈ 3 linhas)\n",
        "#Calculo do custo e exatidão para os dados de treinamento, validação e teste\n",
        "#custo_e_metricas_train1 \n",
        "#custo_e_metricas_val1 \n",
        "#custo_e_metricas_test1 \n",
        "### TERMINE AQUI ###\n",
        "\n",
        "print(custo_e_metricas_train1)\n",
        "print(custo_e_metricas_val1)\n",
        "print(custo_e_metricas_test1)"
      ],
      "execution_count": 0,
      "outputs": []
    },
    {
      "cell_type": "markdown",
      "metadata": {
        "id": "vcREXozWoHOr",
        "colab_type": "text"
      },
      "source": [
        "**Saída esperada:**\n",
        "\n",
        "    960/960 [==============================] - 0s 84us/sample - loss: 0.0066 - acc: 1.0000\n",
        "    120/120 [==============================] - 0s 58us/sample - loss: 0.1147 - acc: 0.9750\n",
        "    120/120 [==============================] - 0s 75us/sample - loss: 0.0552 - acc: 0.9667\n",
        "    [0.006600972047696511, 1.0]\n",
        "    [0.1146508887410164, 0.975]\n",
        "    [0.055163777867952984, 0.96666664]"
      ]
    },
    {
      "cell_type": "markdown",
      "metadata": {
        "id": "n7I8X5ipoHOr",
        "colab_type": "text"
      },
      "source": [
        "**Análise dos resultados:**\n",
        "\n",
        "Pelos gráficos da função de custo e da métrica você deve observar o seguinte:\n",
        "\n",
        "- O treinamento é bem rápido, sendo que em um pouco mais do que 15 épocas obtém-se uma exatidão de 100% para os dados de treinamento.\n",
        "- Não ocorreu problema de overfitting no treinamento.\n",
        "- A exatidão obtida para os dados de validação é de 97,5% e para os dados de teste é de 96,7%. Esses resultados são muito bons e foram obtidos com muito pouco trabalho e principalmente com um conjunto de dados relativamente pequeno."
      ]
    },
    {
      "cell_type": "markdown",
      "metadata": {
        "id": "hSabKT9xoHOs",
        "colab_type": "text"
      },
      "source": [
        "### Verificação dos resultados\n",
        "\n",
        "Execute a célula abaixo para calcular as previsões da sua RNA para as imagens dos dados de teste e depois verificar se algumas dessas previsões estão corretas. Troque a variável index (variando entre 0 e 119) para verificar se a sua RNA consegue classificar corretamente o sinal de mão mostrado nas imagens."
      ]
    },
    {
      "cell_type": "code",
      "metadata": {
        "id": "NnW-XfpWoHOs",
        "colab_type": "code",
        "colab": {}
      },
      "source": [
        "# Cálculo das classes previstas pela RNA com dropout\n",
        "\n",
        "# Calculo das previsões da RNA\n",
        "Y_test1 = rna1.predict(test_carac)\n",
        "\n",
        "# Cálculo das classes previstas\n",
        "classe1 = np.argmax(Y_test1, axis=1)\n",
        "\n",
        "# Exemplo de uma imagem dos dados de teste\n",
        "index = 21\n",
        "plt.imshow(X_test_orig[index])\n",
        "print (\"classe prevista = \" + str(np.squeeze(classe1[index])))\n",
        "print (\"classe real = \" + str(np.squeeze(Y_test_orig[:, index])))"
      ],
      "execution_count": 0,
      "outputs": []
    },
    {
      "cell_type": "markdown",
      "metadata": {
        "id": "2nZpmrLKoHOt",
        "colab_type": "text"
      },
      "source": [
        "## 5 - RNA completa para processamento das imagens e classificação\n",
        "\n",
        "O segundo método de realizar transferência de treinamento é mais demorado e computacionalmente mais exigente, mas os resultados em geral são melhores. Esse método consiste em estender a rna_base adicionando as camadas densas para classificação e treinar parcialmente a RNA resultante. A rna_base é adicionada como se fosse uma camada de uma RNA sequencial da mesma forma como adicionamos qualquer tipo de camada. Esse método permite criar uma nova RNA completa e, assim, obter resultados melhores do que somente usar a rna_base para extrair características.\n",
        "\n",
        "### Exercício #7: Configuração da RNA completa usando a rna_base\n",
        "\n",
        "Na célula abaixo crie um código para configurar uma nova RNA completa tendo como camadas convolucionais iniciais a rna_base e duas camadas densas na saída. As características dessa RNA são as seguintes:\n",
        "\n",
        "- Tensor de entrada: tensor com as imagens; \n",
        "- Dimensão das imagens de entrada está na variável image_dim;\n",
        "- Camadas convolucionais: rna_base;\n",
        "- Camada intermediária: número de neurônios 64, função de ativação ReLu;\n",
        "- Camada de saída Segunda camada convolucional: número neurônios 6, função de ativação softmax.\n",
        "\n",
        "**Observação:** Nessa célula é criada uma nova camada de entrada para que a VGG16 aceite imagens com as dimensões do seu problema. Note que essa operação não é necessária em razão de já termos feito isso ao carregar e salvar a VGG16. Contudo, essa operação foi incluída para mostrar um exemplo de como alterar as dimensões da entrada de uma RNA convolucional."
      ]
    },
    {
      "cell_type": "code",
      "metadata": {
        "id": "Q86tMQgfoHOu",
        "colab_type": "code",
        "colab": {}
      },
      "source": [
        "# PARA VOCÊ FAZER: criação da RNA para classificação\n",
        "\n",
        "# Importa do keras camada de entrada\n",
        "from tensorflow.keras import layers\n",
        "\n",
        "# Reinicializa o gerador de números aleatórios\n",
        "np.random.seed(14)\n",
        "\n",
        "# Cria uma nova camada de entrada com dimensão igual a das imagens (data_shape)\n",
        "input_layer = layers.InputLayer(input_shape=image_dim, name=\"input_1\")\n",
        "\n",
        "# Troca a camada de entrada da rna_base de dimensão (None,None,None,3) para dimensão data_shape\n",
        "rna_base.layers[0] = input_layer\n",
        "\n",
        "# Inicia RNA sequencial com a rna_base e adiciona as camadas de flattenning e densas\n",
        "#### COMECE AQUI ### (≈ 5 linhas) \n",
        "#rna2 = \n",
        "#\n",
        "#\n",
        "#\n",
        "#\n",
        "### TERMINE AQUI ###\n",
        "\n",
        "# Visualização da arquitetura da rede\n",
        "rna2.summary()"
      ],
      "execution_count": 0,
      "outputs": []
    },
    {
      "cell_type": "markdown",
      "metadata": {
        "id": "9bXjKCisoHOv",
        "colab_type": "text"
      },
      "source": [
        "**Saída esperada:**\n",
        "\n",
        "    Model: \"sequential_1\"\n",
        "    _________________________________________________________________\n",
        "    Layer (type)                 Output Shape              Param #   \n",
        "    =================================================================\n",
        "    vgg16 (Model)                (None, 2, 2, 512)         14714688  \n",
        "    _________________________________________________________________\n",
        "    flatten_1 (Flatten)          (None, 2048)              0         \n",
        "    _________________________________________________________________\n",
        "    dense_4 (Dense)              (None, 64)                131136    \n",
        "    _________________________________________________________________\n",
        "    dense_5 (Dense)              (None, 6)                 390       \n",
        "    =================================================================\n",
        "    Total params: 14,846,214\n",
        "    Trainable params: 14,846,214\n",
        "    Non-trainable params: 0\n",
        "    _________________________________________________________________\n",
        "\n",
        "Nota-se que a nova RNA possui 14.846.214 parâmetros, sendo que 14.714.688 parâmetros são da VGG16 e 131.526 são das camadas densas que você incluiu."
      ]
    },
    {
      "cell_type": "markdown",
      "metadata": {
        "id": "G1qVr_8CoHOw",
        "colab_type": "text"
      },
      "source": [
        "### Exercício #8: Congelamento dos parâmetros da rna_base\n",
        "\n",
        "Antes de compilar e treinar essa nova RNA é muito importante “congelar” os parâmetros da rna_base. “Congelar” uma camada, ou um conjunto de camadas significa impedir que os seus parâmetros sejam atualizados durante o treinamento. Se isso não for realizado o aprendizado da RNA convolucional usada como base será modificado durante o treinamento. Na medida em que as camadas densas são inicializadas aleatoriamente, erros grandes na saída da RNA serão obtidos no início do treinamento gerando gradientes de grande amplitude, que são propagados na RNA destruindo o aprendizado prévio.\n",
        "\n",
        "Na célula abaixo crie um código que congela os parâmetros da rna_base definindo o seu atributo trainable igual a False (ver notas de aula)."
      ]
    },
    {
      "cell_type": "code",
      "metadata": {
        "id": "JV1fcFKgoHOw",
        "colab_type": "code",
        "colab": {}
      },
      "source": [
        "# PARA VOCÊ FAZER: congelamento dos parâmetros da rna_base\n",
        "\n",
        "# Número de parâmetros a serem treinados antes do congelamento\n",
        "print('Número de parâmetros treináveis antes do congelamento =', len(rna2.trainable_weights)) \n",
        "\n",
        "# Congelamento dos parâmetros da rna_base\n",
        "#### COMECE AQUI ### (≈ 1 linha) \n",
        "# \n",
        "### TERMINE AQUI ###\n",
        "\n",
        "# Número de parâmetros a serem treinados após o congelamento\n",
        "print('Número de parâmetros treináveis após o congelamento =', len(rna2.trainable_weights)) "
      ],
      "execution_count": 0,
      "outputs": []
    },
    {
      "cell_type": "markdown",
      "metadata": {
        "id": "Aw15dVhWoHOx",
        "colab_type": "text"
      },
      "source": [
        "**Saída esperada:**\n",
        "\n",
        "    Número de parâmetros treináveis antes do congelamento = 30\n",
        "    Número de parâmetros treináveis após o congelamento = 4"
      ]
    },
    {
      "cell_type": "markdown",
      "metadata": {
        "id": "vF46JX1HoHOy",
        "colab_type": "text"
      },
      "source": [
        "### Exercício #9: compilação e treinamento da RNA\n",
        "\n",
        "Agora você vai treinar a sua RNA usando o método de otimização Adams. Assim, na célula abaixo, compile e treine a sua RNA usando os seguinte hiperparâmetros:\n",
        "\n",
        "- método Adam;\n",
        "- taxa de aprendizagem = 0.001;\n",
        "- beta1 = 0.9;\n",
        "- beta2 = 0.999;\n",
        "- decay = 0;\n",
        "- número de épocas = 30;\n",
        "- verbose = 1.\n",
        "\n",
        "**Observação:** esse treinamento deve levar vários minutos."
      ]
    },
    {
      "cell_type": "code",
      "metadata": {
        "id": "m_HjdLpyoHOy",
        "colab_type": "code",
        "colab": {}
      },
      "source": [
        "# PARA VOCÊ FAZER: compilação e treinamento da RNA usando o método Adam\n",
        "\n",
        "# Configuração do otimizador\n",
        "### COMECE AQUI ### (≈ 2 linhas)\n",
        "#adam =\n",
        "#\n",
        "### TERMINE AQUI ###\n",
        "\n",
        "# Treinamento da RNA\n",
        "### COMECE AQUI ### (≈ 1 linha)\n",
        "#history2 \n",
        "### TERMINE AQUI ###"
      ],
      "execution_count": 0,
      "outputs": []
    },
    {
      "cell_type": "markdown",
      "metadata": {
        "id": "YBqYXS04oHO3",
        "colab_type": "text"
      },
      "source": [
        "**Saída esperada:**\n",
        "\n",
        "    Train on 960 samples, validate on 120 samples\n",
        "    Epoch 1/30\n",
        "    960/960 [==============================] - 33s 35ms/sample - loss: 1.1328 - acc: 0.5865 - val_loss: 0.6180 - val_acc: 0.8250\n",
        "    .\n",
        "    .\n",
        "    .\n",
        "    Epoch 30/30\n",
        "    960/960 [==============================] - 32s 33ms/sample - loss: 0.0066 - acc: 1.0000 - val_loss: 0.1012 - val_acc: 0.9667"
      ]
    },
    {
      "cell_type": "markdown",
      "metadata": {
        "id": "tyooKAhQoHO3",
        "colab_type": "text"
      },
      "source": [
        "### Visualização dos resultados\n",
        "\n",
        "Execute a célula a seguir para fazer os gráficos da função de custo e da métrica para os dados de treinamento e validação."
      ]
    },
    {
      "cell_type": "code",
      "metadata": {
        "id": "-go4ukIHoHO3",
        "colab_type": "code",
        "colab": {}
      },
      "source": [
        "# Salva treinamento na variável history para visualização\n",
        "history_dict2 = history2.history\n",
        "\n",
        "# Salva custos, métricas e epocas em vetores \n",
        "custo2 = history_dict2['loss']\n",
        "acc2 = history_dict2['accuracy']\n",
        "val_custo2 = history_dict2['val_loss']\n",
        "val_acc2 = history_dict2['val_accuracy']\n",
        "\n",
        "# Cria vetor de épocas\n",
        "epocas2 = range(1, len(custo2) + 1)\n",
        "\n",
        "# Gráfico dos valores de custo\n",
        "plt.plot(epocas2, custo2, 'bo', label='Custo - treinamento')\n",
        "plt.plot(epocas2, val_custo2, 'b', label='Custo - validação')\n",
        "plt.title('Valor da função de custo – treinamento e validação')\n",
        "plt.xlabel('Épocas')\n",
        "plt.ylabel('Custo')\n",
        "plt.legend()\n",
        "plt.show()\n",
        "\n",
        "# Gráfico dos valores da métrica\n",
        "plt.plot(epocas2, acc2, 'bo', label='exatidao- treinamento')\n",
        "plt.plot(epocas2, val_acc2, 'b', label='exatidao - validação')\n",
        "plt.title('Valor da métrica – treinamento e validação')\n",
        "plt.xlabel('Épocas')\n",
        "plt.ylabel('Exatidao')\n",
        "plt.legend()\n",
        "plt.show()"
      ],
      "execution_count": 0,
      "outputs": []
    },
    {
      "cell_type": "markdown",
      "metadata": {
        "id": "PN8DEeKvoHO5",
        "colab_type": "text"
      },
      "source": [
        "### Exercício #10: Cálculo do custo e da métrica\n",
        "\n",
        "Na célula abaixo crie um código para calcular os valores do custo e da exatidão para os dados de treinamento, validação e teste.\n"
      ]
    },
    {
      "cell_type": "code",
      "metadata": {
        "id": "VkpU1uWdoHO5",
        "colab_type": "code",
        "colab": {}
      },
      "source": [
        "#PARA VOCÊ FAZER: Usando o método evaluate calcule o custo e exatidão resultantes do treinamento\n",
        "\n",
        "#Calculo do custo e exatidão para os dados de treinamento, validação e teste\n",
        "### COMECE AQUI ### (≈ 3 linhas)\n",
        "#custo_e_metricas_train2 \n",
        "#custo_e_metricas_val2 \n",
        "#custo_e_metricas_test2 \n",
        "### TERMINE AQUI ###\n",
        "\n",
        "print(custo_e_metricas_train2)\n",
        "print(custo_e_metricas_val2)\n",
        "print(custo_e_metricas_test2)"
      ],
      "execution_count": 0,
      "outputs": []
    },
    {
      "cell_type": "markdown",
      "metadata": {
        "id": "l2wNSqTJoHO6",
        "colab_type": "text"
      },
      "source": [
        "**Saída esperada:**\n",
        "\n",
        "    960/960 [==============================] - 28s 29ms/sample - loss: 0.0053 - acc: 1.0000\n",
        "    120/120 [==============================] - 3s 28ms/sample - loss: 0.1470 - acc: 0.9667\n",
        "    120/120 [==============================] - 3s 29ms/sample - loss: 0.0903 - acc: 0.9750\n",
        "    [0.0053149060598419355, 1.0]\n",
        "    [0.14696299619972705, 0.96666664]\n",
        "    [0.09027432998021444, 0.975]"
      ]
    },
    {
      "cell_type": "markdown",
      "metadata": {
        "id": "TosyzqsXoHO7",
        "colab_type": "text"
      },
      "source": [
        "**Análise dos resultados:**\n",
        "\n",
        "Pelos gráficos e valores da função de custo e da métrica para os dados de treinamento, validação e teste você deve observar que o treinamento e os resultados obtidos com essa RNA é praticamente igual ao obtido pelo método de extração de características. Isso era de se esperar porque não alteramos a parte convolucional da rna_base, assim, as características extraídas das imagens são exatamente iguais nos dois casos e como a parte densa de classificação dos dois métodos tem as mesmas caraterísticas, o resultado não pode ser diferente nos dois casos.\n",
        "\n",
        "Para que seja possível obter resultados melhores com essa nova RNA temos que fazer a sua sintonia fina, ou seja, temos que retreinar a parte final da rna_base para ela se ajustar melhor aos novos dados."
      ]
    },
    {
      "cell_type": "markdown",
      "metadata": {
        "id": "EJoASWkpoHO7",
        "colab_type": "text"
      },
      "source": [
        "### Exercício #11: Descongelamento dos parâmetros do último bloco da rna_base\n",
        "\n",
        "Agora você vai realizar a sintonia fina das últimas 3 camadas convolucionais da rna_base. No caso da VGG16 usada como base isso significa que todas as camadas até o 4º bloco permanecem congeladas e as camadas do 5º bloco são descongeladas para serem retreinadas.\n",
        "\n",
        "Na célula abaixo crie um código que descongela as camadas convolucionais do último bloco da rna_base. Note que para isso você precisa saber os “nomes” das várias camadas da RNA. Verifique o nome da primmeira camada do último bloco da rna_base para incluir como um sinal para iniciar o descongelamento das camadas (ver notas de aula). "
      ]
    },
    {
      "cell_type": "code",
      "metadata": {
        "id": "yWEzzUXboHO7",
        "colab_type": "code",
        "colab": {}
      },
      "source": [
        "# PARA VOCÊ FAZER: descongelamento das camadas convolucionais do block5.\n",
        "\n",
        "# Descongela todas as camadas da rna_base\n",
        "### COMECE AQUI ### (≈ 2 linhas)\n",
        "#\n",
        "#\n",
        "### TERMINE AQUI ###\n",
        "\n",
        "# Percorre camadas da rna_base procurando pelo 5º bloco\n",
        "### COMECE AQUI AQUI ### (≈ 7 linhas)\n",
        "#for \n",
        "#          \n",
        "### TERMINE AQUI ###        \n",
        "\n",
        "# Número de parâmetros a serem treinados após o descongelamento parcial\n",
        "print('Número de parâmetros treináveis após o descongelamento =', len(rna2.trainable_weights)) "
      ],
      "execution_count": 0,
      "outputs": []
    },
    {
      "cell_type": "markdown",
      "metadata": {
        "id": "GLdlIPMsoHO9",
        "colab_type": "text"
      },
      "source": [
        "**Saída esperada:**\n",
        "\n",
        "    Número de parâmetros treináveis após o descongelamento = 10\n",
        "\n",
        "**Observação:** No treinamento da sua RNA 10 tensores de parâmetros serão treinados. Sendo que 6 pretencem às 3 últimas camadas convolucionais da rna_base (3 tensores de pesos dos filtros e 3 tensores de viéses) e 4 pertencem às duas camadas densas do final da RNA.\n"
      ]
    },
    {
      "cell_type": "markdown",
      "metadata": {
        "id": "41ZE7HitoHO9",
        "colab_type": "text"
      },
      "source": [
        "### Exercício #12: Continuação do treinamento (sintonia fina) da RNA\n",
        "\n",
        "Agora a RNA está pronta para ser retreinada e sintonizada para o novo problema. Lembre-se de que a sintonia fina deve ser realizada com uma taxa de aprendizado muito pequena, porque se deseja limitar o valor das modificações das camadas convolucionais que estão sendo ajustadas. Atualizações muito grande dos parâmetros podem destruir completamente o treinamento original.\n",
        "\n",
        "Agora você vai compilar novamente e retreinar a sua RNA. Assim, na célula abaixo, compile e treine a sua RNA usando os seguinte hiperparâmetros:\n",
        "\n",
        "- método Adam;\n",
        "- taxa de aprendizagem = 2e-05;\n",
        "- beta1 = 0.9;\n",
        "- beta2 = 0.999;\n",
        "- decay = 0;\n",
        "- número de épocas = 30;\n",
        "- verbose = 1.\n",
        "\n",
        "**Observação:** Esse treinamento deve levar vários minutos."
      ]
    },
    {
      "cell_type": "code",
      "metadata": {
        "id": "7YDeHlL2oHO-",
        "colab_type": "code",
        "colab": {}
      },
      "source": [
        "# PARA VOCÊ FAZER: compilação e treinamento da RNA usando o método Adam\n",
        "\n",
        "# Salva o aprendizado anterior para se precisar começar de novo\n",
        "rna3 = rna2\n",
        "\n",
        "# Configuração do otimizador\n",
        "### COMECE AQUI ### (≈ 2 linhas)\n",
        "#adam \n",
        "#\n",
        "### TERMINE AQUI ###\n",
        "\n",
        "# Treinamento da RNA\n",
        "### COMECE AQUI ### (≈ 1 linha)\n",
        "#history3 \n",
        "### TERMINE AQUI ###"
      ],
      "execution_count": 0,
      "outputs": []
    },
    {
      "cell_type": "markdown",
      "metadata": {
        "id": "moBR8Dh9oHO_",
        "colab_type": "text"
      },
      "source": [
        "**Saída esperada:**\n",
        "\n",
        "    Train on 960 samples, validate on 120 samples\n",
        "    Epoch 1/30\n",
        "    960/960 [==============================] - 39s 41ms/sample - loss: 0.0165 - acc: 0.9948 - val_loss: 0.0995 - val_acc: 0.9583\n",
        "    .\n",
        "    .\n",
        "    .\n",
        "    Epoch 30/30\n",
        "    960/960 [==============================] - 37s 39ms/sample - loss: 1.3403e-05 - acc: 1.0000 - val_loss: 0.1098 - val_acc: 0.9833"
      ]
    },
    {
      "cell_type": "markdown",
      "metadata": {
        "id": "U-ModpdjoHPA",
        "colab_type": "text"
      },
      "source": [
        "### Visualização dos resultados\n",
        "\n",
        "Execute a célula a seguir para fazer os gráficos da função de custo e da métrica para os dados de treinamento e validação."
      ]
    },
    {
      "cell_type": "code",
      "metadata": {
        "id": "7fNrx8V_oHPA",
        "colab_type": "code",
        "colab": {}
      },
      "source": [
        "# Salva treinamento na variável history para visualização\n",
        "history_dict3 = history3.history\n",
        "\n",
        "# Salva custos, métricas e epocas em vetores \n",
        "custo3 = history_dict3['loss']\n",
        "acc3 = history_dict3['accuracy']\n",
        "val_custo3 = history_dict3['val_loss']\n",
        "val_acc3 = history_dict3['val_accuracy']\n",
        "\n",
        "# Cria vetor de épocas\n",
        "epocas3 = range(1, len(custo3) + 1)\n",
        "\n",
        "# Gráfico dos valores de custo\n",
        "plt.plot(epocas3, custo3, 'bo', label='Custo - treinamento')\n",
        "plt.plot(epocas3, val_custo3, 'b', label='Custo - validação')\n",
        "plt.title('Valor da função de custo – treinamento e validação')\n",
        "plt.xlabel('Épocas')\n",
        "plt.ylabel('Custo')\n",
        "plt.legend()\n",
        "plt.show()\n",
        "\n",
        "# Gráfico dos valores da métrica\n",
        "plt.plot(epocas3, acc3, 'bo', label='exatidao- treinamento')\n",
        "plt.plot(epocas3, val_acc3, 'b', label='exatidao - validação')\n",
        "plt.title('Valor da métrica – treinamento e validação')\n",
        "plt.xlabel('Épocas')\n",
        "plt.ylabel('Exatidao')\n",
        "plt.legend()\n",
        "plt.show()"
      ],
      "execution_count": 0,
      "outputs": []
    },
    {
      "cell_type": "markdown",
      "metadata": {
        "id": "Xsl7_hXFoHPB",
        "colab_type": "text"
      },
      "source": [
        "Execute a célula abaixo para calcular os valores do custo e da exatidão para os dados de treinamento, validação e teste."
      ]
    },
    {
      "cell_type": "code",
      "metadata": {
        "id": "ymwkiJuNoHPC",
        "colab_type": "code",
        "colab": {}
      },
      "source": [
        "#Calculo do custo e exatidão para os dados de treinamento, validação e teste\n",
        "custo_e_metricas_train3 = rna3.evaluate(X_train, Y_train_hot)\n",
        "custo_e_metricas_val3 = rna3.evaluate(X_val, Y_val_hot)\n",
        "custo_e_metricas_test3 = rna3.evaluate(X_test, Y_test_hot)\n",
        "\n",
        "print(custo_e_metricas_train3)\n",
        "print(custo_e_metricas_val3)\n",
        "print(custo_e_metricas_test3)"
      ],
      "execution_count": 0,
      "outputs": []
    },
    {
      "cell_type": "markdown",
      "metadata": {
        "id": "OUv9PSpyoHPD",
        "colab_type": "text"
      },
      "source": [
        "**Saída esperada:**\n",
        "\n",
        "    960/960 [==============================] - 27s 29ms/sample - loss: 1.2559e-05 - acc: 1.0000\n",
        "    120/120 [==============================] - 3s 28ms/sample - loss: 0.1098 - acc: 0.9833\n",
        "    120/120 [==============================] - 3s 28ms/sample - loss: 0.0696 - acc: 0.9667\n",
        "    [1.2558833835403979e-05, 1.0]\n",
        "    [0.10976095756777796, 0.98333335]\n",
        "    [0.06959424574548999, 0.96666664]\n"
      ]
    },
    {
      "cell_type": "markdown",
      "metadata": {
        "id": "5drrKRGYoHPE",
        "colab_type": "text"
      },
      "source": [
        "### Análise dos resultados ###\n",
        "\n",
        "- Pode-se observar que o treinamento não inicia do zero pois as camadas densas da RNA já foram pré-treinadas e agora somente estão sendo ajustados os parâmetros das últimas camadas convolucionais da rna_base e retreinando as camadas densas.\n",
        "- Uma exatidão de 97,5% para os dados de validação e de 96,7% para os dados de teste represetam um resultado muito bom, considerando o pequeno conjunto de dados utilizado.\n",
        "- Observa-se que os resultados da exatidão para os dados de teste não melhoraram muito. Isso ocorre provavelmente porque o número de exemplos de teste é pequeno e também provavelmente porque os exemplos classificados de forma errada devem ser muito difícieis para qualquer sistema identificar corretamente."
      ]
    },
    {
      "cell_type": "markdown",
      "metadata": {
        "id": "NVDTnSLSoHPE",
        "colab_type": "text"
      },
      "source": [
        "### Exercício #13: Verificação dos resultados\n",
        "\n",
        "Na célula abaixo calcule a previsões da sua RNA para as imagens dos dados de teste e depois verifique se algumas dessas previsões estão corretas. Note que a previsão da RNA é um vetor de 6 elementos com as probabilidades da imagem mostrar os seis sinais. Para detereminar a classe prevista deve-se transformar esse vetor em um número inteiro de 0 a 5, que representa o sinal sendo mostrado. Para fazer essa transformação use a função numpy argmax(Y_test, axis=?), onde Y_test_prev é o tensor com as saídas previstas pela RNA. Em qual eixo você deve calcular o índice da maior probabilidade?"
      ]
    },
    {
      "cell_type": "code",
      "metadata": {
        "scrolled": true,
        "id": "IYbXmM24oHPE",
        "colab_type": "code",
        "colab": {}
      },
      "source": [
        "# PARA VOCÊ FAZER: cálculo das classes previstas pela RNA com dropout\n",
        "\n",
        "# Calculo das previsões da RNA\n",
        "### COMECE AQUI ### (≈ 1 linha)\n",
        "#Y_test_prev \n",
        "### TERMINE AQUI ###\n",
        "\n",
        "# Cálculo das classes previstas\n",
        "### COMECE AQUI ### (≈ 1 linha)\n",
        "#classe3 \n",
        "### TERMINE AQUI ###\n",
        "\n",
        "# Gráfico das classes reais e previstas\n",
        "# Fazer o gráfico das classes reais e previstas\n",
        "plt.figure(figsize=(16, 4))\n",
        "plt.plot(Y_test, 'ro', label='Classes reais')\n",
        "plt.plot(classe3, 'bo', label='Classes previstas')\n",
        "plt.title('Classes reais e previstas')\n",
        "plt.xlabel('Exemplos')\n",
        "plt.ylabel('Classes')\n",
        "plt.legend()\n",
        "plt.show()"
      ],
      "execution_count": 0,
      "outputs": []
    },
    {
      "cell_type": "markdown",
      "metadata": {
        "id": "HFcl8LKOoHPG",
        "colab_type": "text"
      },
      "source": [
        "**Saída esperada:**\n",
        "\n",
        "<img src=\"classes_reais_previstas.png\" style=\"width:950px;height:280px;\">\n",
        "\n",
        "**Comentários:**\n",
        "\n",
        "- Uma previsão errada de classe pode ser dectada pelos círculos vermelhos, pois quando a classe prevista é igual à classe real o círculo azul é colocado em cima do vermelho tapando-o.\n",
        "\n",
        "- No gráfico devem aparecer mais círculos azuis do que vermelhos indicando que existem mais acertos do que erros na previsão das classes.\n",
        "\n",
        "\n",
        "\n",
        "**Visualização de previsões erradas:**\n",
        "\n",
        "Use o gráfico acima e escolha um exemplo onde a previsão da sua RNA está errada. Na célula abaixo troque a variável index e execute-a para verificar se o exemplo tem alguma particularidade que dificulta a sua RNA de prever corretamente a classe desse exemplo."
      ]
    },
    {
      "cell_type": "code",
      "metadata": {
        "id": "FVk0f8wSoHPG",
        "colab_type": "code",
        "colab": {}
      },
      "source": [
        "# Cálculo das classes previstas pela RNA com dropout\n",
        "\n",
        "# Exemplo de uma imagem dos dados de teste\n",
        "index = 61\n",
        "plt.imshow(X_test_orig[index])\n",
        "print (\"classe prevista = \" + str(np.squeeze(classe3[index])))\n",
        "print (\"classe real = \" + str(np.squeeze(Y_test_orig[:, index])))\n"
      ],
      "execution_count": 0,
      "outputs": []
    },
    {
      "cell_type": "markdown",
      "metadata": {
        "id": "ztjOBT_0oHPI",
        "colab_type": "text"
      },
      "source": [
        "### Conclusões\n",
        "\n",
        "Uma exatidão de quase 97% para as imagens de teste representa um resultado excelente. Esse resultado é supreendente tendo em vista o pequeno número de imagens utilizadas. \n",
        "\n",
        "A partir desses resultados você pode concluir o seguinte:\n",
        "\n",
        "- Transferência de aprendizado consiste de uma abordagem fácil e altamente eficiente para desenvolver uma nova aplicação.\n",
        "- Transferência de aprendizado é muito eficiente, principalmente quando o banco de dados disponível é pequeno.\n",
        "- Existem dois métodos para usar uma RNA pré-treinada. Qualquer um dos dois métodos é muito eficiente para obter sistemas com alto desempenho, mesmo quando o conjunto de dados é pequeno.\n",
        "- A transferência de treinamento realizada com treinamento parcial com  a técnica de sintonia fina é extremamente eficiente para obter sistemas com alto desempenho, mesmo quando o conjunto de dados é pequeno."
      ]
    }
  ]
}