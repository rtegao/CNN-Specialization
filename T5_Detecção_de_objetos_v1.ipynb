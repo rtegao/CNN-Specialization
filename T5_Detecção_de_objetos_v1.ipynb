{
  "nbformat": 4,
  "nbformat_minor": 0,
  "metadata": {
    "colab": {
      "name": "T5_Detecção_de_objetos_v1.ipynb",
      "provenance": [],
      "toc_visible": true,
      "include_colab_link": true
    },
    "coursera": {
      "course_slug": "convolutional-neural-networks",
      "graded_item_id": "OMdut",
      "launcher_item_id": "bbBOL"
    },
    "kernelspec": {
      "display_name": "Python 3",
      "language": "python",
      "name": "python3"
    },
    "language_info": {
      "codemirror_mode": {
        "name": "ipython",
        "version": 3
      },
      "file_extension": ".py",
      "mimetype": "text/x-python",
      "name": "python",
      "nbconvert_exporter": "python",
      "pygments_lexer": "ipython3",
      "version": "3.7.4"
    }
  },
  "cells": [
    {
      "cell_type": "markdown",
      "metadata": {
        "id": "view-in-github",
        "colab_type": "text"
      },
      "source": [
        "<a href=\"https://colab.research.google.com/github/rtegao/CNN-Specialization/blob/master/T5_Detec%C3%A7%C3%A3o_de_objetos_v1.ipynb\" target=\"_parent\"><img src=\"https://colab.research.google.com/assets/colab-badge.svg\" alt=\"Open In Colab\"/></a>"
      ]
    },
    {
      "cell_type": "markdown",
      "metadata": {
        "colab_type": "text",
        "id": "08rPzNpNReI3"
      },
      "source": [
        "# Trabalho #5 - Detecção de objetos\n",
        "\n",
        "Nesse trabalho você vai utilizar a RNA YOLO para detectar objetos. As ideias implementadas nesse trabalho estão descritas em: Redmon et al., 2016 (https://arxiv.org/abs/1506.02640) and Redmon and Farhadi, 2016 (https://arxiv.org/abs/1612.08242). \n",
        "\n",
        "**Nesse trabalho você vai aprender:**\n",
        "\n",
        "- Usar técnicas de detecção de objetos em imagens de um banco de dados usado para carros autônomos;\n",
        "- Trabalhar com caixas delimitadoras e caixas âncora.\n",
        "\n",
        "**Observação:** algumas funções desse trabalho são complicadas de serem implementadas, dessa forma, a solução desse trabalho será fornecida posteriormente para os alunos."
      ]
    },
    {
      "cell_type": "markdown",
      "metadata": {
        "colab_type": "text",
        "id": "Tn5p5CyhReI4"
      },
      "source": [
        "## Coloque os nomes e RAs dos alunos que fizeram esse trabalho\n",
        "\n",
        "Nome e número dos alunos da equipe:\n",
        "\n",
        "Aluno 1: Ricardo Rossi Tegao 20.83988-0\n",
        "\n",
        "Aluno 2:"
      ]
    },
    {
      "cell_type": "markdown",
      "metadata": {
        "id": "EvkTXJpgnwSY",
        "colab_type": "text"
      },
      "source": [
        "### Arquivos e subdiretórios necessários\n",
        "\n",
        "Nesse trabalho você precisa de dversoss arquivos:\n",
        "\n",
        "1) Rede YOLO no formato h5. Esse arquivo se encontra no link abaixo para você fazer download:\n",
        "\n",
        "https://drive.google.com/open?id=12TTwbjXz6ydQRxOqO1PPyN1VXSDrFLUU\n",
        "\n",
        "2) Diretório com as imagens usadas para testar o seu algoritmo:\n",
        "\n",
        "https://drive.google.com/open?id=1xIyYSbqeBzOPvB_7xsbkYNmRbNDC9Hxi\n",
        "\n",
        "3) Diretório com fontes utilizadas pela rede YOLO:\n",
        "\n",
        "https://drive.google.com/open?id=1IzBtYeoVrf0z1BlA6uwwsTsPjng1Rgmy\n",
        "\n",
        "Coloque o arquivo da YOLO e esses dois subdiretórios no mesmo diretório do seu notebook."
      ]
    },
    {
      "cell_type": "code",
      "metadata": {
        "colab_type": "code",
        "id": "Uj8VFQQAbQcC",
        "outputId": "49368ccb-579a-43e5-d799-58fff2b17dd8",
        "colab": {
          "base_uri": "https://localhost:8080/",
          "height": 122
        }
      },
      "source": [
        "from google.colab import drive\n",
        "drive.mount('/content/drive')"
      ],
      "execution_count": 1,
      "outputs": [
        {
          "output_type": "stream",
          "text": [
            "Go to this URL in a browser: https://accounts.google.com/o/oauth2/auth?client_id=947318989803-6bn6qk8qdgf4n4g3pfee6491hc0brc4i.apps.googleusercontent.com&redirect_uri=urn%3aietf%3awg%3aoauth%3a2.0%3aoob&response_type=code&scope=email%20https%3a%2f%2fwww.googleapis.com%2fauth%2fdocs.test%20https%3a%2f%2fwww.googleapis.com%2fauth%2fdrive%20https%3a%2f%2fwww.googleapis.com%2fauth%2fdrive.photos.readonly%20https%3a%2f%2fwww.googleapis.com%2fauth%2fpeopleapi.readonly\n",
            "\n",
            "Enter your authorization code:\n",
            "··········\n",
            "Mounted at /content/drive\n"
          ],
          "name": "stdout"
        }
      ]
    },
    {
      "cell_type": "code",
      "metadata": {
        "colab_type": "code",
        "id": "8Y1f8U4XbcnJ",
        "outputId": "c0ec9d16-63f2-4faa-d2e4-ba8e04574e52",
        "colab": {
          "base_uri": "https://localhost:8080/",
          "height": 119
        }
      },
      "source": [
        "%cd /content/drive/My Drive/Specialization/Projects/Convolutional Neural Networks/T5 - Detecao de Objetos\n",
        "!ls"
      ],
      "execution_count": 3,
      "outputs": [
        {
          "output_type": "stream",
          "text": [
            "/content/drive/My Drive/Specialization/Projects/Convolutional Neural Networks/T5 - Detecao de Objetos\n",
            "anchor_map.png\t  iou.png\t\t      road_video_compressed2.mp4\n",
            "architecture.png  non-max-suppression.png     T5_Detecção_de_objetos_v1.ipynb\n",
            "box_label2.png\t  pred_video_compressed2.mp4  yolo_anchors.txt\n",
            "coco_classes.txt  probability_extraction.png  yolo.h5\n",
            "flatten.png\t  proba_map.png\t\t      yolo_utils.py\n"
          ],
          "name": "stdout"
        }
      ]
    },
    {
      "cell_type": "markdown",
      "metadata": {
        "colab_type": "text",
        "id": "sYsTRlKPReI5"
      },
      "source": [
        "### Importação de bibliotecas\n",
        "\n",
        "Em primeiro lugar é necessário importar alguns pacotes do Python que serão usados ao longo nesse trabalho. Para isso, execute a célula abaixo.\n",
        "\n",
        "**Observação:**\n",
        "Esse notebook somente funciona no Colab e usa a versão 1 do TensorFlow que é mais antiga do que a versão 2, que é a atual."
      ]
    },
    {
      "cell_type": "code",
      "metadata": {
        "colab_type": "code",
        "id": "6bwsVJVIReI5",
        "outputId": "f006aa33-de66-49ed-919b-250e8a8e4705",
        "colab": {
          "base_uri": "https://localhost:8080/",
          "height": 34
        }
      },
      "source": [
        "%tensorflow_version 1.x"
      ],
      "execution_count": 4,
      "outputs": [
        {
          "output_type": "stream",
          "text": [
            "TensorFlow 1.x selected.\n"
          ],
          "name": "stdout"
        }
      ]
    },
    {
      "cell_type": "code",
      "metadata": {
        "colab_type": "code",
        "id": "8wyO-j2DReI9",
        "outputId": "4a82a01a-146c-4c61-927e-80b8769988f8",
        "colab": {
          "base_uri": "https://localhost:8080/",
          "height": 34
        }
      },
      "source": [
        "import matplotlib.pyplot as plt\n",
        "from matplotlib.pyplot import imshow\n",
        "import numpy as np\n",
        "import tensorflow as tf\n",
        "print(tf.__version__)"
      ],
      "execution_count": 5,
      "outputs": [
        {
          "output_type": "stream",
          "text": [
            "1.15.2\n"
          ],
          "name": "stdout"
        }
      ]
    },
    {
      "cell_type": "code",
      "metadata": {
        "colab_type": "code",
        "id": "w3gOYkHGReJA",
        "colab": {}
      },
      "source": [
        "from tensorflow.keras import backend as K\n",
        "from tensorflow.keras.models import load_model, Model\n",
        "from yolo_utils import *\n",
        "\n",
        "%matplotlib inline"
      ],
      "execution_count": 0,
      "outputs": []
    },
    {
      "cell_type": "markdown",
      "metadata": {
        "colab_type": "text",
        "id": "zdLqC2sIReJD"
      },
      "source": [
        "**Observação:**\n",
        "\n",
        "Note que o TensorFlow-Keras Backend foi importado como K. Isso significa que para usar as funções do Keras é necessário escrever `K.function(...)`."
      ]
    },
    {
      "cell_type": "markdown",
      "metadata": {
        "colab_type": "text",
        "id": "iea8d6IsReJG"
      },
      "source": [
        "### Execução no modo \"eager\"\n",
        "\n",
        "Execute a célula abaixo para executar o TensorFlow no modo \"eager\""
      ]
    },
    {
      "cell_type": "code",
      "metadata": {
        "colab_type": "code",
        "id": "sQwOB3ggReJH",
        "outputId": "4d9ce70d-b92c-4ba8-bc16-12a507ab984b",
        "colab": {
          "base_uri": "https://localhost:8080/",
          "height": 34
        }
      },
      "source": [
        "# Habilitação do modo eager\n",
        "tf.enable_eager_execution()\n",
        "\n",
        "# Verificação se modo eager está ativo\n",
        "tf.executing_eagerly()"
      ],
      "execution_count": 7,
      "outputs": [
        {
          "output_type": "execute_result",
          "data": {
            "text/plain": [
              "True"
            ]
          },
          "metadata": {
            "tags": []
          },
          "execution_count": 7
        }
      ]
    },
    {
      "cell_type": "markdown",
      "metadata": {
        "colab_type": "text",
        "id": "ntivLvUfReJK"
      },
      "source": [
        "## 1 - Definição do problema\n",
        "\n",
        "Um componente crítico de um carro autônomo é o sistema de detecção de objetos. Esse sistema é baseado em imagens coletadas por uma câmera colocada no capô (na frente) do carro. Essa câmera adquire imagens da rua enquanto o carro se move, como mostrado no vídeo abaixo.\n",
        "\n",
        "&nbsp;\n",
        "\n",
        "<center>\n",
        "<video width=\"400\" height=\"200\" src=\"road_video_compressed2.mp4\" type=\"video/mp4\" controls>\n",
        "</video>\n",
        "</center>\n",
        "\n",
        "<caption><center> Video 1 - Imagens adquiridas por uma câmera colocada na frente de um carro em movimento. <br> (https://www.drive.ai/)\n",
        "</center></caption>\n",
        "\n",
        "&nbsp;\n",
        "\n",
        "Para treinar uma RNA detectar, por exemplo carros, deve-se colocar todas as imagens do vídeo em um diretório catalogá-las desenhando uma caixa delimitadora em torno de cada carro presente na imagem. Na figura abaixo é mostrado um exemplo de uma caixa delimitadora.\n",
        "\n",
        "<img src=\"box_label2.png\" style=\"width:500px;height:250;\">\n",
        "<caption><center> Figura 1 - Definição de uma caixa delimitadora<br> </center></caption>\n",
        "\n",
        "Se for desejado reconhecer objetos de 80 classes diferentes (como no caso da YOLO), pode-se representar o rótulo da classe $c$ por um número inteiro de 1 a 80, ou como um vetor de dimensão 80x1, sendo que somente um componente desse vetor é igual a 1 e todo o resto é igual a zero. Nas notas de aula foi usada a segunda forma (vetor), porém nesse trabalho são usadas as duas representações, dependendo da que for mais conveniente no momento.\n",
        "\n",
        "Nesse trabalho você irá aprender como a RNA YOLO funciona. Na medida em que a RNA YOLO exige um esforço computacional muito grande, são usados parâmetros pré-treinados para serem usados."
      ]
    },
    {
      "cell_type": "markdown",
      "metadata": {
        "colab_type": "text",
        "id": "aC4bKMK4ReJL"
      },
      "source": [
        "## 2 - YOLO\n",
        "\n",
        "Como visto na aula, YOLO (\"You Only Look Once\") é um algoritmo muito eficiente que alcança exatidão alta e é capaz de ser executado em tempo real. Esse algoritmo olha somente uma vez para a imagem (\"only look once\") no sentido em que requer apenas uma passagem de propagação para frente pela RNA para fazer previsões. Após a supressão não máxima, ele gera objetos reconhecidos junto com as caixas delimitadoras.\n",
        "\n",
        "### 2.1 - Detalhes do modelo\n",
        "\n",
        "Entradas e saídas da RNA YOLO:\n",
        "\n",
        "- A entrada é um conjunto de imagens de dimensão (m, 608, 608, 3);\n",
        "- A saída é uma lista de caixas delimitadoras junto com as classes reconhecidas;\n",
        "- Cada caixa delimitadora da saída é composta por 6 números como explicado na Figura 1;\n",
        "- Se expandir as classes $c$ em um vetor de dimensão 80, cada caixa delimitadora possui 85 elementos.\n",
        "\n",
        "Nesse trabalho são usadas 5 caixas delimitadoras para cada célula em que a imagem é dividida. Dessa forma, a YOLO pode ser vista como consistindo do seguinte processo:\n",
        "\n",
        "&nbsp;\n",
        "<center> IMAGEM (m, 608, 608, 3) -> CONVNET DEEP-LEARNING -> SAÍDA (m, 19, 19, 5, 85) </center>\n",
        "\n",
        "Na Figura 2 é apresentada a arquitetura da YOLO. Se o ponto central de um objeto está dentro de uma célula, então a caixa delimitadora que detecta esse objeto fica pertencendo a essa célula.\n",
        "\n",
        "\n",
        "<img src=\"architecture.png\" style=\"width:700px;height:400;\">\n",
        "<caption><center> Figura 2 - Arquitetura da YOLO (Andrew Ng, deeplearning.ai)<br> </center></caption>\n"
      ]
    },
    {
      "cell_type": "markdown",
      "metadata": {
        "colab_type": "text",
        "id": "XjAuQXZqReJL"
      },
      "source": [
        "Na medida em que são usadas 5 caixas âncoras, cada uma das 19x19 células em que a imagem é dividida pode codificar 5 caixas. Caixas âncoras são definidas pela posição do seu centro e pela sua altura e largura. \n",
        "\n",
        "Por simplicidade as duas últimas dimensões da saída de formato (19, 19, 5, 85) são colocadas em um único vetor de dimensão 425, de forma que a saída da YOLO tem dimensão (19, 19, 425), conforme mostrado na Figura 3.\n",
        "\n",
        "\n",
        "<img src=\"flatten.png\" style=\"width:700px;height:400;\">\n",
        "<caption><center> Figura 3 - \"Flattening\" as duas últimas dimensões (Andrew Ng, deeplearning.ai)<br> </center></caption>"
      ]
    },
    {
      "cell_type": "markdown",
      "metadata": {
        "colab_type": "text",
        "id": "5SUFPjOZReJM"
      },
      "source": [
        "Para cada caixa, de cada célula, são feitas multiplicações elemento-por-elemento e, assim, calculada a probabilidade da caixa conter um objeto de determinada classe. A Figura 4 mostra esse cálculo.\n",
        "\n",
        "<img src=\"probability_extraction.png\" style=\"width:700px;height:400;\">\n",
        "<caption><center> Figura 4 - Determinação da classe do objeto detectado por cada caixa (Andrew Ng, deeplearning.ai)<br> </center></caption>\n",
        "\n",
        "Na Figura 5 é mostrada uma visualização do que a YOLO detecta em uma imagem:\n",
        "\n",
        "- Para cada uma das 19x19 células da malha, é calculada a probabilidade máxima entre as probabilidades presentes nas 5 caixas para as diferentes classes.\n",
        "- A célula aparece colorida de acordo com o objeto que aquela célula considera o de maior probabilidade.\n",
        "\n",
        "&nbsp;\n",
        "<img src=\"proba_map.png\" style=\"width:300px;height:300;\">\n",
        "<caption><center> Figura 5 - Cada uma das 19x19 células da malha coloridas de acordo com a classe que apresenta a maior probabilidade de existir naquela célula (Andrew Ng, deeplearning.ai)<br> </center></caption>\n",
        "&nbsp;\n",
        "\n",
        "Note essa visualização não faz parte da YOLO para realizar as detecções, é somente uma forma fácil de visualizar resultados intermediários do algoritmo.\n"
      ]
    },
    {
      "cell_type": "markdown",
      "metadata": {
        "colab_type": "text",
        "id": "VKvqMrwzReJM"
      },
      "source": [
        "Outra forma de visualizar a saída da YOLO é fazer um gráfico das caixas delimitadoras detectadas. Na Figura 6 é mostrada uma visualização dessa forma.\n",
        "\n",
        "&nbsp;\n",
        "<img src=\"anchor_map.png\" style=\"width:200px;height:200;\">\n",
        "<caption><center> Figura 6 - Cada célula gera 5 caixas. No total a YOLO detecta 19x19x5 = 1085 caixas para cada imagem. Cores diferentes definem classes diferentes. (andrew Ng, deeplearning.ai)<br> </center></caption>\n",
        "&nbsp;\n",
        "\n",
        "Na Figura 6, são mostradas somente as caixas que a YOLO detectou algum objeto com alta probabilidade e mesmo assim são muitas caixas. É necessário filtrar essa saída para diminuir o número de objetos detectados. Para isso, é usado o algoritmo de supressão-não-máxima. Duas etapas são realizadas nesse processo:\n",
        "\n",
        "- Eliminar as caixas com probabilidades baixas;\n",
        "- Selecionar somente uma caixa quando várias caixas se sobrepõe e detectam o mesmo objeto.\n"
      ]
    },
    {
      "cell_type": "markdown",
      "metadata": {
        "colab_type": "text",
        "id": "2Fj-CVsjReJN"
      },
      "source": [
        "### 2.2 - Filtragem das caixas com um limiar de probabilidade\n",
        "\n",
        "Nessa etapa você vai aplicar uma primeira filtragem usando um limiar para a probabilidade da caixa ter detectado ou não um objeto. Queremos eliminar as caixas cuja probabilidade \"pc\" é menor do que um dado limiar.\n",
        "\n",
        "A YOLO fornece um tensor de saída composto por 19x19x5x85 números, sendo que cada caixa é descrita por 85 números. É conveniente rearranjar o tensor de saída de dimensão (19,19,5,85) (ou (19,19,425)) nas seguintes variáveis: \n",
        "\n",
        "- `box_confidence`: tensor de dimensão $(19 \\times 19, 5, 1)$ contendo $p_c$ (probabilidade de existir objeto) para cada uma das 5 caixas detectadas em cada uma das 19x19 células;\n",
        "- `boxes`: tensor de dimensão $(19 \\times 19, 5, 4)$ contendo $(b_x, b_y, b_h, b_w)$ para cada uma das 5 caixas por célula.\n",
        "- `box_class_probs`: tensor de dimensão $(19 \\times 19, 5, 80)$ contendo as probabilidades $(c_1, c_2, ... c_{80})$ de detecção de cada uma das 80 classes para cada uma das 5 caixas por célula.\n",
        "\n",
        "\n",
        "### Exercício #1: Implementar a função `yolo_filter_boxes()`\n",
        "\n",
        "1. Calcule a probabilidade de existir algum objeto em cada caixa realizando uma operação de multiplicação elemento-por-elemento como mostrado na Figura 4. O exemplo de programa a seguir pode auxiliar:\n",
        "```python\n",
        "a = np.random.randn(19*19, 5, 1)\n",
        "b = np.random.randn(19*19, 5, 80)\n",
        "c = a * b # dimensão de c será (19*19, 5, 80)\n",
        "```\n",
        "2. Para cada caixa determinar:\n",
        "    - o índice da classe de maior probabilidade ([Dica](https://keras.io/backend/#argmax)) (Cuidado com o eixo que você deve usar; considere usar axis=-1)\n",
        "    - a caixa correspondente ([Dica](https://keras.io/backend/#max)) (Cuidado com o eixo que você deve usar; considere usar axis=-1)\n",
        "3. Crie uma máscara usando um limiar. Note que `([0.9, 0.3, 0.4, 0.5, 0.1] < 0.4)` retorna: `[False, True, False, False, True]`. A máscara deve ser True para as caixas que você quer manter. \n",
        "4. Use o TensorFlow (função boolean_mask) para aplicar a máscara em box_class_scores, boxes e box_classes e, assim, oder  eliminar as caixas que você não quer manter. No final você ficará somente com as caixas que deseja manter. ([Dica](https://www.tensorflow.org/api_docs/python/tf/boolean_mask))\n",
        "\n",
        "Lembre que para chamar uma função do Keras você deve usar `K.function(...)`."
      ]
    },
    {
      "cell_type": "code",
      "metadata": {
        "colab_type": "code",
        "id": "2L9tD6RHReJO",
        "colab": {}
      },
      "source": [
        "# PARA VOCÊ FAZER: Criar a função yolo_filter_boxes\n",
        "\n",
        "def yolo_filter_boxes(box_confidence, boxes, box_class_probs, threshold = .5):\n",
        "    \"\"\"Filtragem das caixas YOLO usando um limiar na probabilidade de existir objeto e na probabilidade das classes.\n",
        "    \n",
        "    Argumentos:\n",
        "    box_confidence = tensor de dimensão (19, 19, 5, 1)\n",
        "    boxes = tensor de dimensão (19, 19, 5, 4)\n",
        "    box_class_probs = tensor de dimensão (19, 19, 5, 80)\n",
        "    threshold = limiar (valor real), se [máxima probabilidade da caixa (box_confidence) < threshold], então, elimina a caixa correspondente\n",
        "    \n",
        "    \n",
        "    Retorna:\n",
        "    scores = tensor de dimensão (None,), contendo a probabilidade das classes para as caixas selecionadas\n",
        "    boxes = tensor de dimensão (None, 4), contendo as coordenadas (b_x, b_y, b_h, b_w) das caixas selecionadas\n",
        "    classes = tensor de dimensão (None,), contendo o índice das classes detectadas pelas caixas selecionadas\n",
        "    \n",
        "    Note: \"None\" aparece aqui porque não se sabe exatamente o número de caixas selecionadas, pois isso depende do threshold. \n",
        "    Por exemplo, o tamanho da saída dos scores é (10,) se existirem 10 caixas selecionadas.\n",
        "    \"\"\"\n",
        "    \n",
        "    # Passo 1: Calcule as probabilidades das classes das caixas (box_scores) (multiplicação elemento-por-elemento)\n",
        "    ### COMECE AQUI ### (≈ 1 linha)\n",
        "    #box_scores = \n",
        "    ### TERMINE AQUI ###\n",
        "    \n",
        "    # Passo 2: Determine as classes das caixas usando o máximo box_scores (use funções argmax e max)\n",
        "    ### COMECE AQUI ### (≈ 2 lihas)\n",
        "    #box_classes = \n",
        "    #box_class_scores = \n",
        "    ### TERMINE AQUIE ###\n",
        "    \n",
        "    # Passo 3: Crie uma máscara de filtro baseada nos \"box_class_scores\" usando um limiar. A máscara deve ter \n",
        "    # a mesma dimensão das box_class_scores e ser True para as caixas que você quer manter (probabilidade >= limiar)\n",
        "    ### COMECE AQUI ### (≈ 1 linha)\n",
        "    #filtering_mask = \n",
        "    ### TERMINE AQUI ###\n",
        "    \n",
        "    # Passo 4: Aplique a máscara aos scores, boxes e classes (use função tf.boolena_mask do TensorFlow)\n",
        "    ### COMECE AQUI ### (≈ 3 linhas)\n",
        "    #scores =\n",
        "    #boxes =\n",
        "    #classes = \n",
        "    ### TERMINE AQUI ###\n",
        "    \n",
        "    return scores, boxes, classes"
      ],
      "execution_count": 0,
      "outputs": []
    },
    {
      "cell_type": "markdown",
      "metadata": {
        "colab_type": "text",
        "id": "GPULEV7pReJR"
      },
      "source": [
        "Execute a célula abaixo para testar a sua função de filtragem."
      ]
    },
    {
      "cell_type": "code",
      "metadata": {
        "colab_type": "code",
        "id": "gdK1UmkBReJR",
        "colab": {}
      },
      "source": [
        "box_confidence = tf.random.uniform([19, 19, 5, 1],  dtype=tf.dtypes.float32, seed = 1)\n",
        "boxes = tf.random.normal([19, 19, 5, 4], mean=1, stddev=4, seed = 1)\n",
        "box_class_probs = tf.random.uniform([19, 19, 5, 80], dtype=tf.dtypes.float32, seed = 1)\n",
        "\n",
        "scores, boxes, classes = yolo_filter_boxes(box_confidence, boxes, box_class_probs, threshold = 0.5)\n",
        "\n",
        "print(\"scores[2] = \", format(scores[2]))\n",
        "print(\"boxes[2] = \", format(boxes[2]))\n",
        "print(\"classes[2] = \", format(classes[2]))\n",
        "print(\"scores.shape = \", scores.shape)\n",
        "print(\"boxes.shape = \", boxes.shape)\n",
        "print(\"classes.shape = \", classes.shape)"
      ],
      "execution_count": 0,
      "outputs": []
    },
    {
      "cell_type": "markdown",
      "metadata": {
        "colab_type": "text",
        "id": "OMKd-XUnReJT"
      },
      "source": [
        "**Saída esperada:**\n",
        "\n",
        "    scores[2] =  0.7598403096199036\n",
        "    boxes[2] =  [-4.5223565   6.9258494   0.01802081 -1.9305887 ]\n",
        "    classes[2] =  48\n",
        "    scores.shape =  (863,)\n",
        "    boxes.shape =  (863, 4)\n",
        "    classes.shape =  (863,)"
      ]
    },
    {
      "cell_type": "markdown",
      "metadata": {
        "colab_type": "text",
        "id": "O_dCJX14ReJU"
      },
      "source": [
        "### 2.3 - Supressão não-máxima ###\n",
        "\n",
        "Mesmo após o processo de filtragem usando o limiar para as probabilidades de existir ou não objeto nas caixas, ainda existem muitas caixas sobrepostas detectando o mesmo objeto. Dessa forma, um segundo filtro para selecionar as caixas corretas, chamado de supressão-não-máxima (SNM), deve ser usado.\n",
        "\n",
        "Na Figura 7 é mostrado um exemplo onde 3 caixas detectam o mesmo objeto."
      ]
    },
    {
      "cell_type": "markdown",
      "metadata": {
        "colab_type": "text",
        "collapsed": true,
        "id": "qTfAnBl4ReJU"
      },
      "source": [
        "<img src=\"non-max-suppression.png\" style=\"width:500px;height:400;\">\n",
        "<caption><center> Figura 7 - Nesse exemplo a YOLO detecta 3 carros, mas na verdade são três detecções do mesmo carro. Executar o algoritmo de supressão-não-máxima seleciona somente a detecção mais precisa, ou seja, a de maior probabilidade entre as três (Andrew Ng, deeplearning.ai). <br> </center></caption>\n"
      ]
    },
    {
      "cell_type": "markdown",
      "metadata": {
        "colab_type": "text",
        "id": "rUeKFCZ1ReJV"
      },
      "source": [
        "Como visto em aula, o algoritmo de supressão-não-máxima usa a função Intersecção-sobre-União, ou IoU.\n",
        "\n",
        "<img src=\"iou.png\" style=\"width:500px;height:400;\">\n",
        "<caption><center> Figura 8 - Definição do algoritmo de \"Intersecção-sobre-União\" (Andrew Ng, deeplearning.ai). <br> </center></caption>\n",
        "\n",
        "### Exercise #2: Implementar a função iou()\n",
        "\n",
        "Algumas dicas:\n",
        "\n",
        "- Nesse exercício definimos uma caixa usando dois de seus cantos (superior-esquerdo e inferior-direito): `(x1, y1, x2, y2)` no lugar do seu centro, largura e altura;\n",
        "- Para calcular a área de um retangulo é necessário multiplicar a sua altura `(y2 - y1)` pela sua largura `(x2 - x1)`;\n",
        "- Também é necessário determinar as coordenadas que representam a intersecção entre as duas caixas `(xi1, yi1, xi2, yi2)`. Note que:\n",
        "    - `xi1` = maximo das coordenadas x1 das duas caixas\n",
        "    - `yi1` = maximo das coordenadas y1 das duas caixas\n",
        "    - `xi2` = minimo das coordenadas x2 das duas caixas\n",
        "    - `yi2` = minimo das coordenadas y2 das duas caixas\n",
        "- Para calcular a área da intersecção é necessário garantir que a altura e largura da intersecção sejam ambas positivas, senão a área da intersecção deve ser zero. Use `max(height, 0)` e `max(width, 0)`.\n",
        "\n",
        "Nesse programa é usada a convenção de que (0, 0) é o canto superior-esquerdo da imagem, (1, 0) é o canto superior-direito e que (1, 1) é o canto inferior-direito.\n"
      ]
    },
    {
      "cell_type": "code",
      "metadata": {
        "colab_type": "code",
        "id": "FR62lytUReJV",
        "colab": {}
      },
      "source": [
        "# PARA VOCÊ FAZER:  Criar a função iou\n",
        "\n",
        "def iou(box1, box2):\n",
        "    \"\"\"Implemente o cálculo da intersecção-sobre-união (IoU) entre caixas box1 e box2\n",
        "    \n",
        "    Argumentos:\n",
        "    box1 -- primeira caixa, lista com coordinadas (x1, y1, x2, y2)\n",
        "    box2 -- segunda caixa, lista com coordinadas (x1, y1, x2, y2)\n",
        "    \"\"\"\n",
        "\n",
        "    # Calcule as coordenadas (yi1, xi1, yi2, xi2) da intersecção das caixas box1 e box2 e depois a área ds intersecção.\n",
        "    ### COMECE AQUI ### (≈ 5 linhas)\n",
        "    #xi1 = \n",
        "    #yi1 = \n",
        "    #xi2 = \n",
        "    #yi2 = \n",
        "    #inter_area = \n",
        "    ### TERMINE AQUI ###    \n",
        "\n",
        "    # Calcule a área da união usando a fórmula: Union(A,B) = A + B - Inter(A,B)\n",
        "    ### COMECE AQUIU ### (≈ 3 linhas)\n",
        "    #box1_area = \n",
        "    #box2_area = \n",
        "    #union_area =\n",
        "    ### TERMINE AQUI ###\n",
        "    \n",
        "    # Calcule a IoU\n",
        "    ### COMECE AQUI ### (≈ 1 linha)\n",
        "    #iou = \n",
        "    ### TERMINE AQUI ###\n",
        "    \n",
        "    return iou"
      ],
      "execution_count": 0,
      "outputs": []
    },
    {
      "cell_type": "markdown",
      "metadata": {
        "colab_type": "text",
        "id": "Fm8O436mReJX"
      },
      "source": [
        "Execute a célula abaixo para testar a sua função IoU."
      ]
    },
    {
      "cell_type": "code",
      "metadata": {
        "colab_type": "code",
        "id": "OJdJODs-ReJY",
        "colab": {}
      },
      "source": [
        "box1 = (2, 1, 4, 3)\n",
        "box2 = (1, 2, 3, 4) \n",
        "print(\"iou = \" + str(iou(box1, box2)))"
      ],
      "execution_count": 0,
      "outputs": []
    },
    {
      "cell_type": "markdown",
      "metadata": {
        "colab_type": "text",
        "id": "gtn7TsMrReJd"
      },
      "source": [
        "**Saída esperada:**\n",
        "\n",
        "    iou = 0.14285714285714285"
      ]
    },
    {
      "cell_type": "markdown",
      "metadata": {
        "colab_type": "text",
        "id": "4CNmYIhlReJd"
      },
      "source": [
        "Agora está tudo pronto para implementar o algoritmo de supressão-não-máxima. As etapas desse algoritmo são as seguintes:\n",
        "1. Selecione a caixa que possui a probabilidade mais alta;\n",
        "2. Calcule sua intersecção com todas as outras caixas e elimine as caixas que se sobrepõe a essa mais do que um dado limiar,  `iou_threshold`;\n",
        "3. Repita os passos 1 e 2 até que não existam mais caixas com probabilidade menor do que a caixa selecionada.\n",
        "\n",
        "Esse algoritmo elimina todas as caixas que possuem uma grande sobreposição como a caixa selecionada, de forma que somente as \"melhores\" caixas permaneçam."
      ]
    },
    {
      "cell_type": "markdown",
      "metadata": {
        "colab_type": "text",
        "id": "QiTriQoGReJe"
      },
      "source": [
        "### Exercício #3: Implementar a função yolo_non_max_suppression() usando o TensorFlow.\n",
        "\n",
        "O TensorFlow possui duas funções que podem ser usadas para implementar o algoritmo de supressão-não-máxima, de forma que não é preciso de fato usar a função `iou()` criada no Exercício #2. São elas:\n",
        "- [tf.image.non_max_suppression()](https://www.tensorflow.org/api_docs/python/tf/image/non_max_suppression)\n",
        "- [K.gather()](https://www.tensorflow.org/api_docs/python/tf/gather)"
      ]
    },
    {
      "cell_type": "code",
      "metadata": {
        "colab_type": "code",
        "id": "tm6F-x7VReJe",
        "colab": {}
      },
      "source": [
        "# PARA VOCÊ FAZER: Criar a função yolo_non_max_suppression\n",
        "\n",
        "def yolo_non_max_suppression(scores, boxes, classes, max_boxes = 10, iou_threshold = 0.5):\n",
        "    \"\"\"\n",
        "    Applicar supressão-não-máxima no conjunto de caixas\n",
        "    \n",
        "    Argumentos:\n",
        "    scores -- tensor de dimensão (None,), saída da função yolo_filter_boxes()\n",
        "    boxes -- tensor de dimensão (None, 4), saída da função yolo_filter_boxes()\n",
        "    classes -- tensor de dimensão (None,), saída da função yolo_filter_boxes()\n",
        "    max_boxes -- inteiro, número máximo desejado de caixas detectadas \n",
        "    iou_threshold -- valor real, limiar usado para a \"intersecção-sobre-união\"\n",
        "    \n",
        "    Retorna:\n",
        "    scores -- tensor de dimensão (, None), score previsto para cada caixa\n",
        "    boxes -- tensor de dimensão (4, None), coordenadas das caixas detectadas\n",
        "    classes -- tensor de dimensão (, None), classe prevista para cada caixa\n",
        "    \n",
        "    Note: A dimensão \"None\" dos tensores de saída deve ser obviamente menor do que max_boxes. Note também que essa\n",
        "    função fornece, por conveniência, a transposta dos scores, boxes e classes.\n",
        "    \"\"\"\n",
        "    \n",
        "    max_boxes = K.variable(max_boxes, dtype='int32')     # tensor para ser usado em tf.image.non_max_suppression()\n",
        "    tf.variables_initializer([max_boxes]) # inicializa a variável max_boxes_tensor\n",
        "    \n",
        "    # Use tf.image.non_max_suppression() para obter a lista dos índices das caixas que quer manter\n",
        "    ### COMECE AQUI ### (≈ 1 linha)\n",
        "    #nms_indices = \n",
        "    ### TERMINE AQUI ###\n",
        "    \n",
        "    # Use K.gather() para selecionar somente os elementos de índices nms_indices dos scores, boxes e classes\n",
        "    ### COMECE AQUI ### (≈ 3 lines)\n",
        "    #scores = \n",
        "    #boxes = \n",
        "    #classes = \n",
        "    ### TERMINE AQUI ###\n",
        "    \n",
        "    return scores, boxes, classes"
      ],
      "execution_count": 0,
      "outputs": []
    },
    {
      "cell_type": "markdown",
      "metadata": {
        "colab_type": "text",
        "id": "17UfOdeDReJh"
      },
      "source": [
        "Execute a célula abaixo para testar a sua função de supressão-não-máxima."
      ]
    },
    {
      "cell_type": "code",
      "metadata": {
        "colab_type": "code",
        "id": "rFsFk5wTReJi",
        "colab": {}
      },
      "source": [
        "# São criados os tensores scores, boxes e classes com números aleatórios para poder testar a função yolo_max_suppression\n",
        "\n",
        "scores = tf.random.normal([54], mean=1, stddev=4, seed = 1)\n",
        "boxes = tf.random.normal([54,4], mean=1, stddev=4, seed = 1)\n",
        "classes = tf.random.normal([54], mean=1, stddev=4, seed = 1)\n",
        "\n",
        "scores, boxes, classes = yolo_non_max_suppression(scores, boxes, classes)\n",
        "\n",
        "print(\"scores[2] = \", format(scores[2]))\n",
        "print(\"boxes[2] = \", format(boxes[2]))\n",
        "print(\"classes[2] = \", format(classes[2]))\n",
        "print(\"scores.shape = \", scores.shape)\n",
        "print(\"boxes.shape = \", boxes.shape)\n",
        "print(\"classes.shape = \", classes.shape)"
      ],
      "execution_count": 0,
      "outputs": []
    },
    {
      "cell_type": "markdown",
      "metadata": {
        "colab_type": "text",
        "id": "ez58NeGrReJl"
      },
      "source": [
        "**Saída esperada:**\n",
        "\n",
        "    scores[2] =  7.502939224243164\n",
        "    boxes[2] =  [ 3.7024102 -7.169936   1.8122792  6.7985587]\n",
        "    classes[2] =  -2.713960647583008\n",
        "    scores.shape =  (10,)\n",
        "    boxes.shape =  (10, 4)\n",
        "    classes.shape =  (10,)"
      ]
    },
    {
      "cell_type": "markdown",
      "metadata": {
        "colab_type": "text",
        "id": "64cFZ4j7ReJm"
      },
      "source": [
        "### 2.4 Juntando os filtros\n",
        "\n",
        "A saída da rede YOLO, que é um tensor de dimensão  (19, 19, 5, 85), deve ser processada usando os filtros desenvolvidos nos exercícios anteriores.\n",
        "\n",
        "\n",
        "### Exercício #4: Implementar a função `yolo_eval()`\n",
        "\n",
        "Essa função recebe o tensor de saída da YOLO e filtra as caixas usando um limiar e o algoritmo de supressão-não-máxima. Um último detalhe é importante: existem algumas formas de representar caixas delimitadoras, tais como, usando dois dos seus cantos ou usando seu centro, altura e largura. A YOLO usa os dois formatos e a conversão entre os dois pode ser feita usando as seguintes funções (que são fornecidas):\n",
        "\n",
        "```python\n",
        "boxes = yolo_boxes_to_corners(box_xy, box_wh) \n",
        "```\n",
        "Essa função converte as coordenadas das caixas (x, y, w, h) para as coordenadas dos cantos das caixas (x1, y1, x2, y2). As coordenadas dos cantos são as entradas da função `yolo_filter_boxes`;\n",
        "\n",
        "```python\n",
        "boxes = scale_boxes(boxes, image_shape)\n",
        "```\n",
        "A rede YOLO foi originalmente treinada com imagens de dimensão 608x608. Se você usar imagens de dimensões diferentes, por exemplo, imagens de 720x1280, essa última função re-escala as caixas de forma que possam ser mostradas junto com a imagem original de dimensão 720x1280. Mas não se preocupe com essas funções, pois será mostrado onde elas precisam serem chamadas."
      ]
    },
    {
      "cell_type": "code",
      "metadata": {
        "colab_type": "code",
        "id": "0r466iS_ReJm",
        "colab": {}
      },
      "source": [
        "# PARA VOCÊ FAZER: Criar a função yolo_eval\n",
        "\n",
        "def yolo_eval(yolo_outputs, image_shape = (720., 1280.), max_boxes=10, score_threshold=.5, iou_threshold=.5):\n",
        "    \"\"\"\n",
        "    Converte a saída da YOLO (muitas caixas) para as caixas previstas juntamente com seus scores, coordenadas das caixas\n",
        "    e classes.\n",
        "    \n",
        "    Argumentos:\n",
        "    yolo_outputs -- saída da YOLO (para image_shape de (608, 608, 3)), contém 4 tensores:\n",
        "                    box_confidence: tensor de dimensão (None, 19, 19, 5, 1)\n",
        "                    box_xy: tensor de dimensão (None, 19, 19, 5, 2)\n",
        "                    box_wh: tensor de dimensão (None, 19, 19, 5, 2)\n",
        "                    box_class_probs: tensor de dimensão (None, 19, 19, 5, 80)\n",
        "    image_shape -- tensor de dimensão (2,) contendo input_shape, nesse notebook é usado (608., 608.) (float32 dtype)\n",
        "    max_boxes -- inteiro, número máximo desejado de caixas detectadas\n",
        "    score_threshold -- valor real, se (score da caixa de maior probabilidade) < threshold, então, elimina a caixa correspondente\n",
        "    iou_threshold -- valor real, limiar usado para o algoritmo de supressão-não-máxima\n",
        "    \n",
        "    \n",
        "    Retorna:\n",
        "    scores -- tensor de dimensão (None, ), score previsto para cada caixa\n",
        "    boxes -- tensor de dimensão (None, 4), coordendas previstas de cada caixa\n",
        "    classes -- tensor de dimensãoe (None,), classe prevista para cada caixa\n",
        "    \"\"\"\n",
        "    \n",
        "    ### COMECE AQUI ###\n",
        "    \n",
        "    # Recupera saída da rede YOLO (≈1 linha)\n",
        "    #box_confidence, box_xy, box_wh, box_class_probs = \n",
        "\n",
        "    # Converte caixas para funções de filtragem (≈1 linha)\n",
        "    #boxes = \n",
        "\n",
        "    # Use uma das funções que você implementou para calcular \"score-filtering\" com o limiar score_threshold (≈1 linha)\n",
        "    # Use threshold = 0.4\n",
        "    #scores, boxes, classes = \n",
        "    \n",
        "    # Escale as caixas de volta para o tamanho original da imagem (≈1 linha)\n",
        "    #boxes = \n",
        "\n",
        "    # Use a função que você implementou para calcular a supressão-não-máxima com o limiar iou_threshold (≈1 linha)\n",
        "    #scores, boxes, classes = \n",
        "   \n",
        "    ### TERMINE AQUI ###\n",
        "    \n",
        "    return scores, boxes, classes"
      ],
      "execution_count": 0,
      "outputs": []
    },
    {
      "cell_type": "markdown",
      "metadata": {
        "colab_type": "text",
        "id": "ougSJkaYReJp"
      },
      "source": [
        "Execute a célula abaixo para testar a sua função de `yolo_eval`"
      ]
    },
    {
      "cell_type": "code",
      "metadata": {
        "colab_type": "code",
        "id": "dmgBojfgReJp",
        "colab": {}
      },
      "source": [
        "# É criado o tensor yolo_outputs com números aleatórios para poder testar a função yolo_eval\n",
        "\n",
        "yolo_outputs = (tf.random.normal([19, 19, 5, 1], mean=1, stddev=4, seed = 1),\n",
        "                tf.random.normal([19, 19, 5, 2], mean=1, stddev=4, seed = 1),\n",
        "                tf.random.normal([19, 19, 5, 2], mean=1, stddev=4, seed = 1),\n",
        "                tf.random.normal([19, 19, 5, 80], mean=1, stddev=4, seed = 1))\n",
        "scores, boxes, classes = yolo_eval(yolo_outputs)\n",
        "print(\"scores[2] = \", format(scores[2]))\n",
        "print(\"boxes[2] = \", format(boxes[2]))\n",
        "print(\"classes[2] = \", format(classes[2]))\n",
        "print(\"scores.shape = \", scores.shape)\n",
        "print(\"boxes.shape = \",  boxes.shape)\n",
        "print(\"classes.shape = \", classes.shape)"
      ],
      "execution_count": 0,
      "outputs": []
    },
    {
      "cell_type": "markdown",
      "metadata": {
        "colab_type": "text",
        "collapsed": true,
        "id": "b-UJTeTZReJs"
      },
      "source": [
        "**Saída esperada:**\n",
        "\n",
        "    scores[2] =  146.33059692382812\n",
        "    boxes[2] =  [ -5205.9253  -5726.7666  -1409.7632 -11226.046 ]\n",
        "    classes[2] =  26\n",
        "    scores.shape =  (10,)\n",
        "    boxes.shape =  (10, 4)\n",
        "    classes.shape =  (10,)"
      ]
    },
    {
      "cell_type": "markdown",
      "metadata": {
        "colab_type": "text",
        "id": "4FsaYyHVReJs"
      },
      "source": [
        "<font color='blue'>\n",
        "    \n",
        "**Sumário da YOLO**:\n",
        "\n",
        "- Dimensão da imagem de entrada image (608, 608, 3);\n",
        "- A imagem é processada por uma RNA convolucional resultando em um tensor de saída de dimensão (19,19,5,85);\n",
        "- Após realizar o \"flattening\" das duas últimas dimensões, a saída é um tensor de dimensão (19, 19, 425):\n",
        "    - Cada célula na malha de 19x19 gera na saída 425 números; \n",
        "    - 425 = 5 x 85 porque cada célula contém previsões de 5 caixas, como visto na aula;\n",
        "    - 85 = 5 + 80, onde 5 é devido à $(p_c, b_x, b_y, b_h, b_w)$ e 80 é o número de classes que se deseja detectar;\n",
        "- De todas as caixas detectadas somente poucas caixas são selecionadas baseado em:\n",
        "    - Limiar da probabilidade \"score-thresholding\": elimina caixas que detectam objetos com probabilidade menor do que um dado limiar (threshold);\n",
        "    - Supressão-não-máxima: calcula a intersecção-sobre-união e evita selecionar caixas sobrepostas do mesmo objeto.\n",
        "- Esse processo fornece a saída final da YOLO."
      ]
    },
    {
      "cell_type": "markdown",
      "metadata": {
        "colab_type": "text",
        "id": "S4gLA_v_ReJt"
      },
      "source": [
        "## 3 - Teste da rede YOLO pré-treinada"
      ]
    },
    {
      "cell_type": "markdown",
      "metadata": {
        "colab_type": "text",
        "id": "ctEs86VnReJt"
      },
      "source": [
        "Nessa parte do rabalho você vai utilizar uma rede YOLO pré-treinada e testá-la em imagens obtidas por uma câmera colocada em um carro."
      ]
    },
    {
      "cell_type": "markdown",
      "metadata": {
        "colab_type": "text",
        "id": "cs2_NW1sReJu"
      },
      "source": [
        "### 3.1 - Definição das classes, caixas âncoras e dimensão das imagens"
      ]
    },
    {
      "cell_type": "markdown",
      "metadata": {
        "colab_type": "text",
        "id": "nrm5gAYFReJu"
      },
      "source": [
        "Lembre-se de que estamos tentando detectar 80 classes e estamos usando 5 caixas por célula da imagem. As informações sobre as 80 classes e as 5 caixas âncoras estão nos arquivos: \"coco_classes.txt\" e \"yolo_anchors.txt\". Vamos ler e carregar esses parâmetros no modelo executando a seguinte célula.\n",
        "\n",
        "O banco de dados utilizado nesse trabalho (\"car detection dataset\") possui imagens de dimensão 720x1280, que devemos redimensionar para dimensão de 608x608.\n",
        "\n",
        "Execute a célula abaixo para carregar as classes e as caixas pré-definidas na YOLO."
      ]
    },
    {
      "cell_type": "code",
      "metadata": {
        "colab_type": "code",
        "id": "nJG0Iz4hReJv",
        "colab": {}
      },
      "source": [
        "class_names = read_classes(\"coco_classes.txt\")\n",
        "anchors = read_anchors(\"yolo_anchors.txt\")\n",
        "image_shape = (720., 1280.)    \n",
        "\n",
        "print('Possíveis classes detectadas =', class_names)"
      ],
      "execution_count": 0,
      "outputs": []
    },
    {
      "cell_type": "markdown",
      "metadata": {
        "colab_type": "text",
        "id": "P4k9h76cReJx"
      },
      "source": [
        "### 3.2 - Utilizando uma rede YOLO pré-treinada \n",
        "\n",
        "Treinar uma rede YOLO leva muito tempo e exige um grande número de imagens com as caixas delimitadoras catalogadas para as 80 classes. Dessa forma, vamos utilizar uma rede YOLO pré-treinada que está armazenada no arquivo \"yolo.h5\". Essa rede foi obtida no site oficial da YOLO e depois convertida para o Keras por Allan Zelener - [YAD2K: Yet Another Darknet 2 Keras](https://github.com/allanzelener/YAD2K). Tecnicamente é usada a rede YOLOv2, mas por simplicidade a chamamos nesse trabalho de somente YOLO.\n",
        "\n",
        "### Exercício #5: Carrega e apresenta a YOLO\n",
        "\n",
        "Na célula abaixo carregue a rede YOLO do arquivo yolo.h5, apresente a sua configuração e crie o arquivo \"YOLO.png\" com o gráfico da rede.\n"
      ]
    },
    {
      "cell_type": "code",
      "metadata": {
        "colab_type": "code",
        "id": "X5BaEDnqReJx",
        "colab": {}
      },
      "source": [
        "# Para você fazer: carregar rede YOLO\n",
        "\n",
        "# Importa função para fazer gráfico de RNAs\n",
        "from tensorflow.keras.utils import plot_model\n",
        "\n",
        "### COMECE AQUI ###\n",
        "# Carrega a rede , apresenta summario da mesma e cria arquivo com o gráfico (≈3 linhas)\n",
        "#yolo_model = \n",
        "\n",
        "# Apresenta sumario da configurtação da YOLO\n",
        "#\n",
        "\n",
        "# Cria um arquivo com o esquema da YOLO\n",
        "#plot_model  \n",
        "\n",
        "### TERMINE AQUI ####"
      ],
      "execution_count": 0,
      "outputs": []
    },
    {
      "cell_type": "markdown",
      "metadata": {
        "colab_type": "text",
        "id": "UGXag2m9iUAQ"
      },
      "source": [
        "**Saída esperada:**\n",
        "\n",
        "Somente o resumo do total de números de parâmetros é incluido para verificar o seu modelo.\n",
        "     \n",
        "    Total params: 50,983,561\n",
        "    Trainable params: 50,962,889\n",
        "    Non-trainable params: 20,672\n"
      ]
    },
    {
      "cell_type": "markdown",
      "metadata": {
        "colab_type": "text",
        "id": "d6qtQJwdReJ0"
      },
      "source": [
        "**Lembre:** a YOLO converte um conjunto de m imagens de dimensão (m, 608, 608, 3) em um tensor de dimensão (m, 19, 19, 5, 85).\n",
        "\n",
        "Execute a célula abaixo e verifque que essa transformação está de fato sendo realizada."
      ]
    },
    {
      "cell_type": "code",
      "metadata": {
        "colab_type": "code",
        "id": "-MkgExbfReJ0",
        "colab": {}
      },
      "source": [
        "## Processamento de uma imagem pela rede YOLO\n",
        "image_file = \"images/test.jpg\"\n",
        "\n",
        "image, image_data = preprocess_image(image_file, model_image_size = (608, 608))\n",
        "saida = yolo_model.predict(image_data)\n",
        "\n",
        "print('Dimensão da imagem original =', image_shape)\n",
        "print('Dimensão da imagem redimensionada =', image_data.shape)\n",
        "print('Dimensão do tensor de saída da YOLO =', saida.shape)\n",
        "\n",
        "plt.figure(figsize=(8,8))\n",
        "imshow(image_data[0])\n",
        "plt.show()"
      ],
      "execution_count": 0,
      "outputs": []
    },
    {
      "cell_type": "markdown",
      "metadata": {
        "colab_type": "text",
        "id": "A9b_57VUReJ2"
      },
      "source": [
        "Após entregar o trabalho tente executar essa etapa para outras imagens do diretório \"images\"."
      ]
    },
    {
      "cell_type": "markdown",
      "metadata": {
        "colab_type": "text",
        "id": "aem1Uz50ReJ2"
      },
      "source": [
        "### 3.4 - Processamento da saída da YOLO para gerar os tensores de probabilidades e caixas\n",
        "\n",
        "A saída da yolo_model é um tensor de dimensão (m, 19, 19, 5, 85) que precisa passar por um processo de conversão não trivial para calcular a probabilidade da célula ter objeto (`box_confidence`), centro e tamanho das caixas (`box_xy` e `box_wh`) e probabilidades das diversas classes em cada caixa (`box_class_probs`).\n",
        "\n",
        "Execute a célula abaixo para realizar essa conversão."
      ]
    },
    {
      "cell_type": "code",
      "metadata": {
        "colab_type": "code",
        "id": "QOmTE3qwReJ3",
        "colab": {}
      },
      "source": [
        "yolo_outputs = yolo_head(saida, anchors, len(class_names))\n",
        "\n",
        "box_confidence, box_xy, box_wh, box_class_probs = yolo_outputs\n",
        "\n",
        "print('Dimensão do tensor de probabilidade de exsistir objeto nas células =', box_confidence.shape)\n",
        "print('Dimensão do tensor de centro das caixas =', box_xy.shape)\n",
        "print('Dimensão do tensor de probabilidade das classes =', box_class_probs.shape)"
      ],
      "execution_count": 0,
      "outputs": []
    },
    {
      "cell_type": "markdown",
      "metadata": {
        "colab_type": "text",
        "id": "nvxF25O7ReJ5"
      },
      "source": [
        "### 3.4 - Filtragem das caixas\n",
        "\n",
        "A lista de tensores `yolo_outputs` fornece as caixas previstas pela `yolo_model` no formato correto. Agora deve ser realizada a filtragem e seleção das melhores caixas delimitadoras. A função `yolo_eval` realiza essa operação."
      ]
    },
    {
      "cell_type": "code",
      "metadata": {
        "colab_type": "code",
        "id": "xD7VONM_ReJ5",
        "colab": {}
      },
      "source": [
        "out_scores, out_boxes, out_classes = yolo_eval(yolo_outputs, image_shape)\n",
        "\n",
        "# Imprime detecções \n",
        "print('Achadas {} caixas na imagem {}'.format(len(out_boxes), image_file))\n",
        "\n",
        "# Gera as cores para desenhar caixas delimitadoras\n",
        "colors = generate_colors(class_names)\n",
        "\n",
        "# Desenha caixas delimitadoras sobre a imagem\n",
        "draw_boxes(image, out_scores, out_boxes, out_classes, class_names, colors)\n",
        "\n",
        "# Mostra os resultados \n",
        "plt.figure(figsize=(12,12))\n",
        "imshow(image)"
      ],
      "execution_count": 0,
      "outputs": []
    },
    {
      "cell_type": "markdown",
      "metadata": {
        "colab_type": "text",
        "id": "sAZSQaRbReJ8"
      },
      "source": [
        "**Saída esperada:**\n",
        "\n",
        "    Achadas 7 caixas na imagem images/test.jpg\n",
        "    car 0.66 (925, 285) (1045, 374)\n",
        "    car 0.73 (706, 279) (786, 350)\n",
        "    bus 0.74 (5, 266) (220, 407)\n",
        "    car 0.77 (947, 324) (1280, 705)\n",
        "    car 0.82 (159, 303) (346, 440)\n",
        "    car 0.88 (761, 282) (942, 412)\n",
        "    car 0.98 (367, 300) (745, 648)"
      ]
    },
    {
      "cell_type": "markdown",
      "metadata": {
        "colab_type": "text",
        "id": "InwFx1q3ReJ8"
      },
      "source": [
        "## 4 - Unindo as funções \n",
        "\n",
        "Na seção #3 foi realizada a identificaçlão de objetos em uma imagem. Nessa seção iremos juntar todas as etapas necessárias para identificar um objeto em uma única função para poder processar imagens em sequeência ou um vídeo.\n",
        "        \n",
        "### Exercício #6: ###    \n",
        "\n",
        "Na célula abaixo complete a função `predicao` para realizar as sequência de cálculos para detectar obtevos usando a rede YOLO e o algoritmo desenvolvido nas etapas anteriores para processar a saída da YOLO.\n",
        "\n",
        "As etapas necessárias são as seguintes:\n",
        "\n",
        "1. Pré-processamento da imagem usando a função `preprocess_image`.\n",
        "2. Execução da rede YOLO (`yolo_model`) com o método `predict`.\n",
        "3. Execução da função `yolo_head` para transformar as saídas da rede YOLO na saída desejada `yolo_outputs`, que contém os tensores `box_confidence`, `box_xy`, `box_wh` e `box_class_probs`.\n",
        "4. Execução da função `yolo_eval` para calcular `out_scores`, `out_boxes` e `out_classes`.\n",
        "\n",
        "A entrada da função predicao é uma imagem e a sua saída são os tensores `out_scores`, `out_boxes` e `out_classes`. Além disso essa função mostra uma réplica da imagem original com as caixas delimitadoras identificando os objetos detectados na image."
      ]
    },
    {
      "cell_type": "code",
      "metadata": {
        "colab_type": "code",
        "id": "RxGt2zexReJ9",
        "colab": {}
      },
      "source": [
        "# PARA VOCÊ FAZER: Criar a função predicao unindo as etapas de processamento\n",
        "\n",
        "def predicao(image_file):\n",
        "    \"\"\"\n",
        "    Argumentos:\n",
        "    image_file = nome da imagem utilizada como entrada\n",
        "    \n",
        "    Retorna:\n",
        "    out_scores = tensor de dimensão (None, ), scores das caixas indentificadas\n",
        "    out_boxes = tensor de dimensão (None, 4), coordenadas das caixas identificadas\n",
        "    out_classes = tensor de dimensão (None, ), índice das classes previstas nas caixas identificadas\n",
        "    \n",
        "    Note que \"None\" representa o número de caixas identificadas, podendo variar de 0 a max_boxes. \n",
        "    \"\"\"\n",
        "    \n",
        "    # Pré-processa a imagem\n",
        "    ### COMECE AQUI ### (≈ 1 linha)    \n",
        "    #image, image_data = \n",
        "    ### TERMINE AQUI ###\n",
        "    \n",
        "    # Executa processo de identificação de objetos com o algoritmo YOLO\n",
        "    ### COMECE AQUI ### (≈ 3 linhas)\n",
        "    #saida = \n",
        "    #yolo_outputs = \n",
        "    #out_scores, out_boxes, out_classes = \n",
        "    ### TERMINE AQUI ###\n",
        "\n",
        "    # Imprime detecções \n",
        "    print('Achadas {} caixas na imagem {}'.format(len(out_boxes), image_shape))\n",
        "   \n",
        "    # Gera as cores para desenhar caixas delimitadoras\n",
        "    colors = generate_colors(class_names)\n",
        "    \n",
        "    # Desenha caixas delimitadoras sobre a imagem\n",
        "    draw_boxes(image, out_scores, out_boxes, out_classes, class_names, colors)\n",
        "    \n",
        "    # Mostra os resultados \n",
        "    imshow(image)\n",
        "    \n",
        "    return out_scores, out_boxes, out_classes"
      ],
      "execution_count": 0,
      "outputs": []
    },
    {
      "cell_type": "markdown",
      "metadata": {
        "colab_type": "text",
        "id": "XWz0cFVjiUAe"
      },
      "source": [
        "Execute célula abaixo para testar a sua função `predicao`"
      ]
    },
    {
      "cell_type": "code",
      "metadata": {
        "colab_type": "code",
        "id": "g7NPMY89iUAf",
        "colab": {}
      },
      "source": [
        "# Nome dos arquivos com imagens de teste. As imagens devem estar no diretório 'images'\n",
        "fname = '0001.jpg'\n",
        "plt.figure(figsize=(10,10))\n",
        "out_scores, out_boxes, out_classes = predicao(fname)\n",
        "plt.show()"
      ],
      "execution_count": 0,
      "outputs": []
    },
    {
      "cell_type": "markdown",
      "metadata": {
        "colab_type": "text",
        "id": "6H6CsP8QiUAh"
      },
      "source": [
        "**Saída esperada:**\n",
        "\n",
        "      Achadas 2 caixas na imagem (720.0, 1280.0)\n",
        "      car 0.50 (637, 285) (726, 327)\n",
        "      car 0.51 (141, 308) (200, 334)\n",
        "    "
      ]
    },
    {
      "cell_type": "markdown",
      "metadata": {
        "colab_type": "text",
        "id": "gSSIvZ1xReJ_"
      },
      "source": [
        "### 3.6 - Teste do algoritmo para várias imagens\n",
        "\n",
        "A célula abaixo está preparada para executar as 10 primeiras imagens, de nomes '0001.jpg' a '0010.jpg', que estão no diretório 'images'. Se você executar essa célula vai visualizar o resultado do algoritmo para cada uma dessas imagens.\n",
        "\n",
        "Se quiser testar o modelo com suas próprias imagens deve fazer o seguinte:\n",
        "\n",
        "    1. Adicione a sua imagem no diretório images;\n",
        "    2. Escreva o nome da sua imagem na variável fnames na célula abaixo;\n",
        "    3. Execute a célula e visualize a saída do algorimto."
      ]
    },
    {
      "cell_type": "code",
      "metadata": {
        "colab_type": "code",
        "id": "hNgUPEtrReJ_",
        "colab": {}
      },
      "source": [
        "# Nome dos arquivos com imagens de teste. As imagens devem estar no diretório 'images'\n",
        "fnames = ['000'+'{}.jpg'.format(i) for i in range(1,10)]\n",
        "\n",
        "# Processa uma imagem de cada vez e apresenta os resultados\n",
        "for fname in fnames:\n",
        "    plt.figure(figsize=(10,10))\n",
        "    out_scores, out_boxes, out_classes = predicao(fname)\n",
        "    plt.show()\n"
      ],
      "execution_count": 0,
      "outputs": []
    },
    {
      "cell_type": "markdown",
      "metadata": {
        "colab_type": "text",
        "id": "1A8a_fBfReKB"
      },
      "source": [
        "A RNA YOLO é capaz de detectar objetos em vídeos em tempo real. Se todas a imagens do diretório 'images' estiverem em um vídeo o resultado obtido seria o mostrado no Vídeo 2.\n",
        "\n",
        "<center>\n",
        "<video width=\"400\" height=\"200\" src=\"pred_video_compressed2.mp4\" type=\"video/mp4\" controls>\n",
        "</video>\n",
        "</center>\n",
        "\n",
        "<caption><center> Vídeo 2 - Previsões da RNA YOLO de imagens obtidas por uma câmera colocada em um carro. <br> [drive.ai](https://www.drive.ai/)</center></caption>"
      ]
    },
    {
      "cell_type": "markdown",
      "metadata": {
        "colab_type": "text",
        "collapsed": true,
        "id": "yrl7PzDvReKC"
      },
      "source": [
        "<font color='blue'>\n",
        "\n",
        "**Resumo da YOLO:**\n",
        "- A YOLO é um RNA de detecção de objetos rápida e precisa, sendo que está preparada para detectar 80 classes diferentes de objetos.\n",
        "- O método desenvolvido na YOLO para detectar objetos em imagens se tornou um padrão usado em muitos outros modelos.\n",
        "- A YOLO executa uma imagem de entrada através de uma RNA convolucional que gera um volume de dimensão 19x19x5x85.\n",
        "- A codificação do resultado pode ser vista como sendo uma malha em que cada uma das 19x19 células contém informações sobre 5 caixas.\n",
        "- Os resultados das caixas são filtrados usando o algoritmo de supressão-não-máxima. Mais especificamente:\n",
        "    - Limiarização da probabilidade de detectar uma classe para manter apenas caixas com probabilidade mais alta;\n",
        "    - Limiarização de interseção-sobre-união (IoU) para eliminar caixas sobrepostas.\n",
        "- Como o treinamento da YOLO a partir de pesos inicializados aleatoriamente não é trivial e requer um grande conjunto de dados, além de muita computação, nesse trabalho foram usados parâmetros previamente treinados. \n",
        "- Se desejar, você também pode tentar ajustar a RNA YOLO com seu próprio conjunto de dados, embora esse seja um exercício não trivial."
      ]
    },
    {
      "cell_type": "markdown",
      "metadata": {
        "colab_type": "text",
        "id": "uNGWGMxkReKC"
      },
      "source": [
        "**Referencias**: \n",
        "\n",
        "- O algoritmo apresentado nesse trabalho foi desenvolvido por: Joseph Redmon, Santosh Divvala, Ross Girshick, Ali Farhadi - [You Only Look Once: Unified, Real-Time Object Detection](https://arxiv.org/abs/1506.02640), 2015; e Joseph Redmon, Ali Farhadi - [YOLO9000: Better, Faster, Stronger](https://arxiv.org/abs/1612.08242), 2016.\n",
        "\n",
        "- A implementação da YOLO usada nesse trabalho foi desenvolvida por Allan Zelener's e está no repositório github [YAD2K: Yet Another Darknet 2 Keras](https://github.com/allanzelener/YAD2K)\n",
        "\n",
        "- A YOLO pré-treinada foi obtida no site oficial da YOLO: The official YOLO website (https://pjreddie.com/darknet/yolo/) "
      ]
    }
  ]
}