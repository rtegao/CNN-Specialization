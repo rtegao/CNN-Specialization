{
  "nbformat": 4,
  "nbformat_minor": 0,
  "metadata": {
    "accelerator": "GPU",
    "colab": {
      "name": "T3_Redes_complexas.ipynb",
      "provenance": [],
      "collapsed_sections": [],
      "toc_visible": true
    },
    "kernelspec": {
      "display_name": "Python 3",
      "language": "python",
      "name": "python3"
    },
    "language_info": {
      "codemirror_mode": {
        "name": "ipython",
        "version": 3
      },
      "file_extension": ".py",
      "mimetype": "text/x-python",
      "name": "python",
      "nbconvert_exporter": "python",
      "pygments_lexer": "ipython3",
      "version": "3.7.4"
    }
  },
  "cells": [
    {
      "cell_type": "markdown",
      "metadata": {
        "colab_type": "text",
        "id": "-MwruVLNXqci"
      },
      "source": [
        "# Trabalho #3 - Redes Complexas\n",
        "\n",
        "Nesse trabalho você vai desenvolver uma RNA para realizar uma tarefa de geração de imagem. A tarefa consiste em gerar um nariz para um rosto de uma pessoa. Assim, dada uma imagem de um rosto de uma pessoa com uma máscara cobrindo o nariz, a RNA deve gerar uma imagem desse rosto com um nariz adequado. \n",
        "\n",
        "Esse trabalho consiste de uma aplicação real de redes neurais, que foi desenvolvida para a Faculdade de Odontologia da USP para permitir criar próteses nasais adequadas para pacientes que perderam o nariz. \n",
        "\n",
        "Para realizar essa tarefa iremos usar uma rede neural tipo residual."
      ]
    },
    {
      "cell_type": "markdown",
      "metadata": {
        "colab_type": "text",
        "id": "eP57hWxVXqcl"
      },
      "source": [
        "## Coloque os nomes e RAs dos alunos que fizeram esse trabalho\n",
        "\n",
        "Nome e número dos alunos da equipe:\n",
        "\n",
        "Aluno 1: Ricardo Rossi Tegao 20.83988-0\n",
        "\n",
        "Aluno 2: "
      ]
    },
    {
      "cell_type": "code",
      "metadata": {
        "colab_type": "code",
        "id": "foGyYd2zXwoK",
        "outputId": "212c9f9f-5893-4697-9ed9-796ad2f3f675",
        "colab": {
          "base_uri": "https://localhost:8080/",
          "height": 122
        }
      },
      "source": [
        "from google.colab import drive\n",
        "drive.mount('/content/drive')"
      ],
      "execution_count": 1,
      "outputs": [
        {
          "output_type": "stream",
          "text": [
            "Go to this URL in a browser: https://accounts.google.com/o/oauth2/auth?client_id=947318989803-6bn6qk8qdgf4n4g3pfee6491hc0brc4i.apps.googleusercontent.com&redirect_uri=urn%3aietf%3awg%3aoauth%3a2.0%3aoob&response_type=code&scope=email%20https%3a%2f%2fwww.googleapis.com%2fauth%2fdocs.test%20https%3a%2f%2fwww.googleapis.com%2fauth%2fdrive%20https%3a%2f%2fwww.googleapis.com%2fauth%2fdrive.photos.readonly%20https%3a%2f%2fwww.googleapis.com%2fauth%2fpeopleapi.readonly\n",
            "\n",
            "Enter your authorization code:\n",
            "··········\n",
            "Mounted at /content/drive\n"
          ],
          "name": "stdout"
        }
      ]
    },
    {
      "cell_type": "code",
      "metadata": {
        "colab_type": "code",
        "id": "D7j-3XLMX4gN",
        "outputId": "9d8f1bbd-8917-484b-b9f2-d9bc4fe90343",
        "colab": {
          "base_uri": "https://localhost:8080/",
          "height": 51
        }
      },
      "source": [
        "%cd /content/drive/My Drive/Specialization/Projects/Convolutional Neural Networks/T3 - Redes complexas\n",
        "!ls"
      ],
      "execution_count": 2,
      "outputs": [
        {
          "output_type": "stream",
          "text": [
            "/content/drive/My Drive/Specialization/Projects/Convolutional Neural Networks/T3 - Redes complexas\n",
            "data64.h5  faces1.png  faces2.png  mask512.jpg\trna.png\n"
          ],
          "name": "stdout"
        }
      ]
    },
    {
      "cell_type": "markdown",
      "metadata": {
        "colab_type": "text",
        "id": "c_4nvWuqXqcm"
      },
      "source": [
        "Em primeiro lugar é necessário importar alguns pacotes do Python que serão usados ao longo nesse trabalho:\n",
        "\n",
        "- numpy: pacote de cálculo científico com Python\n",
        "- matplotlib: biblioteca para gerar gráficos em Python\n",
        "- h5py: biblioteca que permite ler e escrever arquivos no formato h5\n",
        "- skimage: bilioteca para porcessar imagens\n",
        "- TensorFlow"
      ]
    },
    {
      "cell_type": "code",
      "metadata": {
        "colab_type": "code",
        "id": "gGBe9mdtXqcn",
        "colab": {}
      },
      "source": [
        "import numpy as np\n",
        "import h5py\n",
        "import matplotlib.pyplot as plt\n",
        "from skimage.io import imread\n",
        "from skimage.transform import resize\n",
        "import tensorflow as tf\n",
        "\n",
        "%matplotlib inline"
      ],
      "execution_count": 0,
      "outputs": []
    },
    {
      "cell_type": "markdown",
      "metadata": {
        "colab_type": "text",
        "id": "EWHgOH7FXqcq"
      },
      "source": [
        "## 1 - Visão geral do problema ##\n",
        "\n",
        "O objetivo desse problema é desenvolver uma RNA que recebe como entrada uma imagem de um rosto com uma máscara preta cobrindo a região do nariz e gera uma nova imagem do rosto com um nariz adequado. \n",
        "\n",
        "O conjunto de dados usado nesse trabalho foi criado usando o banco de imagens de celebridades CELEBA-HQ-512, que possui 30.000 imagens de rostos de celebridades com resolução 512 por 512. Esse banco de dados pode ser obtido no link: https://github.com/tkarras/progressive_growing_of_gans.\n",
        "\n",
        "Nesse trabalho iremos utilizar somente 1.800 imagens com dimensão reduzida para 64 por 64. Essa redução no número e na dimensão das imagens é feita somente para podermos realizar o treinamento da RNA em um tempo razoável.\n",
        "\n",
        "As figuras abaixo mostram dois exemplos do conjunto de dados.\n",
        "\n",
        "<img src=\"https://github.com/rtegao/CNN-Specialization/blob/master/Faces1.png?raw=1\">\n",
        "\n",
        "<img src=\"https://github.com/rtegao/CNN-Specialization/blob/master/Faces2.png?raw=1\">\n"
      ]
    },
    {
      "cell_type": "markdown",
      "metadata": {
        "colab_type": "text",
        "id": "S7gTbuZmXqcr"
      },
      "source": [
        "## 2 - Dados de treinamento\n",
        "\n",
        "As imagens que iremos utilizar nesse trabalho já foram processadas de forma a criar o par de imagens de entrada e saída. As imagens estão no arquivo data64.h5.\n",
        "\n",
        "Características dos dados:\n",
        "\n",
        "- As imagens são coloridas e estão no padrão RGB;\n",
        "- Cada imagem de entrada e de saída tem dimensão de 64x64x3;\n",
        "- As imagens já foram normalizadas, então, o valor da intensidade luminosa de cada pixels é um número real entre 0 e 1;\n",
        "- As imagens de entrada consistem em rostos de celebridades com a máscara preta cobrindo o nariz;\n",
        "- As imagens de saída consistem nos rostos das celebridades.\n",
        "\n",
        "\n",
        "### 2.1 - Leitura dos dados\n",
        "\n",
        "Para iniciar o trabalho é necessário ler o arquivo de dados. Assim, execute o código da célula abaixo para ler o arquivo de dados.\n",
        "\n",
        "**Importante:**\n",
        "Para obter o arquivo de dados você deve copiar o link abaixo no seu browser e dar o download. Após isso colocar o arquivo em algum diretório que possa ser usado.\n",
        "https://drive.google.com/open?id=1G5Ot0SaVhyoSg3sEpDtMwTCh_nLtFu7b"
      ]
    },
    {
      "cell_type": "code",
      "metadata": {
        "colab_type": "code",
        "id": "eKoeKOq4Xqcs",
        "outputId": "41ff3429-eaae-4312-9cf8-94b30d4ac4ed",
        "colab": {
          "base_uri": "https://localhost:8080/",
          "height": 68
        }
      },
      "source": [
        "# Abre arquivo de dados data64.h5\n",
        "hf = h5py.File('data64.h5','r')\n",
        "\n",
        "# Le imagens do arquivo. As imagens estão em um dicionário, sendo que os dados e entrada e saída estão separados, \n",
        "# assim como os dados de treinamento, validação e teste.\n",
        "x_train0 = np.array(hf.get('x_train'))\n",
        "y_train0 = np.array(hf.get('y_train'))\n",
        "x_val0 = np.array(hf.get('x_val'))\n",
        "y_val0 = np.array(hf.get('y_val'))\n",
        "x_test0 = np.array(hf.get('x_test'))\n",
        "y_test0 = np.array(hf.get('y_test'))\n",
        "\n",
        "x_train = x_train0[:1200]\n",
        "y_train = y_train0[:1200]\n",
        "x_val = x_val0[:300]\n",
        "y_val = y_val0[:300]\n",
        "x_test = x_test0[:300]\n",
        "y_test = y_test0[:300]\n",
        "\n",
        "img_size = x_train.shape[1:4]\n",
        "\n",
        "# Feche arquivo de dados\n",
        "hf.close()\n",
        "\n",
        "# Imprime dimensão dos conjuntos de dados\n",
        "print('Dimensão dos dados de treinamento (entrada/saída) =', x_train.shape, y_train.shape)\n",
        "print('Dimensão dos dados de validação (entrada/saída) =', x_val.shape, y_val.shape)               \n",
        "print('Dimensão dos dados de teste (entrada/saída) =1', x_test.shape, y_test.shape)"
      ],
      "execution_count": 4,
      "outputs": [
        {
          "output_type": "stream",
          "text": [
            "Dimensão dos dados de treinamento (entrada/saída) = (1200, 64, 64, 3) (1200, 64, 64, 3)\n",
            "Dimensão dos dados de validação (entrada/saída) = (300, 64, 64, 3) (300, 64, 64, 3)\n",
            "Dimensão dos dados de teste (entrada/saída) =1 (300, 64, 64, 3) (300, 64, 64, 3)\n"
          ],
          "name": "stdout"
        }
      ]
    },
    {
      "cell_type": "markdown",
      "metadata": {
        "colab_type": "text",
        "id": "pOzVdHbkXqcw"
      },
      "source": [
        "Pela dimensão dos tensores com os dados de treinamento, validação e teste temos:\n",
        "\n",
        "- 1200 imagens de treinamento com dimensão de 64x64x3 pixels;\n",
        "- 300 imagens de validação com dimensão de 64x64x3 pixels;\n",
        "- 300 imagens de teste com dimensão de 64x64x3 pixels.\n"
      ]
    },
    {
      "cell_type": "markdown",
      "metadata": {
        "colab_type": "text",
        "id": "gYjJk_oEXqcx"
      },
      "source": [
        "Execute a célula a seguir para visualizar um exemplo do banco de dados. Altere o valor da variável 'index' e execute a célula novamente para visualizar mais exemplos diferentes."
      ]
    },
    {
      "cell_type": "code",
      "metadata": {
        "colab_type": "code",
        "id": "-9szErBVXqcy",
        "outputId": "55671b9a-b9e8-4ad2-c57f-cf3e008a48f7",
        "colab": {
          "base_uri": "https://localhost:8080/",
          "height": 267
        }
      },
      "source": [
        "# Mostra exemplo de imagem de entrada e saída\n",
        "\n",
        "# Trocar o valor de index para mostrar outras imagens\n",
        "index = 10\n",
        "f, pos = plt.subplots(1, 2, figsize=(8, 8))\n",
        "pos[0].imshow(x_train[index])\n",
        "pos[0].set_title('Imagem de entrada')\n",
        "pos[1].imshow(y_train[index])\n",
        "pos[1].set_title('Imagem de saída')\n",
        "plt.show()\n"
      ],
      "execution_count": 5,
      "outputs": [
        {
          "output_type": "display_data",
          "data": {
            "image/png": "[encoded data removed]",
            "text/plain": [
              "<Figure size 576x576 with 2 Axes>"
            ]
          },
          "metadata": {
            "tags": [],
            "needs_background": "light"
          }
        }
      ]
    },
    {
      "cell_type": "markdown",
      "metadata": {
        "colab_type": "text",
        "id": "QV8bEVBkXqc1"
      },
      "source": [
        "## 3 - RNA convolucional\n",
        "\n",
        "Nesse trabalho você irá usar uma RNA convolucional residual conforme visto em aula. Então a primeira etapa é criar um bloco reasidual para depois unir vários blocos em uma RNA.\n",
        "\n",
        "**Importante:** a saída dessa RNA é uma imagem com a mesma dimensão da imagem de entrada, assim, a dimensão da imagem original deve ser preservada em todas as camadas convolucionais."
      ]
    },
    {
      "cell_type": "markdown",
      "metadata": {
        "colab_type": "text",
        "id": "P_jEFJCDRZKP"
      },
      "source": [
        "### Exercício #1: Criar uma função que define um bloco residual\n",
        "\n",
        "Na célula abaixo crie um bloco residual exatamente igual ao visto em aula. Não se esqueca de incluir a opção `padding='same'` nas camadas convolucionais que as saídas tenham a mesma dimensão."
      ]
    },
    {
      "cell_type": "code",
      "metadata": {
        "colab_type": "code",
        "id": "Xz5DcDU_M_LV",
        "colab": {}
      },
      "source": [
        "# PARA VOCÊ FAZER: Função bloco_residual\n",
        "\n",
        "from tensorflow.keras import layers\n",
        "\n",
        "def bloco_residual(X, n, dim):\n",
        "    \"\"\"`\n",
        "    Entradas: \n",
        "        X = tensor de entrada \n",
        "        n = número de filtros\n",
        "        dim = dimensão dos filtros\n",
        "    \n",
        "    Saída:\n",
        "        A2 -> tensor de saída\n",
        "    \"\"\"\n",
        "    # Camadas convolucionais\n",
        "    ### COMECE AQUI ### (≈ 2 linhas)    \n",
        "    A1 = layers.Conv2D(n,dim,strides=1,padding='same',activation='relu')(X)\n",
        "    Z2 = layers.Conv2D(n,dim,strides=1,padding='same',activation='linear')(A1)\n",
        "    ### TERMINE AQUI ###\n",
        "    \n",
        "    # Adiciona os dois ramos e aplica ativação ReLu\n",
        "    ### COMECE AQUI ### (≈ 2 linhas)    \n",
        "    ZX = layers.Add()([Z2,X])\n",
        "    A2 = layers.Activation('relu')(ZX) \n",
        "    ### TERMINE AQUI ###\n",
        "    \n",
        "    # Retorna saída\n",
        "    return A2"
      ],
      "execution_count": 0,
      "outputs": []
    },
    {
      "cell_type": "markdown",
      "metadata": {
        "colab_type": "text",
        "id": "ParIi691RZKY"
      },
      "source": [
        "### Exercício #2: Criar uma RNA com blocos residuais\n",
        "\n",
        "Na célula abaixo crie uma RNA com 6 blocos residuais. Use o bloco residual definido na função `bloco_residual` criada no exercício #1. Note que antes de um bloco residual pode ser necessária uma camada convolucional para ajustar a dimensão dos tensores para não ter problema na hora de realizar a soma dentro do bloco residual.\n",
        "\n",
        "As configuração dessa rede é a seguinte:\n",
        "\n",
        "- Camada de entrada que recebe as imagens de dimensão 64x64x3\n",
        "- Camada convolucional: 128 filtros de dimensão 5x5, ativação relu\n",
        "- 1o bloco residual: 128 filtros de dimensão 5x5\n",
        "- Camada convolucional: 256 filtros de dimensão 5x5, ativação relu\n",
        "- 2o e 3o blocos residuais: 256 filtros de dimensão 5x5\n",
        "- Camada convolucional: 128 filtros de dimensão 5x5, ativação relu\n",
        "- 4o e 5o blocos residuais: 128 filtros de dimensão 5x5\n",
        "- Camada convolucional: 64 filtros de dimensão 5x5, ativação relu\n",
        "- 6o bloco residual: 64 filtros de dimensão 5x5\n",
        "- Camada convolucional: 3 filtros de dimensão 5x5, ativação linear\n",
        "\n",
        "Observe que todas as camadas convolucionais devem ser com `padding='same'`. \n"
      ]
    },
    {
      "cell_type": "code",
      "metadata": {
        "colab_type": "code",
        "id": "h0-k5qW7M_LY",
        "outputId": "241e3e73-237d-46a6-e505-71320c773052",
        "colab": {
          "base_uri": "https://localhost:8080/",
          "height": 1275
        }
      },
      "source": [
        "# PARA VOCÊ FAZER: Rede residual\n",
        "\n",
        "from tensorflow.keras import Input\n",
        "from tensorflow.keras.models import Model\n",
        "from tensorflow.keras.layers import Conv2D\n",
        "from tensorflow.keras.utils import plot_model\n",
        "\n",
        "# Definição da dimensão da entrada e da camada de entrda (use camada tipo Input)\n",
        "### COMECE AQUI ### (≈ 2 linhas)    \n",
        "xshape =  x_train.shape[1:4]\n",
        "x0 = Input(shape=xshape)\n",
        "### TERMINE AQUI ###\n",
        "\n",
        "### COMECE AQUI ### (≈ 11 linhas)    \n",
        "# Camada convolucional para ajustar número de canais para poder ser somada dentro do bloco residual\n",
        "x1 = layers.Conv2D(filters=128,kernel_size=(5,5),padding='same',strides=1,activation='relu')(x0)\n",
        "\n",
        "# Primeiro bloco residual com 128 filtros\n",
        "x2 = bloco_residual(X = x1, n = 128, dim = (5,5))\n",
        "\n",
        "# Camada convolucional para ajustar número de canais para poder ser somada dentro do bloco residual\n",
        "x3 = layers.Conv2D(filters = 256, kernel_size = (5,5), padding = 'same', strides = 1, activation = 'relu')(x2)\n",
        "\n",
        "# Segundo bloco residual com 256 filtros\n",
        "x4 = bloco_residual(X = x3, n = 256, dim = (5,5))\n",
        "\n",
        "# Terceiro bloco residual com 256 filtros\n",
        "x5 = bloco_residual(X = x4, n = 256, dim = (5,5))\n",
        "\n",
        "# Camada convolucional para ajustar número de canais para poder ser somada dentro do bloco residual\n",
        "x6 = layers.Conv2D(filters = 128, kernel_size = (5,5), padding = 'same', strides = 1, activation = 'relu')(x5)\n",
        "\n",
        "# Quarto bloco residual com 128 filtros\n",
        "x7 = bloco_residual(X = x6, n = 128, dim = (5,5))\n",
        "\n",
        "# Quinto bloco residual com 128 filtros\n",
        "x8 = bloco_residual(X = x7, n = 128, dim = (5,5))\n",
        "\n",
        "# Camada convolucional para ajustar número de canais para poder ser somada dentro do bloco residual\n",
        "x9 = layers.Conv2D(filters = 64, kernel_size = (5,5), padding = 'same', strides = 1, activation = 'relu')(x8)\n",
        "\n",
        "# Sexto bloco residual com 64 filtros\n",
        "x10 = bloco_residual(X = x9, n = 64, dim = (5,5))\n",
        "\n",
        "# Camada convolutional para acertar profundidade da imagem resultante no padrão RGB\n",
        "x11 = layers.Conv2D(filters = 3, kernel_size = (5,5), padding = 'same', strides = 1, activation = 'relu')(x10)\n",
        "### TERMINE AQUI ###\n",
        "\n",
        "# Criação da RNA\n",
        "### COMECE AQUI ### (≈ 1 linha)    \n",
        "rna = Model(x0,x11)\n",
        "### TERMINE AQUI ###\n",
        "\n",
        "# Mostra resumo da RNA\n",
        "rna.summary()\n",
        "\n",
        "# Se quiser visualizar o gráfico da rede criada tire o comentário da linha de baixo. Esse comando cria um gráfico \n",
        "# da rede e salva no arquivo rna.png\n",
        "# plot_model(rna, to_file='rna.png', show_shapes=True)    \n"
      ],
      "execution_count": 7,
      "outputs": [
        {
          "output_type": "stream",
          "text": [
            "Model: \"model\"\n",
            "__________________________________________________________________________________________________\n",
            "Layer (type)                    Output Shape         Param #     Connected to                     \n",
            "==================================================================================================\n",
            "input_1 (InputLayer)            [(None, 64, 64, 3)]  0                                            \n",
            "__________________________________________________________________________________________________\n",
            "conv2d (Conv2D)                 (None, 64, 64, 128)  9728        input_1[0][0]                    \n",
            "__________________________________________________________________________________________________\n",
            "conv2d_1 (Conv2D)               (None, 64, 64, 128)  409728      conv2d[0][0]                     \n",
            "__________________________________________________________________________________________________\n",
            "conv2d_2 (Conv2D)               (None, 64, 64, 128)  409728      conv2d_1[0][0]                   \n",
            "__________________________________________________________________________________________________\n",
            "add (Add)                       (None, 64, 64, 128)  0           conv2d_2[0][0]                   \n",
            "                                                                 conv2d[0][0]                     \n",
            "__________________________________________________________________________________________________\n",
            "activation (Activation)         (None, 64, 64, 128)  0           add[0][0]                        \n",
            "__________________________________________________________________________________________________\n",
            "conv2d_3 (Conv2D)               (None, 64, 64, 256)  819456      activation[0][0]                 \n",
            "__________________________________________________________________________________________________\n",
            "conv2d_4 (Conv2D)               (None, 64, 64, 256)  1638656     conv2d_3[0][0]                   \n",
            "__________________________________________________________________________________________________\n",
            "conv2d_5 (Conv2D)               (None, 64, 64, 256)  1638656     conv2d_4[0][0]                   \n",
            "__________________________________________________________________________________________________\n",
            "add_1 (Add)                     (None, 64, 64, 256)  0           conv2d_5[0][0]                   \n",
            "                                                                 conv2d_3[0][0]                   \n",
            "__________________________________________________________________________________________________\n",
            "activation_1 (Activation)       (None, 64, 64, 256)  0           add_1[0][0]                      \n",
            "__________________________________________________________________________________________________\n",
            "conv2d_6 (Conv2D)               (None, 64, 64, 256)  1638656     activation_1[0][0]               \n",
            "__________________________________________________________________________________________________\n",
            "conv2d_7 (Conv2D)               (None, 64, 64, 256)  1638656     conv2d_6[0][0]                   \n",
            "__________________________________________________________________________________________________\n",
            "add_2 (Add)                     (None, 64, 64, 256)  0           conv2d_7[0][0]                   \n",
            "                                                                 activation_1[0][0]               \n",
            "__________________________________________________________________________________________________\n",
            "activation_2 (Activation)       (None, 64, 64, 256)  0           add_2[0][0]                      \n",
            "__________________________________________________________________________________________________\n",
            "conv2d_8 (Conv2D)               (None, 64, 64, 128)  819328      activation_2[0][0]               \n",
            "__________________________________________________________________________________________________\n",
            "conv2d_9 (Conv2D)               (None, 64, 64, 128)  409728      conv2d_8[0][0]                   \n",
            "__________________________________________________________________________________________________\n",
            "conv2d_10 (Conv2D)              (None, 64, 64, 128)  409728      conv2d_9[0][0]                   \n",
            "__________________________________________________________________________________________________\n",
            "add_3 (Add)                     (None, 64, 64, 128)  0           conv2d_10[0][0]                  \n",
            "                                                                 conv2d_8[0][0]                   \n",
            "__________________________________________________________________________________________________\n",
            "activation_3 (Activation)       (None, 64, 64, 128)  0           add_3[0][0]                      \n",
            "__________________________________________________________________________________________________\n",
            "conv2d_11 (Conv2D)              (None, 64, 64, 128)  409728      activation_3[0][0]               \n",
            "__________________________________________________________________________________________________\n",
            "conv2d_12 (Conv2D)              (None, 64, 64, 128)  409728      conv2d_11[0][0]                  \n",
            "__________________________________________________________________________________________________\n",
            "add_4 (Add)                     (None, 64, 64, 128)  0           conv2d_12[0][0]                  \n",
            "                                                                 activation_3[0][0]               \n",
            "__________________________________________________________________________________________________\n",
            "activation_4 (Activation)       (None, 64, 64, 128)  0           add_4[0][0]                      \n",
            "__________________________________________________________________________________________________\n",
            "conv2d_13 (Conv2D)              (None, 64, 64, 64)   204864      activation_4[0][0]               \n",
            "__________________________________________________________________________________________________\n",
            "conv2d_14 (Conv2D)              (None, 64, 64, 64)   102464      conv2d_13[0][0]                  \n",
            "__________________________________________________________________________________________________\n",
            "conv2d_15 (Conv2D)              (None, 64, 64, 64)   102464      conv2d_14[0][0]                  \n",
            "__________________________________________________________________________________________________\n",
            "add_5 (Add)                     (None, 64, 64, 64)   0           conv2d_15[0][0]                  \n",
            "                                                                 conv2d_13[0][0]                  \n",
            "__________________________________________________________________________________________________\n",
            "activation_5 (Activation)       (None, 64, 64, 64)   0           add_5[0][0]                      \n",
            "__________________________________________________________________________________________________\n",
            "conv2d_16 (Conv2D)              (None, 64, 64, 3)    4803        activation_5[0][0]               \n",
            "==================================================================================================\n",
            "Total params: 11,076,099\n",
            "Trainable params: 11,076,099\n",
            "Non-trainable params: 0\n",
            "__________________________________________________________________________________________________\n"
          ],
          "name": "stdout"
        }
      ]
    },
    {
      "cell_type": "markdown",
      "metadata": {
        "colab_type": "text",
        "id": "d3Sd0YcnRZKi"
      },
      "source": [
        "**Saída esperada:** \n",
        "\n",
        "    Model: \"model\"\n",
        "    __________________________________________________________________________________________________\n",
        "    Layer (type)                    Output Shape         Param #     Connected to                     \n",
        "    ==================================================================================================\n",
        "    input_1 (InputLayer)            [(None, 64, 64, 3)]  0                                            \n",
        "    __________________________________________________________________________________________________\n",
        "    conv2d (Conv2D)                 (None, 64, 64, 128)  9728        input_1[0][0]                    \n",
        "    __________________________________________________________________________________________________\n",
        "    conv2d_1 (Conv2D)               (None, 64, 64, 128)  409728      conv2d[0][0]                     \n",
        "    __________________________________________________________________________________________________\n",
        "    conv2d_2 (Conv2D)               (None, 64, 64, 128)  409728      conv2d_1[0][0]                   \n",
        "    __________________________________________________________________________________________________\n",
        "    add (Add)                       (None, 64, 64, 128)  0           conv2d_2[0][0]                   \n",
        "                                                                     conv2d[0][0]                     \n",
        "    __________________________________________________________________________________________________\n",
        "    activation (Activation)         (None, 64, 64, 128)  0           add[0][0]                        \n",
        "    __________________________________________________________________________________________________\n",
        "    conv2d_3 (Conv2D)               (None, 64, 64, 256)  819456      activation[0][0]                 \n",
        "    __________________________________________________________________________________________________\n",
        "    conv2d_4 (Conv2D)               (None, 64, 64, 256)  1638656     conv2d_3[0][0]                   \n",
        "    __________________________________________________________________________________________________\n",
        "    conv2d_5 (Conv2D)               (None, 64, 64, 256)  1638656     conv2d_4[0][0]                   \n",
        "    __________________________________________________________________________________________________\n",
        "    add_1 (Add)                     (None, 64, 64, 256)  0           conv2d_5[0][0]                   \n",
        "                                                                 conv2d_3[0][0]                   \n",
        "    __________________________________________________________________________________________________\n",
        "    activation_1 (Activation)       (None, 64, 64, 256)  0           add_1[0][0]                      \n",
        "    __________________________________________________________________________________________________\n",
        "    conv2d_6 (Conv2D)               (None, 64, 64, 256)  1638656     activation_1[0][0]               \n",
        "    __________________________________________________________________________________________________\n",
        "    conv2d_7 (Conv2D)               (None, 64, 64, 256)  1638656     conv2d_6[0][0]                   \n",
        "    __________________________________________________________________________________________________\n",
        "    add_2 (Add)                     (None, 64, 64, 256)  0           conv2d_7[0][0]                   \n",
        "                                                                     activation_1[0][0]               \n",
        "    __________________________________________________________________________________________________\n",
        "    activation_2 (Activation)       (None, 64, 64, 256)  0           add_2[0][0]                      \n",
        "    __________________________________________________________________________________________________\n",
        "    conv2d_8 (Conv2D)               (None, 64, 64, 128)  819328      activation_2[0][0]               \n",
        "    __________________________________________________________________________________________________\n",
        "    conv2d_9 (Conv2D)               (None, 64, 64, 128)  409728      conv2d_8[0][0]                   \n",
        "    __________________________________________________________________________________________________\n",
        "    conv2d_10 (Conv2D)              (None, 64, 64, 128)  409728      conv2d_9[0][0]                   \n",
        "    __________________________________________________________________________________________________\n",
        "    add_3 (Add)                     (None, 64, 64, 128)  0           conv2d_10[0][0]                  \n",
        "                                                                     conv2d_8[0][0]                   \n",
        "    __________________________________________________________________________________________________\n",
        "    activation_3 (Activation)       (None, 64, 64, 128)  0           add_3[0][0]                      \n",
        "    __________________________________________________________________________________________________\n",
        "    conv2d_11 (Conv2D)              (None, 64, 64, 128)  409728      activation_3[0][0]               \n",
        "    __________________________________________________________________________________________________\n",
        "    conv2d_12 (Conv2D)              (None, 64, 64, 128)  409728      conv2d_11[0][0]                  \n",
        "    __________________________________________________________________________________________________\n",
        "    add_4 (Add)                     (None, 64, 64, 128)  0           conv2d_12[0][0]                  \n",
        "                                                                     activation_3[0][0]               \n",
        "    __________________________________________________________________________________________________\n",
        "    activation_4 (Activation)       (None, 64, 64, 128)  0           add_4[0][0]                      \n",
        "    __________________________________________________________________________________________________\n",
        "    conv2d_13 (Conv2D)              (None, 64, 64, 64)   204864      activation_4[0][0]               \n",
        "    __________________________________________________________________________________________________\n",
        "    conv2d_14 (Conv2D)              (None, 64, 64, 64)   102464      conv2d_13[0][0]                  \n",
        "    __________________________________________________________________________________________________\n",
        "    conv2d_15 (Conv2D)              (None, 64, 64, 64)   102464      conv2d_14[0][0]                  \n",
        "    __________________________________________________________________________________________________\n",
        "    add_5 (Add)                     (None, 64, 64, 64)   0           conv2d_15[0][0]                  \n",
        "                                                                     conv2d_13[0][0]                  \n",
        "    __________________________________________________________________________________________________\n",
        "    activation_5 (Activation)       (None, 64, 64, 64)   0           add_5[0][0]                      \n",
        "    __________________________________________________________________________________________________\n",
        "    conv2d_16 (Conv2D)              (None, 64, 64, 3)    4803        activation_5[0][0]               \n",
        "    ==================================================================================================\n",
        "    Total params: 11,076,099\n",
        "    Trainable params: 11,076,099\n",
        "    Non-trainable params: 0\n",
        "    __________________________________________________________________________________________________"
      ]
    },
    {
      "cell_type": "markdown",
      "metadata": {
        "colab_type": "text",
        "id": "90a_i7NPXqc9"
      },
      "source": [
        "## 4 - Função de custo e métrica\n"
      ]
    },
    {
      "cell_type": "markdown",
      "metadata": {
        "colab_type": "text",
        "id": "3qYAAhbJRZKk"
      },
      "source": [
        "### Máscara\n",
        "\n",
        "Para implementar essa função de custo é necessário usar uma imagem com a máscara. Essa máscara está no arquivo mask512.h5 e tem dimensão 512x512x3. Execute a célula abaixo para visualizar a máscara utilizada, já redimensionada para 64x64x3 pixels."
      ]
    },
    {
      "cell_type": "code",
      "metadata": {
        "colab_type": "code",
        "id": "-OIBjgyFXqc-",
        "outputId": "cff7cc4d-8cb0-4955-b5fd-379b2b8f8ce2",
        "colab": {
          "base_uri": "https://localhost:8080/",
          "height": 285
        }
      },
      "source": [
        "mask0 = imread('mask512.jpg')\n",
        "mask0 = np.array(mask0)\n",
        "mask = resize(mask0, (64, 64, 3), preserve_range=True)\n",
        "plt.imshow(mask)\n",
        "plt.show()"
      ],
      "execution_count": 8,
      "outputs": [
        {
          "output_type": "stream",
          "text": [
            "Clipping input data to the valid range for imshow with RGB data ([0..1] for floats or [0..255] for integers).\n"
          ],
          "name": "stderr"
        },
        {
          "output_type": "display_data",
          "data": {
            "image/png": "[encoded data removed]",
            "text/plain": [
              "<Figure size 432x288 with 1 Axes>"
            ]
          },
          "metadata": {
            "tags": [],
            "needs_background": "light"
          }
        }
      ]
    },
    {
      "cell_type": "markdown",
      "metadata": {
        "colab_type": "text",
        "id": "l3dPAXUKRZKq"
      },
      "source": [
        "### Função de custo\n",
        "\n",
        "Como a RNA processa toda a imagem e não somente a região escondida pela máscara que se deseja reconstruir, então, a função de custo deve diferenciar a reconstrução da parte que contém a máscara (o triângulo que omite o nariz) das outras regiões da imagem. Para isso usa-se uma função de custo desenvolvida por Liu et al. (2018) na qual são  atribuídos pesos maiores para os pixels internos à máscara e pesos menores para os pixels fora da máscara. A função de custo $L_{total}$ é definida por:\n",
        "\n",
        "$$L_{total} = L_{valid} + 10L_{hole}$$\n",
        "\n",
        "onde,\n",
        "\n",
        "$$L_{hole} = \\frac {1}{N} \\sum_{i=1}^{N}(1 - m_i)|y_{orig(i)} - y_{prev(i)}|$$\n",
        "\n",
        "$$L_{valid} = \\frac {1}{N} \\sum_{i=1}^{N}(m_i)|y_{orig(i)} - y_{prev(i)}|$$\n",
        " \n",
        "onde $m_i$ é o valor do pixel $i$ da máscara, $y_{orig(i)}$ é o valor do pixel $i$ da imagem original sem a máscara, $y_{prev(i)}$ é o valor do pixel $i$ da imagem reconstruída pela rede e $N$ é o número total de pixels das imagens, que no caso é 64*64*3.\n",
        "\n",
        "Nota-se que na função $L_{hole}$ são considerados somente os pixels que estão dentro da região da máscara e na função $L_{valid}$ são considerados os pixels externos à máscara. Os pesos atribuídos para $L_{valid}$ e $L_{hole}$ na função de custo total $L_{total}$ foram determinados por meio de uma processo de otimização usando 100 imagens.\n",
        "\n",
        "**Referência:**\n",
        "Liu ewt al., Image Inpainting for Irregular Holes Using. Computer Vision Foundation.Liu, et al., 2018. (http://openaccess.thecvf.com/content_ECCV_2018/html/Guilin_Liu_Image_Inpainting_for_ECCV_2018_paper.html)"
      ]
    },
    {
      "cell_type": "markdown",
      "metadata": {
        "colab_type": "text",
        "id": "iI1PtbQqRZKr"
      },
      "source": [
        "Execute a célula abaixo para definir as funções $L_{hole}$ e $L_{valid}$ para serem usadas na função de custo $L_{total}$.\n"
      ]
    },
    {
      "cell_type": "code",
      "metadata": {
        "colab_type": "code",
        "id": "NV8mfGkCXqdC",
        "colab": {}
      },
      "source": [
        "# Função L1, usadas pelas funções L_hole e L_ valid para calcula o erro absoluto médio de dois tensores.\n",
        "\n",
        "import tensorflow.keras.backend as K\n",
        "\n",
        "def l1(y_true, y_pred):\n",
        "    \"\"\"Calculate the L1 loss used in loss calculations\"\"\"\n",
        "    return K.mean(K.abs(y_pred - y_true))\n",
        " \n",
        "# Função L_hole\n",
        "def loss_hole(mask, y_true, y_pred):\n",
        "    \"\"\"Pixel L1 loss within the mask\"\"\"\n",
        "    return l1((1-mask) * y_true, (1-mask) * y_pred)\n",
        "    \n",
        "# Função L_valid    \n",
        "def loss_valid(mask, y_true, y_pred):\n",
        "    \"\"\"Pixel L1 loss outside the mask\"\"\"\n",
        "    return l1(mask * y_true, mask * y_pred)"
      ],
      "execution_count": 0,
      "outputs": []
    },
    {
      "cell_type": "markdown",
      "metadata": {
        "colab_type": "text",
        "id": "9YCD-AB5RZK0"
      },
      "source": [
        "### Exercício #3: Função de custo \n",
        "\n",
        "Usando as funções $L_{valid}$ e $L_{hole}$ complete a célula abaixo para implementar a função de custo $L{total}$ conforme as equações definidas acima.\n"
      ]
    },
    {
      "cell_type": "code",
      "metadata": {
        "colab_type": "code",
        "id": "6EDvhncZXqdF",
        "colab": {}
      },
      "source": [
        "# PARA VOCÊ FAZER: Função de custo L_total\n",
        "\n",
        "def L_total(y_true, y_pred):\n",
        "    \"\"\"\n",
        "    Entradas:\n",
        "        y_true = saída desejada \n",
        "        y_pred = saída calculada pela rede\n",
        "        \n",
        "    Retorna:\n",
        "        Função de custo Ltotal\n",
        "    \"\"\"         \n",
        "    \n",
        "    # ler máscara e redimensiona para 64x64\n",
        "    mask0 = imread('mask512.jpg')\n",
        "    mask0 = np.array(mask0)\n",
        "    mask = resize(mask0, (64, 64, 3), preserve_range=True)/255.\n",
        "  \n",
        "    # Calcula componentes da função de custo e depois a função de custo total\n",
        "    # (use as funções definidas na célula de código anterior)\n",
        "    ### COMECE AQUI ### (≈ 3 linhas)  \n",
        "    l1 = loss_valid(mask,y_true, y_pred)\n",
        "    l2 = loss_hole(mask,y_true, y_pred)\n",
        "    Ltotal = l1 + 10*l2\n",
        "    ### TERMINE AQUI ### \n",
        "\n",
        "    # Return loss function\n",
        "    return Ltotal"
      ],
      "execution_count": 0,
      "outputs": []
    },
    {
      "cell_type": "markdown",
      "metadata": {
        "colab_type": "text",
        "id": "7lkSI0qHRZK6"
      },
      "source": [
        "Execute a célula abaixo para testar a sua função de custo $L_{total}$."
      ]
    },
    {
      "cell_type": "code",
      "metadata": {
        "colab_type": "code",
        "id": "RrlP5DFhRZK7",
        "outputId": "8988c16c-32a0-4862-cd70-ca8ed7661de7",
        "colab": {
          "base_uri": "https://localhost:8080/",
          "height": 34
        }
      },
      "source": [
        "# Define imagem de teste\n",
        "index = 0\n",
        "\n",
        "# Expande número de eixos para incluir 1o eixo dos exemplos\n",
        "yorig = np.expand_dims(y_train[index], axis=0)\n",
        "yprev = np.expand_dims(x_train[index], axis=0)\n",
        "\n",
        "# Calcula função de custo\n",
        "loss = L_total(yorig, yprev)\n",
        "\n",
        "# Abre sessão do TensorFlow para excutar a função L_total\n",
        "print('L_total = ', format(loss))"
      ],
      "execution_count": 11,
      "outputs": [
        {
          "output_type": "stream",
          "text": [
            "L_total =  0.22633830550449346\n"
          ],
          "name": "stdout"
        }
      ]
    },
    {
      "cell_type": "markdown",
      "metadata": {
        "colab_type": "text",
        "id": "OFvPzZk0RZLB"
      },
      "source": [
        "**Saída esperada:**\n",
        "\n",
        "    L_total = 0.22633828"
      ]
    },
    {
      "cell_type": "markdown",
      "metadata": {
        "colab_type": "text",
        "id": "Rljhwc6dRZLD"
      },
      "source": [
        "### Métrica\n",
        "\n",
        "A métrica adequada para esse problema é a relação sinal ruído, geralmente abreviada por PSNR, ver https://en.wikipedia.org/wiki/Peak_signal-to-noise_ratio. A PSNR define a relação entre o valor máximo de um sinal e o ruído presente no sinal, que afeta a sua fidelidade. \n",
        "\n",
        "PSNR é definida em termos da base logaritmica de decibel, sendo mais fácilmente entendida usando o erro quadrático médio (MSE), dado pela seguinte equação: \n",
        "\n",
        "$$MSE = \\frac {1}{N} \\sum_{i=1}^{N}[y_{orig(i)} - y_{prev(i)}]^{2}$$\n",
        "\n",
        "onde $y_{orig(i)}$ é o valor do pixel $i$ da imagem original, $y_{prev(i)}$ é o valor do pixel $i$ da imagem gerada pela rede e $N$ é o número total de pixels das imagens. Assim, o $MSE$ representa a média do erro quadrático entre os valores dos pixels das imagens original e gerada pela rede.\n",
        "\n",
        "Tendo o $MSE$ a $PSNR$ é definida por:\n",
        "\n",
        "$$PSNR = 10 .log_{10}({\\frac {max^2}{MSE}}) = 20 .log_{10}(max) - 10 .log_{10}(MSE)$$\n",
        "\n",
        "onde $max$ é o valor máximo que um pixel das imagens pode assumir. No caso as imagens estão normalizadas entre 0 e 1, ou seja, $max = 1$, mas como $log_{10}(1) = 0$, então, a equação acima é simplificada para:\n",
        "\n",
        "$$PSNR = -10.log_{10}(MSE)$$\n",
        "\n",
        "Note que se a imagem reconstruída for igual a imagem original, então, $PSNR = \\infty$, ou seja, quanto melhor for a imagem reconstruída maior o valor de PSNR."
      ]
    },
    {
      "cell_type": "markdown",
      "metadata": {
        "colab_type": "text",
        "id": "5HHAw99uRZLD"
      },
      "source": [
        "### Exercício #4: Métrica PSNR \n",
        "\n",
        "A métrica PSNR não está disponível no Keras então temos que implementá-la. Assim, na célula abaixo crie a função que calcula essa métrica de acordo com a equação definida acima. Observe que uma métrica do Keras deve receber como parâmetros a saída desejada e a saída calculada pela rede. Para implementar facilmente essa métrica você pode usar as funções `square`, `mean` e `log` da classe backend do Keras. \n",
        "\n",
        "Observe que a função `log` do keras calcula o logaritmo na base $e$, assim, para calcular o logaritmo de um número $x$ na base 10, deve-se fazer a mudança de base usando a seguinte equação:\n",
        "\n",
        "$$log_{10}(x) = \\frac {log_e(x)} {log_e(10)}$$\n",
        "\n",
        "**Observação:**\n",
        "\n",
        "Note que o TensorFlow-Keras Backend foi importado como K. Isso significa que para usar as funções do Keras é necessário escrever `K.function(...)`."
      ]
    },
    {
      "cell_type": "code",
      "metadata": {
        "colab_type": "code",
        "id": "eDUaxNQSXqdH",
        "colab": {}
      },
      "source": [
        "# PARA VOCÊ FAZER: Função da métrica PSNR\n",
        "\n",
        "def PSNR(y_true, y_pred):\n",
        "    \"\"\"\n",
        "    Entradas:\n",
        "        y_true = saída desejada \n",
        "        y_pred = saída calculada pela rede\n",
        "        \n",
        "    Retorna:\n",
        "        métrica exatidão\n",
        "    \"\"\"        \n",
        "    # Define uma constante igual a 10.0 do mesmo tipo dos tensores de entrada para poder calcular log(10)\n",
        "    tipo = y_true.dtype\n",
        "    dez = tf.constant(10.0, dtype=tipo) \n",
        "     \n",
        "    ### COMECE AQUI ### (≈ 2 linhas)     \n",
        "    mse = K.mean(K.abs(y_true - y_pred)**2 )\n",
        "    psnr = -10*(K.log(mse)/K.log(dez))\n",
        "    ### TERMINE AQUI ###\n",
        "\n",
        "    return psnr"
      ],
      "execution_count": 0,
      "outputs": []
    },
    {
      "cell_type": "markdown",
      "metadata": {
        "colab_type": "text",
        "id": "-_lRA56yRZLK"
      },
      "source": [
        "Execute a célula abaixo para testar a sua função PSNR."
      ]
    },
    {
      "cell_type": "code",
      "metadata": {
        "colab_type": "code",
        "id": "c084v7-MRZLL",
        "outputId": "8924f1d4-59c6-4f7d-cb29-26563792b898",
        "colab": {
          "base_uri": "https://localhost:8080/",
          "height": 34
        }
      },
      "source": [
        "import tensorflow as tf\n",
        "\n",
        "# Define imagens\n",
        "index = 0\n",
        "\n",
        "# Expande eixos (1o eixo dos exemplos)\n",
        "yorig = np.expand_dims(y_train[index], axis=0)\n",
        "yprev = np.expand_dims(x_train[index], axis=0)\n",
        "\n",
        "# Calcula PSNR\n",
        "psnr = PSNR(yorig, yprev)\n",
        "\n",
        "# Abre sessão do TensorFlow para excutar a função PSNR\n",
        "print('PSNR = ', format(psnr))"
      ],
      "execution_count": 13,
      "outputs": [
        {
          "output_type": "stream",
          "text": [
            "PSNR =  18.41677174785432\n"
          ],
          "name": "stdout"
        }
      ]
    },
    {
      "cell_type": "markdown",
      "metadata": {
        "colab_type": "text",
        "id": "rNY-eVFURZLR"
      },
      "source": [
        "**Saída esperada:**\n",
        "\n",
        "    PSNR = 18.41677\n",
        "    \n",
        "Veja o que acontece com o resultado da métrica PSNR se no lugar de `x_train[index]` você usar `y_train[index]`.    "
      ]
    },
    {
      "cell_type": "markdown",
      "metadata": {
        "colab_type": "text",
        "id": "LgySUQ3KXqdK"
      },
      "source": [
        "## 5 - Compilação e treinamento da RNA\n",
        "\n",
        "### Exercício #5: Compilação e treinamento da RNA\n",
        "\n",
        "Agora você vai treinar a sua RNA usando o método de otimização ADAM. Assim, na célula abaixo, compile e treine a sua RNA usando os seguinte hiperparâmetros:\n",
        "\n",
        "- taxa de aprendizado = 0,001;\n",
        "- função de custo: L_total\n",
        "- métrica: PSNR\n",
        "- número de épocas = 50\n",
        "\n",
        "Essa operação deve demorar pleo menos 20 minutos."
      ]
    },
    {
      "cell_type": "code",
      "metadata": {
        "colab_type": "code",
        "id": "O18wQQhDXqdK",
        "outputId": "c575e1f2-5f50-458d-fb11-fb2cdeeb8e0c",
        "colab": {
          "base_uri": "https://localhost:8080/",
          "height": 1717
        }
      },
      "source": [
        "# PARA VOCÊ FAZER: Compilação e treinamento da RNA\n",
        "\n",
        "from tensorflow.keras.optimizers import Adam\n",
        "\n",
        "### COMECE AQUI ### (≈ 2 linhas)    \n",
        "rna.compile(optimizer = Adam(learning_rate=0.001), loss = L_total, metrics = PSNR)\n",
        "history = rna.fit(x_train,y_train, epochs = 50, verbose = 1, validation_data = (x_val,y_val))\n",
        "### TERMINE AQUI ###   "
      ],
      "execution_count": 14,
      "outputs": [
        {
          "output_type": "stream",
          "text": [
            "Epoch 1/50\n",
            "38/38 [==============================] - 13s 348ms/step - loss: 275.2822 - PSNR: 6.4058 - val_loss: 0.2218 - val_PSNR: 14.0445\n",
            "Epoch 2/50\n",
            "38/38 [==============================] - 12s 307ms/step - loss: 0.1955 - PSNR: 15.3511 - val_loss: 0.1513 - val_PSNR: 17.4752\n",
            "Epoch 3/50\n",
            "38/38 [==============================] - 12s 307ms/step - loss: 0.1374 - PSNR: 18.3348 - val_loss: 0.1302 - val_PSNR: 19.1080\n",
            "Epoch 4/50\n",
            "38/38 [==============================] - 12s 306ms/step - loss: 0.1069 - PSNR: 20.7524 - val_loss: 0.1023 - val_PSNR: 21.7551\n",
            "Epoch 5/50\n",
            "38/38 [==============================] - 12s 307ms/step - loss: 0.0886 - PSNR: 22.5584 - val_loss: 0.0895 - val_PSNR: 22.8275\n",
            "Epoch 6/50\n",
            "38/38 [==============================] - 12s 306ms/step - loss: 0.0847 - PSNR: 23.1820 - val_loss: 0.0830 - val_PSNR: 23.3360\n",
            "Epoch 7/50\n",
            "38/38 [==============================] - 12s 307ms/step - loss: 0.0798 - PSNR: 23.8141 - val_loss: 0.0876 - val_PSNR: 23.5086\n",
            "Epoch 8/50\n",
            "38/38 [==============================] - 12s 307ms/step - loss: 0.0701 - PSNR: 24.8207 - val_loss: 0.0773 - val_PSNR: 24.2667\n",
            "Epoch 9/50\n",
            "38/38 [==============================] - 12s 307ms/step - loss: 0.0680 - PSNR: 25.2357 - val_loss: 0.0669 - val_PSNR: 25.3596\n",
            "Epoch 10/50\n",
            "38/38 [==============================] - 12s 307ms/step - loss: 0.0657 - PSNR: 25.5848 - val_loss: 0.0617 - val_PSNR: 25.9866\n",
            "Epoch 11/50\n",
            "38/38 [==============================] - 12s 308ms/step - loss: 0.0672 - PSNR: 25.6258 - val_loss: 0.0614 - val_PSNR: 26.0895\n",
            "Epoch 12/50\n",
            "38/38 [==============================] - 12s 307ms/step - loss: 0.0642 - PSNR: 25.9561 - val_loss: 0.0609 - val_PSNR: 26.3141\n",
            "Epoch 13/50\n",
            "38/38 [==============================] - 12s 307ms/step - loss: 0.0592 - PSNR: 26.6234 - val_loss: 0.0579 - val_PSNR: 26.8132\n",
            "Epoch 14/50\n",
            "38/38 [==============================] - 12s 307ms/step - loss: 0.0600 - PSNR: 26.6228 - val_loss: 0.0587 - val_PSNR: 26.7430\n",
            "Epoch 15/50\n",
            "38/38 [==============================] - 12s 307ms/step - loss: 0.0543 - PSNR: 27.4407 - val_loss: 0.0553 - val_PSNR: 27.3051\n",
            "Epoch 16/50\n",
            "38/38 [==============================] - 12s 307ms/step - loss: 0.0536 - PSNR: 27.6073 - val_loss: 0.0522 - val_PSNR: 27.7562\n",
            "Epoch 17/50\n",
            "38/38 [==============================] - 12s 307ms/step - loss: 0.0517 - PSNR: 27.9498 - val_loss: 0.0518 - val_PSNR: 27.9135\n",
            "Epoch 18/50\n",
            "38/38 [==============================] - 12s 307ms/step - loss: 0.0552 - PSNR: 27.6234 - val_loss: 0.0517 - val_PSNR: 27.9118\n",
            "Epoch 19/50\n",
            "38/38 [==============================] - 12s 307ms/step - loss: 0.0501 - PSNR: 28.3703 - val_loss: 0.0591 - val_PSNR: 27.4255\n",
            "Epoch 20/50\n",
            "38/38 [==============================] - 12s 307ms/step - loss: 0.0493 - PSNR: 28.4856 - val_loss: 0.0488 - val_PSNR: 28.5604\n",
            "Epoch 21/50\n",
            "38/38 [==============================] - 12s 307ms/step - loss: 0.0486 - PSNR: 28.6590 - val_loss: 0.0559 - val_PSNR: 27.9319\n",
            "Epoch 22/50\n",
            "38/38 [==============================] - 12s 307ms/step - loss: 0.0519 - PSNR: 28.2958 - val_loss: 0.0611 - val_PSNR: 27.2416\n",
            "Epoch 23/50\n",
            "38/38 [==============================] - 12s 307ms/step - loss: 0.0503 - PSNR: 28.4732 - val_loss: 0.0484 - val_PSNR: 28.5682\n",
            "Epoch 24/50\n",
            "38/38 [==============================] - 12s 307ms/step - loss: 0.0457 - PSNR: 29.1717 - val_loss: 0.0512 - val_PSNR: 28.5976\n",
            "Epoch 25/50\n",
            "38/38 [==============================] - 12s 307ms/step - loss: 0.0449 - PSNR: 29.3870 - val_loss: 0.0539 - val_PSNR: 28.0417\n",
            "Epoch 26/50\n",
            "38/38 [==============================] - 12s 307ms/step - loss: 0.0438 - PSNR: 29.5744 - val_loss: 0.0478 - val_PSNR: 29.0769\n",
            "Epoch 27/50\n",
            "38/38 [==============================] - 12s 307ms/step - loss: 0.0452 - PSNR: 29.4113 - val_loss: 0.0459 - val_PSNR: 29.2357\n",
            "Epoch 28/50\n",
            "38/38 [==============================] - 12s 307ms/step - loss: 0.0485 - PSNR: 28.8331 - val_loss: 0.0521 - val_PSNR: 28.3162\n",
            "Epoch 29/50\n",
            "38/38 [==============================] - 12s 307ms/step - loss: 0.0424 - PSNR: 30.0002 - val_loss: 0.0465 - val_PSNR: 29.2769\n",
            "Epoch 30/50\n",
            "38/38 [==============================] - 12s 307ms/step - loss: 0.0420 - PSNR: 30.1242 - val_loss: 0.0419 - val_PSNR: 30.2128\n",
            "Epoch 31/50\n",
            "38/38 [==============================] - 12s 307ms/step - loss: 0.0416 - PSNR: 30.3545 - val_loss: 0.0460 - val_PSNR: 29.3581\n",
            "Epoch 32/50\n",
            "38/38 [==============================] - 12s 307ms/step - loss: 0.0411 - PSNR: 30.3953 - val_loss: 0.0447 - val_PSNR: 29.9312\n",
            "Epoch 33/50\n",
            "38/38 [==============================] - 12s 307ms/step - loss: 0.0407 - PSNR: 30.5576 - val_loss: 0.0639 - val_PSNR: 27.6842\n",
            "Epoch 34/50\n",
            "38/38 [==============================] - 12s 307ms/step - loss: 0.0576 - PSNR: 27.8802 - val_loss: 0.0444 - val_PSNR: 29.8194\n",
            "Epoch 35/50\n",
            "38/38 [==============================] - 12s 307ms/step - loss: 0.0395 - PSNR: 30.8488 - val_loss: 0.0392 - val_PSNR: 31.0211\n",
            "Epoch 36/50\n",
            "38/38 [==============================] - 12s 307ms/step - loss: 0.0382 - PSNR: 31.1984 - val_loss: 0.0410 - val_PSNR: 30.6139\n",
            "Epoch 37/50\n",
            "38/38 [==============================] - 12s 307ms/step - loss: 0.0372 - PSNR: 31.4234 - val_loss: 0.0382 - val_PSNR: 31.2743\n",
            "Epoch 38/50\n",
            "38/38 [==============================] - 12s 307ms/step - loss: 0.0382 - PSNR: 31.3143 - val_loss: 0.0462 - val_PSNR: 29.7564\n",
            "Epoch 39/50\n",
            "38/38 [==============================] - 12s 307ms/step - loss: 0.0398 - PSNR: 30.9332 - val_loss: 0.0464 - val_PSNR: 29.3644\n",
            "Epoch 40/50\n",
            "38/38 [==============================] - 12s 308ms/step - loss: 0.0381 - PSNR: 31.2423 - val_loss: 0.0407 - val_PSNR: 31.0710\n",
            "Epoch 41/50\n",
            "38/38 [==============================] - 12s 307ms/step - loss: 0.0398 - PSNR: 31.0315 - val_loss: 0.0558 - val_PSNR: 28.4621\n",
            "Epoch 42/50\n",
            "38/38 [==============================] - 12s 307ms/step - loss: 0.0397 - PSNR: 30.9994 - val_loss: 0.0367 - val_PSNR: 31.6636\n",
            "Epoch 43/50\n",
            "38/38 [==============================] - 12s 306ms/step - loss: 0.0347 - PSNR: 32.2007 - val_loss: 0.0363 - val_PSNR: 31.9882\n",
            "Epoch 44/50\n",
            "38/38 [==============================] - 12s 307ms/step - loss: 0.0396 - PSNR: 31.2025 - val_loss: 0.0460 - val_PSNR: 29.8502\n",
            "Epoch 45/50\n",
            "38/38 [==============================] - 12s 307ms/step - loss: 0.0407 - PSNR: 30.8032 - val_loss: 0.0392 - val_PSNR: 31.2114\n",
            "Epoch 46/50\n",
            "38/38 [==============================] - 12s 307ms/step - loss: 0.0372 - PSNR: 31.6058 - val_loss: 0.0370 - val_PSNR: 31.7949\n",
            "Epoch 47/50\n",
            "38/38 [==============================] - 12s 306ms/step - loss: 0.0337 - PSNR: 32.4980 - val_loss: 0.0347 - val_PSNR: 32.2532\n",
            "Epoch 48/50\n",
            "38/38 [==============================] - 12s 307ms/step - loss: 0.0355 - PSNR: 32.1254 - val_loss: 0.0376 - val_PSNR: 31.6853\n",
            "Epoch 49/50\n",
            "38/38 [==============================] - 12s 307ms/step - loss: 0.0330 - PSNR: 32.7298 - val_loss: 0.0394 - val_PSNR: 31.4433\n",
            "Epoch 50/50\n",
            "38/38 [==============================] - 12s 306ms/step - loss: 0.0398 - PSNR: 31.3602 - val_loss: 0.0567 - val_PSNR: 27.8883\n"
          ],
          "name": "stdout"
        }
      ]
    },
    {
      "cell_type": "markdown",
      "metadata": {
        "colab_type": "text",
        "id": "8-wIB0-xRZLY"
      },
      "source": [
        "**Saída esperada:**\n",
        "\n",
        "    Train on 1200 samples, validate on 300 samples\n",
        "    Epoch 1/50\n",
        "    1200/1200 [==============================] - 22s 18ms/sample - loss: 363.4275 - PSNR: 6.1513 - val_loss: 0.2705 - val_PSNR: 12.4118\n",
        "    .\n",
        "    .\n",
        "    .\n",
        "    Epoch 50/50\n",
        "    1200/1200 [==============================] - 12s 10ms/sample - loss: 0.0392 - PSNR: 31.4102 - val_loss: 0.0457 - val_PSNR: 30.2404"
      ]
    },
    {
      "cell_type": "markdown",
      "metadata": {
        "colab_type": "text",
        "id": "Ti3e8GaIXqdN"
      },
      "source": [
        "## 6 - Resultados\n",
        "\n",
        "Execute as células abaixo para visualizar os valores da função de custo e da métrica durante o treinamento."
      ]
    },
    {
      "cell_type": "code",
      "metadata": {
        "colab_type": "code",
        "id": "6CKdUrjCXqdO",
        "outputId": "a31c926b-7933-4d50-8452-68cc47ea311c",
        "colab": {
          "base_uri": "https://localhost:8080/",
          "height": 34
        }
      },
      "source": [
        "# Verificação das variáveis salvas no processo de treinamento\n",
        "history_dict = history.history\n",
        "history_dict.keys()"
      ],
      "execution_count": 15,
      "outputs": [
        {
          "output_type": "execute_result",
          "data": {
            "text/plain": [
              "dict_keys(['loss', 'PSNR', 'val_loss', 'val_PSNR'])"
            ]
          },
          "metadata": {
            "tags": []
          },
          "execution_count": 15
        }
      ]
    },
    {
      "cell_type": "code",
      "metadata": {
        "colab_type": "code",
        "id": "9-5q1lYFXqdQ",
        "outputId": "e9d35668-6fe0-477e-9c4d-7f4970c34259",
        "colab": {
          "base_uri": "https://localhost:8080/",
          "height": 577
        }
      },
      "source": [
        "# Salva custos, métricas e epocas em vetores \n",
        "custo = history_dict['loss']\n",
        "acc = history_dict['PSNR']\n",
        "val_custo = history_dict['val_loss']\n",
        "val_acc = history_dict['val_PSNR']\n",
        "\n",
        "# Cria vetor de épocas\n",
        "epocas = range(1, len(custo) + 1)\n",
        "\n",
        "# Gráfico dos valores de custo\n",
        "plt.plot(epocas, custo, 'bo', label='Custo - treinamento')\n",
        "plt.plot(epocas, val_custo, 'b', label='Custo - validação')\n",
        "plt.title('Valor da função de custo – treinamento e validação')\n",
        "plt.xlabel('Épocas')\n",
        "plt.ylabel('Custo')\n",
        "plt.legend()\n",
        "plt.show()\n",
        "\n",
        "# Gráfico dos valores da métrica\n",
        "plt.plot(epocas, acc, 'bo', label='PSNR- treinamento')\n",
        "plt.plot(epocas, val_acc, 'b', label='SNR - validação')\n",
        "plt.title('Valor da métrica – treinamento e validação')\n",
        "plt.xlabel('Épocas')\n",
        "plt.ylabel('Exatidao')\n",
        "plt.legend()\n",
        "plt.show()"
      ],
      "execution_count": 16,
      "outputs": [
        {
          "output_type": "display_data",
          "data": {
            "image/png": "[encoded data removed]",
            "text/plain": [
              "<Figure size 432x288 with 1 Axes>"
            ]
          },
          "metadata": {
            "tags": [],
            "needs_background": "light"
          }
        },
        {
          "output_type": "display_data",
          "data": {
            "image/png": "[encoded data removed]",
            "text/plain": [
              "<Figure size 432x288 with 1 Axes>"
            ]
          },
          "metadata": {
            "tags": [],
            "needs_background": "light"
          }
        }
      ]
    },
    {
      "cell_type": "markdown",
      "metadata": {
        "colab_type": "text",
        "id": "KdSyZFoKRZLi"
      },
      "source": [
        "### Exercício #6: Resumo dos resultados\n",
        "\n",
        "Usando o método evaluate, na célula abaixo calcule o valor da função de custo e da métrica para os dados de treinamento, validação e teste."
      ]
    },
    {
      "cell_type": "code",
      "metadata": {
        "colab_type": "code",
        "id": "9Jl3I9m_XqdT",
        "outputId": "d51f6a27-fdae-4da4-e576-0abb2f620faa",
        "colab": {
          "base_uri": "https://localhost:8080/",
          "height": 119
        }
      },
      "source": [
        "# PARA VOCÊ FAZER: Calcular resultados finais da função de custo e métrica após treinamento\n",
        "\n",
        "### COMECE AQUI ### (≈ 3 linhas)    \n",
        "custo_e_metricas_train = rna.evaluate(x_train,y_train) \n",
        "custo_e_metricas_val = rna.evaluate(x_val,y_val)\n",
        "custo_e_metricas_test = rna.evaluate(x_test,y_test)\n",
        "### TERMINE AQUI ###\n",
        "\n",
        "print('Resultados - dados treinamento:', custo_e_metricas_train)\n",
        "print('Resultados - dados validação:', custo_e_metricas_val)\n",
        "print('Resultados - dados teste:', custo_e_metricas_val)"
      ],
      "execution_count": 17,
      "outputs": [
        {
          "output_type": "stream",
          "text": [
            "38/38 [==============================] - 4s 100ms/step - loss: 0.0538 - PSNR: 28.2281\n",
            "10/10 [==============================] - 1s 88ms/step - loss: 0.0567 - PSNR: 27.8883\n",
            "10/10 [==============================] - 1s 88ms/step - loss: 0.0569 - PSNR: 27.9013\n",
            "Resultados - dados treinamento: [0.053770165890455246, 28.228126525878906]\n",
            "Resultados - dados validação: [0.05669911205768585, 27.888263702392578]\n",
            "Resultados - dados teste: [0.05669911205768585, 27.888263702392578]\n"
          ],
          "name": "stdout"
        }
      ]
    },
    {
      "cell_type": "markdown",
      "metadata": {
        "colab_type": "text",
        "id": "PP_3Zdo5RZLn"
      },
      "source": [
        "**Saída esperada:**\n",
        "\n",
        "    1200/1200 [==============================] - 4s 3ms/sample - loss: 0.0425 - PSNR: 30.7296\n",
        "    300/300 [==============================] - 1s 3ms/sample - loss: 0.0457 - PSNR: 30.2404\n",
        "    300/300 [==============================] - 1s 3ms/sample - loss: 0.0455 - PSNR: 30.3217\n",
        "    Resultados - dados treinamento: [0.04251373956600825, 30.729645]\n",
        "    Resultados - dados validação: [0.04573282207051913, 30.240355]\n",
        "    Resultados - dados teste: [0.04573282207051913, 30.240355]"
      ]
    },
    {
      "cell_type": "markdown",
      "metadata": {
        "colab_type": "text",
        "id": "xiLUAtSgXqdX"
      },
      "source": [
        "### Visualização do resultado de um exemplo do conjunto de teste\n",
        "\n",
        "Execute a célula abaixo para visualizar as imagens original e a reconstruída de um exemplo do conjunto de teste. Troque o valor da variável `index` para visualizar vários exemplos."
      ]
    },
    {
      "cell_type": "code",
      "metadata": {
        "colab_type": "code",
        "id": "QsAxBTe5XqdX",
        "outputId": "53eb5b7f-8c7d-43c8-981a-c0bbd4d509c1",
        "colab": {
          "base_uri": "https://localhost:8080/",
          "height": 343
        }
      },
      "source": [
        "# Mostra o resultado de uma imagem\n",
        "\n",
        "# Escolhe imagem e expande o número de eixos\n",
        "index = 0\n",
        "xindex = np.expand_dims(x_test[index], axis=0)\n",
        "\n",
        "# Calcula imagem reconstruída pela RNA\n",
        "y_pred = rna.predict(xindex)\n",
        "\n",
        "# Mostra imagens \n",
        "f, pos = plt.subplots(1, 3, figsize=(16, 16))\n",
        "pos[0].imshow(x_test[index])\n",
        "pos[0].set_title('Imagem de entrada')\n",
        "pos[1].imshow(y_pred[0])\n",
        "pos[1].set_title('Imagem recostruida')\n",
        "pos[2].imshow(y_test[index])\n",
        "pos[2].set_title('Imagem original')\n",
        "plt.show()"
      ],
      "execution_count": 18,
      "outputs": [
        {
          "output_type": "stream",
          "text": [
            "Clipping input data to the valid range for imshow with RGB data ([0..1] for floats or [0..255] for integers).\n"
          ],
          "name": "stderr"
        },
        {
          "output_type": "display_data",
          "data": {
            "image/png": "[encoded data removed]",
            "text/plain": [
              "<Figure size 1152x1152 with 3 Axes>"
            ]
          },
          "metadata": {
            "tags": [],
            "needs_background": "light"
          }
        }
      ]
    }
  ]
}